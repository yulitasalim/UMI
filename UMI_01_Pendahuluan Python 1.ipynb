{
 "cells": [
  {
   "cell_type": "markdown",
   "metadata": {},
   "source": [
    "# http://tau-data.id/umi/"
   ]
  },
  {
   "cell_type": "markdown",
   "metadata": {
    "slideshow": {
     "slide_type": "slide"
    }
   },
   "source": [
    "<center><img alt=\"\" src=\"images/0_Cover.jpg\"/></center> \n",
    "\n",
    "## <center><font color=\"blue\">Module 01: Pendahuluan Python I</font></center>\n",
    "<b><center>(C) Taufik Sutanto - 2019</center>\n",
    "<center>tau-data Indonesia ~ https://tau-data.id ~ taufik@tau-data.id</center>"
   ]
  },
  {
   "cell_type": "markdown",
   "metadata": {},
   "source": [
    "## <center><font color=\"blue\">Pendahuluan Python I: Syntax & Logics</font></center>\n",
    "<img alt=\"\" src=\"images/PDS_logo.jpg\" />"
   ]
  },
  {
   "cell_type": "markdown",
   "metadata": {
    "slideshow": {
     "slide_type": "slide"
    }
   },
   "source": [
    "# <font color=\"blue\">Workshop Schedule</font>\n",
    "\n",
    "## <font color=\"green\">Hari ke-1 (Senin, 27 Jan 2020)</font>\n",
    "\n",
    "**Pendahuluan Pemrograman Python**\n",
    "* 09:00 – 10:00 Pendahuluan dan instalasi\n",
    "* 10:00 – 11:00\tDasar Python\n",
    "* 11:00 – 12:00\tPython Logic\n",
    "* 13:00 – 14.00\tException & Function\n",
    "* 14:00 – 15:00\tPenggunaan & Instalasi Modul Python\n",
    "* 15:00 – 16:00\tPython as Numerical computing & Basic Visualizations\n",
    "\n",
    "Studi kasus: **importing and formating data**\n"
   ]
  },
  {
   "cell_type": "markdown",
   "metadata": {},
   "source": [
    "# Outline Module\n",
    "\n",
    "<ol>\n",
    "\t<li><b>Pendahuluan:</b><br />\n",
    "\t* The Zen of Python<br />\n",
    "\t* Python distributions<br />\n",
    "\t* Python editors Jupyter &amp; Spyder<br />\n",
    "\t* Python VS (R, Julia, Matlab, Java, C, PHP, etc)<br />\n",
    "\t* Strength &amp; weakness of Python<br />\n",
    "\t* Google Colab</li>\n",
    "\t<li><b>Python Basics</b>:<br />\n",
    "\t* Syntax Format<br />\n",
    "\t&nbsp;&nbsp; (indenting, multiline, import, deklarasi/inisialisasi)<br />\n",
    "\t* Code descriptor &amp; comments<br />\n",
    "\t* integer, float, bytes, boolean<br />\n",
    "\t* list, tuple, dictionary, (Frozen) Set<br />\n",
    "\t* types : beginner pitfall<br />\n",
    "\t* Slicing in Python</li>\n",
    "    <li><b>Python Logic:</b><br />\n",
    "\t* (Nested &ndash; hierarchical) if Logic<br />\n",
    "\t* Looping For (&amp; list comprehension)<br />\n",
    "\t* Iterator VS Iterable<br />\n",
    "\t* Looping while<br />\n",
    "\t* Breaking loop<br />\n",
    "\t* Python exception<br />\n",
    "\t* TQDM</li>\n",
    "</ol>\n"
   ]
  },
  {
   "cell_type": "markdown",
   "metadata": {},
   "source": [
    "<h1 id=\"Why-Python\">Why Python (Interpreter and-or compiler)</h1>\n",
    "\n",
    "* Free\n",
    "* Community support\n",
    "* Growing in needs & popularity\n",
    "* Portable - Multi Platform\n",
    "* “Fast” http://s.id/4lP \n",
    "* Rich libraries/Modules (termasuk Matematika, Statistika, Data Science/Machine Learning, Big Data, etc)\n",
    "* Easier to learn (learning curve not steep)\n",
    "* OOP, etc\n",
    "\n",
    "<p><img alt=\"\" src=\"images/1_why_python.jpg\" style=\"width: 800px; height: 516px;\" /></p>\n"
   ]
  },
  {
   "cell_type": "markdown",
   "metadata": {},
   "source": [
    "<h2 id=\"Filosofi-&amp;-Sejarah-singkat-Python\">Filosofi &amp; Sejarah singkat Python</h2>\n",
    "\n",
    "<p>Python diperkenalkan di sekitar tahun 1980 oleh&nbsp;<strong>Guido van Rossum</strong>.</p>\n",
    "\n",
    "<p>Python memiliki system yang &quot;mirip&quot; seperti Java (multi platform dan memiliki kernel), namun lebih mudah (tanpa deklarasi variabel seperti matlab). Python juga ringan sehingga supported di IoT/SBC devices.</p>"
   ]
  },
  {
   "cell_type": "markdown",
   "metadata": {},
   "source": [
    "<h1 id=\"Python-Benchmarks\">Python Benchmarks</h1>\n",
    "\n",
    "<img alt=\"\" src=\"images/1_Python_VS_TheRest.png\" />"
   ]
  },
  {
   "cell_type": "markdown",
   "metadata": {},
   "source": [
    "<h2><u><strong>Filosofi Python (The Zen of Python):</strong></u></h2>\n",
    "\n",
    "<ul>\n",
    "\t<li>\n",
    "\t<strong>Beautiful</strong> is better than ugly\n",
    "\t</li>\n",
    "\t<li>Explicit is better than implicit.</li>\n",
    "\t<li>Simple is better than complex.</li>\n",
    "\t<li>Complex is better than complicated.</li>\n",
    "\t<li><strong>Flat</strong> is better than nested.</li>\n",
    "\t<li>Sparse is better than dense.</li>\n",
    "\t<li><strong>Readability</strong> counts.</li>\n",
    "\t<li>Special cases aren&#39;t special enough to break the rules.</li>\n",
    "\t<li>Although practicality beats purity.</li>\n",
    "\t<li><strong>Errors</strong> should never pass silently.</li>\n",
    "\t<li>Unless explicitly <strong>silenced</strong>.</li>\n",
    "\t<li>In the face of ambiguity, refuse the temptation to guess.</li>\n",
    "\t<li>There should be one -- and preferably only one -- obvious way to do it.</li>\n",
    "\t<li>Although that way may not be obvious at first unless you&#39;re Dutch.</li>\n",
    "\t<li>Now is better than never.</li>\n",
    "\t<li>Although never is often better than *right* now.</li>\n",
    "\t<li>If the implementation is hard to explain, it&#39;s a bad idea.</li>\n",
    "\t<li>If the implementation is easy to explain, it may be a good idea.</li>\n",
    "\t<li>Namespaces are one honking great idea -- let&#39;s do more of those!</li>\n",
    "</ul>\n"
   ]
  },
  {
   "cell_type": "markdown",
   "metadata": {},
   "source": [
    "<h2 id=\"Beberapa-kelemahan-Python:\">Beberapa kelemahan Python:</h2>\n",
    "\n",
    "<ol>\n",
    "\t<li>Reference to Variabel (can be a good thing - older version)</li>\n",
    "\t<li>Dependensi dan Versi Module</li>\n",
    "\t<li>Dependensi Compiler C yang spesific dan terkadang tidak konsisten</li>\n",
    "\t<li>Message Parsing (process locked) - di pemrograman paralel</li>\n",
    "</ol>\n"
   ]
  },
  {
   "cell_type": "markdown",
   "metadata": {},
   "source": [
    "# Python Distro\n",
    "\n",
    "* \"Vanilla\" Python: https://www.python.org/\n",
    "* Anaconda : https://www.anaconda.com/distribution/#download-section\n",
    "* WinPython: https://sourceforge.net/projects/winpython/files/ ==> **Recommended** for academics\n",
    "\n",
    "Catt: Kita akan menggunakan **Python 3.6**"
   ]
  },
  {
   "cell_type": "markdown",
   "metadata": {},
   "source": [
    "# Python IDE: Jupyter VS Spyder\n",
    "\n",
    "* Jupyter: Not just Codes\n",
    "* Spyder: IDE - Integrated development environment\n",
    "* PyCharm\n",
    "* NotedPad++\n",
    "* Python hanya membutuhkan (sembarang) text + Terminal (misal command Prompt)"
   ]
  },
  {
   "cell_type": "markdown",
   "metadata": {},
   "source": [
    "# Google Colab\n",
    "\n",
    "* Cocok untuk komputer yang memiliki spesifikasi yang relatif minim. \n",
    "* Free with GPU support (penting saat nanti belajar Data Science/Machine Learning, terutama Deep Learning)\n",
    "* Google Colab dapat digunakan untuk memudahkan instalasi dan menyiapkan environment dalam menjalankan scripts Python untuk berbagai kegiatan seperti workshop, presentasi, kuliah, dsb:\n",
    "\n",
    "* https://colab.research.google.com"
   ]
  },
  {
   "cell_type": "markdown",
   "metadata": {},
   "source": [
    "# Paradigms in Programming\n",
    "\n",
    "* paradigms : ways of how we frame our problems\n",
    "* Bukan berarti cara utk mempersingkat code, tapi lebih ke \" _way of thinking_\"\n",
    "\n",
    "<p><img alt=\"\" src=\"images/7_Programming_Paradigms.PNG\" /></p>"
   ]
  },
  {
   "cell_type": "markdown",
   "metadata": {},
   "source": [
    "<h1 id=\"Paradigma-Pemrograman-dan-Bahasa-Pemrograman\">Paradigma Pemrograman dan Bahasa Pemrograman</h1>\n",
    "\n",
    "<p><img alt=\"\" src=\"images/7_Programming_Paradigms_Ex.png\" style=\"width: 800px; height: 375px;\" /></p>\n"
   ]
  },
  {
   "cell_type": "markdown",
   "metadata": {},
   "source": [
    "<h1 id=\"Paradigma-Pemrograman\">Paradigma Pemrograman</h1>\n",
    "\n",
    "<p><img alt=\"\" src=\"images/7_Taxonomy_Programming_Paradigms.png\" style=\"width: 800px; height: 602px;\" /></p>\n"
   ]
  },
  {
   "cell_type": "markdown",
   "metadata": {},
   "source": [
    "<h1><font color=\"blue\">Sebelum dimulai - Resources tambahan yang sangat baik untuk belajar Python</font></h1>\n",
    "\n",
    "* Python basic: https://www.python-course.eu/python3_history_and_philosophy.php \n",
    "* Data Science Basic: https://scikit-learn.org/stable/tutorial/index.html\n",
    "* Advance Python: http://andy.terrel.us/blog/2012/09/27/starting-with-python/\n",
    "* Visualisasi di Python: https://matplotlib.org/gallery.html"
   ]
  },
  {
   "cell_type": "markdown",
   "metadata": {},
   "source": [
    "# Syntax Python (Mohon untuk di coba di jupyter dan-atau Spyder)\n",
    "\n",
    "* indenting tanpa tanda \"{}\"\n",
    "* akhir code tanpa tanda \";\", tapi bisa juga iya"
   ]
  },
  {
   "cell_type": "code",
   "execution_count": 6,
   "metadata": {},
   "outputs": [
    {
     "data": {
      "text/plain": [
       "(3, 5)"
      ]
     },
     "execution_count": 6,
     "metadata": {},
     "output_type": "execute_result"
    }
   ],
   "source": [
    "# Python tidak membutuhkan tanda semi colon \";\" di akhir setiap baris seperti R, Java, atau C\n",
    "\n",
    "n = 5\n",
    "b = 3\n",
    "\n",
    "b, n"
   ]
  },
  {
   "cell_type": "code",
   "execution_count": 7,
   "metadata": {},
   "outputs": [
    {
     "name": "stdout",
     "output_type": "stream",
     "text": [
      "3 5\n"
     ]
    },
    {
     "data": {
      "text/plain": [
       "(5, 3)"
      ]
     },
     "execution_count": 7,
     "metadata": {},
     "output_type": "execute_result"
    }
   ],
   "source": [
    "# tapi semi-colon bisa juga digunakan di Python untuk mengakhiri \"satu instruksi\"\n",
    "n = 5; b = 3\n",
    "print(b, n)\n",
    "\n",
    "# Atau\n",
    "\n",
    "a, b = 5, 3\n",
    "a, b  # di Jupyter perintah PRINT tidak dibutuhkan jika variabel yang ingin dilihat nilainya berada di baris terakhir."
   ]
  },
  {
   "cell_type": "code",
   "execution_count": 8,
   "metadata": {},
   "outputs": [
    {
     "data": {
      "text/plain": [
       "(3, 5)"
      ]
     },
     "execution_count": 8,
     "metadata": {},
     "output_type": "execute_result"
    }
   ],
   "source": [
    "a = 5\n",
    "b = 3\n",
    "a, b = b,a \n",
    "a, b"
   ]
  },
  {
   "cell_type": "code",
   "execution_count": 12,
   "metadata": {},
   "outputs": [
    {
     "name": "stdout",
     "output_type": "stream",
     "text": [
      "ini menggunakan tab\n",
      "ini menggunakan spasi x4\n",
      "teks ini sudah diluar \"IF\"\n"
     ]
    }
   ],
   "source": [
    "# Python menggunakan \"indenting\" dan bukan tanda kurung seperti banyak bahasa pemrograman lain\n",
    "\n",
    "if True:\n",
    "    print('ini menggunakan tab')\n",
    "    print('ini menggunakan spasi x4')\n",
    "print('teks ini sudah diluar \"IF\"')\n",
    "# inden dinyatakan dengan \"tab\" atau \"spasi 4x\""
   ]
  },
  {
   "cell_type": "code",
   "execution_count": 14,
   "metadata": {},
   "outputs": [
    {
     "name": "stdout",
     "output_type": "stream",
     "text": [
      " \"hi\", text enclosed by '  \n",
      " 'hi', text enclosed by \" \n"
     ]
    }
   ],
   "source": [
    "# Teks di python bisa menggunakan ' atau \"\n",
    "\n",
    "print(' \"hi\", text enclosed by \\'  ')\n",
    "print(\" 'hi', text enclosed by \\\" \")\n",
    "\n",
    "# tanda \"\\\" digunakan untuk merubah character khusus di python menjadi character biasa\n",
    "# Sangat berguna bagi Data Scientist saat menangani data dari database"
   ]
  },
  {
   "cell_type": "markdown",
   "metadata": {},
   "source": [
    "# Syntax Python (Mohon untuk di coba di jupyter dan Spyder)\n",
    "\n",
    "* \"import\" yang baik (misal math/numpy)\n",
    "* import alias\n",
    "* Deklarasi\n",
    "* Deklarasi multiline (it's a matter of preference)"
   ]
  },
  {
   "cell_type": "code",
   "execution_count": 15,
   "metadata": {
    "scrolled": true
   },
   "outputs": [
    {
     "ename": "NameError",
     "evalue": "name 'sin' is not defined",
     "output_type": "error",
     "traceback": [
      "\u001b[1;31m---------------------------------------------------------------------------\u001b[0m",
      "\u001b[1;31mNameError\u001b[0m                                 Traceback (most recent call last)",
      "\u001b[1;32m<ipython-input-15-afbcc558f753>\u001b[0m in \u001b[0;36m<module>\u001b[1;34m\u001b[0m\n\u001b[1;32m----> 1\u001b[1;33m \u001b[0msin\u001b[0m\u001b[1;33m(\u001b[0m\u001b[1;36m0\u001b[0m\u001b[1;33m)\u001b[0m\u001b[1;33m\u001b[0m\u001b[1;33m\u001b[0m\u001b[0m\n\u001b[0m",
      "\u001b[1;31mNameError\u001b[0m: name 'sin' is not defined"
     ]
    }
   ],
   "source": [
    "sin(0)"
   ]
  },
  {
   "cell_type": "code",
   "execution_count": 16,
   "metadata": {},
   "outputs": [
    {
     "name": "stdout",
     "output_type": "stream",
     "text": [
      "1.0\n"
     ]
    },
    {
     "data": {
      "text/plain": [
       "0.0"
      ]
     },
     "execution_count": 16,
     "metadata": {},
     "output_type": "execute_result"
    }
   ],
   "source": [
    "import math\n",
    "import numpy\n",
    "\n",
    "print(numpy.cos(0))\n",
    "math.sin(0)"
   ]
  },
  {
   "cell_type": "code",
   "execution_count": 17,
   "metadata": {},
   "outputs": [
    {
     "name": "stdout",
     "output_type": "stream",
     "text": [
      "0.0015926529164868282\n"
     ]
    },
    {
     "data": {
      "text/plain": [
       "1.0"
      ]
     },
     "execution_count": 17,
     "metadata": {},
     "output_type": "execute_result"
    }
   ],
   "source": [
    "from numpy import cos # import parsial\n",
    "from numpy import sin\n",
    "\n",
    "print(sin(3.14))\n",
    "cos(0)"
   ]
  },
  {
   "cell_type": "code",
   "execution_count": null,
   "metadata": {},
   "outputs": [],
   "source": [
    "# bisa menggunakan \"alias\" dan multi columns\n",
    "import numpy as np, math \n",
    "\n",
    "math.log10(100)"
   ]
  },
  {
   "cell_type": "code",
   "execution_count": 18,
   "metadata": {},
   "outputs": [],
   "source": [
    "# Python (seperti matlab) tidak memerlukan deklarasi variabel\n",
    "a = 2.0"
   ]
  },
  {
   "cell_type": "code",
   "execution_count": 19,
   "metadata": {},
   "outputs": [
    {
     "name": "stdout",
     "output_type": "stream",
     "text": [
      "2.0\n"
     ]
    },
    {
     "data": {
      "text/plain": [
       "float"
      ]
     },
     "execution_count": 19,
     "metadata": {},
     "output_type": "execute_result"
    }
   ],
   "source": [
    "# Untuk mengetahui tipe suatu variabel kita bisa menggunakan perintah \"type\"\n",
    "print(a)\n",
    "type(a)"
   ]
  },
  {
   "cell_type": "code",
   "execution_count": 21,
   "metadata": {},
   "outputs": [
    {
     "name": "stdout",
     "output_type": "stream",
     "text": [
      "<class 'float'>\n"
     ]
    },
    {
     "data": {
      "text/plain": [
       "float"
      ]
     },
     "execution_count": 21,
     "metadata": {},
     "output_type": "execute_result"
    }
   ],
   "source": [
    "# Tapi hati-hati \"juggling variable\"\n",
    "# Analogi kaleng biscuit VS rengginang VS alat jahit\n",
    "\n",
    "a = 3.0\n",
    "print(type(a))\n",
    "type(a/3)\n",
    "# Solusi/Saran - untuk Data Science - atau Pemrograman secara umum"
   ]
  },
  {
   "cell_type": "code",
   "execution_count": null,
   "metadata": {},
   "outputs": [],
   "source": [
    "# ini komentar satu baris\n",
    "\n",
    "\"\"\"\n",
    "ini komentar beberapa baris.\n",
    "Sangat baik untuk memberi keterangan ttg suatu \"fungsi\" di Python\n",
    "Atau keterangan tambahan lainnya\n",
    "Komentar tidak di eksekusi oleh Python\n",
    "\"\"\""
   ]
  },
  {
   "cell_type": "markdown",
   "metadata": {},
   "source": [
    "# Struktur data dasar di Python \n"
   ]
  },
  {
   "cell_type": "code",
   "execution_count": null,
   "metadata": {},
   "outputs": [],
   "source": [
    "# Di Python variabel tidak perlu deklarasi (seperti matlab)\n",
    "a = 2\n",
    "b = 3.4\n",
    "c = 'teks'\n",
    "d = True"
   ]
  },
  {
   "cell_type": "code",
   "execution_count": null,
   "metadata": {
    "slideshow": {
     "slide_type": "slide"
    }
   },
   "outputs": [],
   "source": [
    "# Untuk mengetahui tipe suatu variabel kita bisa menggunakan perintah \"type\"\n",
    "type(a)"
   ]
  },
  {
   "cell_type": "code",
   "execution_count": null,
   "metadata": {},
   "outputs": [],
   "source": [
    "a = 3.4"
   ]
  },
  {
   "cell_type": "code",
   "execution_count": 35,
   "metadata": {},
   "outputs": [
    {
     "data": {
      "text/plain": [
       "[[7, 9], [7, 9, 8, 7]]"
      ]
     },
     "execution_count": 35,
     "metadata": {},
     "output_type": "execute_result"
    }
   ],
   "source": [
    "# \"Array\" dasar di Python bisa berupa List, Tuple, Set atau Dictionary\n",
    "L = [[7, 9], [7,9, 8, 7]]\n",
    "L"
   ]
  },
  {
   "cell_type": "code",
   "execution_count": 39,
   "metadata": {},
   "outputs": [
    {
     "data": {
      "text/plain": [
       "9"
      ]
     },
     "execution_count": 39,
     "metadata": {},
     "output_type": "execute_result"
    }
   ],
   "source": [
    "L[0][1]"
   ]
  },
  {
   "cell_type": "code",
   "execution_count": 43,
   "metadata": {},
   "outputs": [
    {
     "data": {
      "text/plain": [
       "[2, 4, 1, 6, 4, 9, 7, 10]"
      ]
     },
     "execution_count": 43,
     "metadata": {},
     "output_type": "execute_result"
    }
   ],
   "source": [
    "A = [2,4,1,6,4,9,7,10]\n",
    "A"
   ]
  },
  {
   "cell_type": "code",
   "execution_count": 44,
   "metadata": {},
   "outputs": [],
   "source": [
    "A.sort()"
   ]
  },
  {
   "cell_type": "code",
   "execution_count": 47,
   "metadata": {},
   "outputs": [
    {
     "data": {
      "text/plain": [
       "[10, 9, 7, 6, 4, 4, 2, 1]"
      ]
     },
     "execution_count": 47,
     "metadata": {},
     "output_type": "execute_result"
    }
   ],
   "source": [
    "A[::-1]"
   ]
  },
  {
   "cell_type": "code",
   "execution_count": null,
   "metadata": {},
   "outputs": [],
   "source": [
    "# Semua variable di Python adalah object\n",
    "A.sort()\n",
    "A"
   ]
  },
  {
   "cell_type": "code",
   "execution_count": null,
   "metadata": {},
   "outputs": [],
   "source": [
    "A[::-1]"
   ]
  },
  {
   "cell_type": "code",
   "execution_count": 48,
   "metadata": {},
   "outputs": [
    {
     "name": "stdout",
     "output_type": "stream",
     "text": [
      "[1, 2, 4, 4, 6, 7, 9, 10, 33]\n"
     ]
    }
   ],
   "source": [
    "A.append(33)\n",
    "print(A)"
   ]
  },
  {
   "cell_type": "code",
   "execution_count": 49,
   "metadata": {},
   "outputs": [
    {
     "data": {
      "text/plain": [
       "[1, 2, 4, 4, 6, 7, 9, 10, 33, [10, 11]]"
      ]
     },
     "execution_count": 49,
     "metadata": {},
     "output_type": "execute_result"
    }
   ],
   "source": [
    "# Hati-hati\n",
    "A.append([10,11])\n",
    "A"
   ]
  },
  {
   "cell_type": "code",
   "execution_count": 52,
   "metadata": {},
   "outputs": [
    {
     "data": {
      "text/plain": [
       "[2, 4, 1, 6, 4, 9, 7, 10, 99, 33]"
      ]
     },
     "execution_count": 52,
     "metadata": {},
     "output_type": "execute_result"
    }
   ],
   "source": [
    "# Gunakan \"Extend\"\n",
    "A = [2,4,1,6,4,9,7,10]\n",
    "A.extend([99,33])\n",
    "A"
   ]
  },
  {
   "cell_type": "code",
   "execution_count": 53,
   "metadata": {},
   "outputs": [
    {
     "data": {
      "text/plain": [
       "['__add__',\n",
       " '__class__',\n",
       " '__contains__',\n",
       " '__delattr__',\n",
       " '__delitem__',\n",
       " '__dir__',\n",
       " '__doc__',\n",
       " '__eq__',\n",
       " '__format__',\n",
       " '__ge__',\n",
       " '__getattribute__',\n",
       " '__getitem__',\n",
       " '__gt__',\n",
       " '__hash__',\n",
       " '__iadd__',\n",
       " '__imul__',\n",
       " '__init__',\n",
       " '__init_subclass__',\n",
       " '__iter__',\n",
       " '__le__',\n",
       " '__len__',\n",
       " '__lt__',\n",
       " '__mul__',\n",
       " '__ne__',\n",
       " '__new__',\n",
       " '__reduce__',\n",
       " '__reduce_ex__',\n",
       " '__repr__',\n",
       " '__reversed__',\n",
       " '__rmul__',\n",
       " '__setattr__',\n",
       " '__setitem__',\n",
       " '__sizeof__',\n",
       " '__str__',\n",
       " '__subclasshook__',\n",
       " 'append',\n",
       " 'clear',\n",
       " 'copy',\n",
       " 'count',\n",
       " 'extend',\n",
       " 'index',\n",
       " 'insert',\n",
       " 'pop',\n",
       " 'remove',\n",
       " 'reverse',\n",
       " 'sort']"
      ]
     },
     "execution_count": 53,
     "metadata": {},
     "output_type": "execute_result"
    }
   ],
   "source": [
    "dir(A)"
   ]
  },
  {
   "cell_type": "code",
   "execution_count": 54,
   "metadata": {},
   "outputs": [
    {
     "data": {
      "text/plain": [
       "[2, 4, 1, 6, 4, 9, 7, 10, 99, 33]"
      ]
     },
     "execution_count": 54,
     "metadata": {},
     "output_type": "execute_result"
    }
   ],
   "source": [
    "# Alternatif\n",
    "A = [2,4,1,6,4,9,7,10]\n",
    "B = [99, 33]\n",
    "A+B"
   ]
  },
  {
   "cell_type": "code",
   "execution_count": 55,
   "metadata": {},
   "outputs": [
    {
     "data": {
      "text/plain": [
       "[2, 4, 1, 6, 4, 9, 7]"
      ]
     },
     "execution_count": 55,
     "metadata": {},
     "output_type": "execute_result"
    }
   ],
   "source": [
    "A.pop()\n",
    "A"
   ]
  },
  {
   "cell_type": "code",
   "execution_count": 56,
   "metadata": {},
   "outputs": [],
   "source": [
    "# Hapus variabel yang sudah tidak terpakai\n",
    "\n",
    "A = [2,3]\n",
    "del A"
   ]
  },
  {
   "cell_type": "code",
   "execution_count": 57,
   "metadata": {},
   "outputs": [
    {
     "ename": "NameError",
     "evalue": "name 'A' is not defined",
     "output_type": "error",
     "traceback": [
      "\u001b[1;31m---------------------------------------------------------------------------\u001b[0m",
      "\u001b[1;31mNameError\u001b[0m                                 Traceback (most recent call last)",
      "\u001b[1;32m<ipython-input-57-32263a649e41>\u001b[0m in \u001b[0;36m<module>\u001b[1;34m\u001b[0m\n\u001b[0;32m      1\u001b[0m \u001b[1;31m# Error!!...\u001b[0m\u001b[1;33m\u001b[0m\u001b[1;33m\u001b[0m\u001b[1;33m\u001b[0m\u001b[0m\n\u001b[1;32m----> 2\u001b[1;33m \u001b[0mA\u001b[0m\u001b[1;33m\u001b[0m\u001b[1;33m\u001b[0m\u001b[0m\n\u001b[0m",
      "\u001b[1;31mNameError\u001b[0m: name 'A' is not defined"
     ]
    }
   ],
   "source": [
    "# Error!!...\n",
    "A"
   ]
  },
  {
   "cell_type": "markdown",
   "metadata": {},
   "source": [
    "## List VS Tuple"
   ]
  },
  {
   "cell_type": "code",
   "execution_count": 59,
   "metadata": {},
   "outputs": [],
   "source": [
    "A = [9,2,4,1] # List - weight\n",
    "T = (9,2,4,1) # Tuple - imutable"
   ]
  },
  {
   "cell_type": "code",
   "execution_count": 64,
   "metadata": {},
   "outputs": [
    {
     "data": {
      "text/plain": [
       "[33, 2, 4, 44]"
      ]
     },
     "execution_count": 64,
     "metadata": {},
     "output_type": "execute_result"
    }
   ],
   "source": [
    "A[0] = 33\n",
    "A"
   ]
  },
  {
   "cell_type": "code",
   "execution_count": 65,
   "metadata": {},
   "outputs": [
    {
     "ename": "TypeError",
     "evalue": "'tuple' object does not support item assignment",
     "output_type": "error",
     "traceback": [
      "\u001b[1;31m---------------------------------------------------------------------------\u001b[0m",
      "\u001b[1;31mTypeError\u001b[0m                                 Traceback (most recent call last)",
      "\u001b[1;32m<ipython-input-65-d17e3f065454>\u001b[0m in \u001b[0;36m<module>\u001b[1;34m\u001b[0m\n\u001b[1;32m----> 1\u001b[1;33m \u001b[0mT\u001b[0m\u001b[1;33m[\u001b[0m\u001b[1;36m0\u001b[0m\u001b[1;33m]\u001b[0m \u001b[1;33m=\u001b[0m \u001b[1;36m44\u001b[0m\u001b[1;33m\u001b[0m\u001b[1;33m\u001b[0m\u001b[0m\n\u001b[0m\u001b[0;32m      2\u001b[0m \u001b[0mT\u001b[0m\u001b[1;33m\u001b[0m\u001b[1;33m\u001b[0m\u001b[0m\n",
      "\u001b[1;31mTypeError\u001b[0m: 'tuple' object does not support item assignment"
     ]
    }
   ],
   "source": [
    "T[0] = 44\n",
    "T"
   ]
  },
  {
   "cell_type": "code",
   "execution_count": null,
   "metadata": {},
   "outputs": [],
   "source": [
    "Tuple = (1, 5, 7, 2) # immutable\n",
    "Tuple"
   ]
  },
  {
   "cell_type": "code",
   "execution_count": null,
   "metadata": {},
   "outputs": [],
   "source": [
    "Tuple[:3]"
   ]
  },
  {
   "cell_type": "code",
   "execution_count": null,
   "metadata": {},
   "outputs": [],
   "source": [
    "Tuple[0] = 33  # ERROR !!!...."
   ]
  },
  {
   "cell_type": "code",
   "execution_count": 70,
   "metadata": {},
   "outputs": [
    {
     "data": {
      "text/plain": [
       "[2, 3.4, 'teks', [3, True, (4, 5)]]"
      ]
     },
     "execution_count": 70,
     "metadata": {},
     "output_type": "execute_result"
    }
   ],
   "source": [
    "# List/Tuple bisa berisi sembarang (mixed) object di Python\n",
    "# Sehingga List/Tuple sebenarnya bukan (konvensional) array\n",
    "A = [2, 3.4, 'teks', [3, True,(4,5)]]\n",
    "A"
   ]
  },
  {
   "cell_type": "markdown",
   "metadata": {},
   "source": [
    "# Di data science kapan sebaiknya menggunakan List, Tuple, Set, dan dictionary?"
   ]
  },
  {
   "cell_type": "code",
   "execution_count": 67,
   "metadata": {},
   "outputs": [
    {
     "data": {
      "text/plain": [
       "{3, 4, 5, 6, 99}"
      ]
     },
     "execution_count": 67,
     "metadata": {},
     "output_type": "execute_result"
    }
   ],
   "source": [
    "H = set([3,4,5,6,99, 99, 99]) # No order/urutan\n",
    "H # digunakan untuk memeriksa apakah suatu nilai ada di suatu daftar tertentu"
   ]
  },
  {
   "cell_type": "code",
   "execution_count": 68,
   "metadata": {},
   "outputs": [
    {
     "ename": "TypeError",
     "evalue": "'set' object does not support indexing",
     "output_type": "error",
     "traceback": [
      "\u001b[1;31m---------------------------------------------------------------------------\u001b[0m",
      "\u001b[1;31mTypeError\u001b[0m                                 Traceback (most recent call last)",
      "\u001b[1;32m<ipython-input-68-7e3b6fd57362>\u001b[0m in \u001b[0;36m<module>\u001b[1;34m\u001b[0m\n\u001b[1;32m----> 1\u001b[1;33m \u001b[0mH\u001b[0m\u001b[1;33m[\u001b[0m\u001b[1;36m0\u001b[0m\u001b[1;33m]\u001b[0m\u001b[1;33m\u001b[0m\u001b[1;33m\u001b[0m\u001b[0m\n\u001b[0m",
      "\u001b[1;31mTypeError\u001b[0m: 'set' object does not support indexing"
     ]
    }
   ],
   "source": [
    "H[0]"
   ]
  },
  {
   "cell_type": "code",
   "execution_count": 72,
   "metadata": {},
   "outputs": [
    {
     "data": {
      "text/plain": [
       "True"
      ]
     },
     "execution_count": 72,
     "metadata": {},
     "output_type": "execute_result"
    }
   ],
   "source": [
    "2 in A"
   ]
  },
  {
   "cell_type": "code",
   "execution_count": 73,
   "metadata": {},
   "outputs": [
    {
     "data": {
      "text/plain": [
       "True"
      ]
     },
     "execution_count": 73,
     "metadata": {},
     "output_type": "execute_result"
    }
   ],
   "source": [
    "3 in H"
   ]
  },
  {
   "cell_type": "code",
   "execution_count": null,
   "metadata": {},
   "outputs": [],
   "source": [
    "H.add(6)\n",
    "H"
   ]
  },
  {
   "cell_type": "code",
   "execution_count": null,
   "metadata": {},
   "outputs": [],
   "source": [
    "# Converting \"array\"\n",
    "L = list(H) # bisa juga ke \"tuple\" dan sebaliknya\n",
    "L # Perhatikan urutan bisa berubah-rubah dan bahkan berbeda tiap komputer"
   ]
  },
  {
   "cell_type": "code",
   "execution_count": null,
   "metadata": {},
   "outputs": [],
   "source": [
    "L = [3, 3, 4, 2, 2]\n",
    "L = set(L)\n",
    "L"
   ]
  },
  {
   "cell_type": "code",
   "execution_count": 74,
   "metadata": {},
   "outputs": [
    {
     "data": {
      "text/plain": [
       "dict"
      ]
     },
     "execution_count": 74,
     "metadata": {},
     "output_type": "execute_result"
    }
   ],
   "source": [
    "# Tapi hati-hati kesalahan ini\n",
    "L = {}\n",
    "type(L)"
   ]
  },
  {
   "cell_type": "code",
   "execution_count": 75,
   "metadata": {},
   "outputs": [
    {
     "data": {
      "text/plain": [
       "set"
      ]
     },
     "execution_count": 75,
     "metadata": {},
     "output_type": "execute_result"
    }
   ],
   "source": [
    "# Anehnya\n",
    "L = {3, 4, 5, 6, 99}\n",
    "type(L)"
   ]
  },
  {
   "cell_type": "code",
   "execution_count": null,
   "metadata": {},
   "outputs": [],
   "source": [
    "S = set()\n",
    "print(S)\n",
    "type(S)"
   ]
  },
  {
   "cell_type": "code",
   "execution_count": 76,
   "metadata": {},
   "outputs": [
    {
     "data": {
      "text/plain": [
       "True"
      ]
     },
     "execution_count": 76,
     "metadata": {},
     "output_type": "execute_result"
    }
   ],
   "source": [
    "3 in L"
   ]
  },
  {
   "cell_type": "code",
   "execution_count": 87,
   "metadata": {},
   "outputs": [
    {
     "data": {
      "text/plain": [
       "[9, 0, 77]"
      ]
     },
     "execution_count": 87,
     "metadata": {},
     "output_type": "execute_result"
    }
   ],
   "source": [
    "D = {'Ayah': 40, 'ibu':25, 'adek':3, 9:'fgt', 88:[9,0,77]}\n",
    "D[88]"
   ]
  },
  {
   "cell_type": "code",
   "execution_count": 82,
   "metadata": {},
   "outputs": [
    {
     "data": {
      "text/plain": [
       "dict_keys(['Ayah', 'ibu', 'adek', 9, 88])"
      ]
     },
     "execution_count": 82,
     "metadata": {},
     "output_type": "execute_result"
    }
   ],
   "source": [
    "D.keys()"
   ]
  },
  {
   "cell_type": "code",
   "execution_count": 83,
   "metadata": {},
   "outputs": [
    {
     "data": {
      "text/plain": [
       "dict_values([40, 25, 3, 'fgt', [9, 0, 77]])"
      ]
     },
     "execution_count": 83,
     "metadata": {},
     "output_type": "execute_result"
    }
   ],
   "source": [
    "D.values()"
   ]
  },
  {
   "cell_type": "code",
   "execution_count": 85,
   "metadata": {},
   "outputs": [
    {
     "data": {
      "text/plain": [
       "[1, 4, 7, 5]"
      ]
     },
     "execution_count": 85,
     "metadata": {},
     "output_type": "execute_result"
    }
   ],
   "source": [
    "P = {'kanker':[1,4,7,5], 'bukan kanker':[2,3]}\n",
    "P['kanker']\n",
    "# Apa bedanya? Use case?"
   ]
  },
  {
   "cell_type": "code",
   "execution_count": null,
   "metadata": {},
   "outputs": [],
   "source": [
    "type(P)"
   ]
  },
  {
   "cell_type": "code",
   "execution_count": null,
   "metadata": {},
   "outputs": [],
   "source": [
    "P['kanker']"
   ]
  },
  {
   "cell_type": "code",
   "execution_count": null,
   "metadata": {},
   "outputs": [],
   "source": [
    "K = P.keys()\n",
    "K"
   ]
  },
  {
   "cell_type": "code",
   "execution_count": null,
   "metadata": {},
   "outputs": [],
   "source": [
    "'b' in P.keys() # ini efisien karena keys dari dictionary adalah SET\n",
    "# Gunakan ini di coding Data Science.\n",
    "# tidak perlu ubah P.keys() ke set"
   ]
  },
  {
   "cell_type": "code",
   "execution_count": null,
   "metadata": {},
   "outputs": [],
   "source": [
    "P.values()"
   ]
  },
  {
   "cell_type": "code",
   "execution_count": null,
   "metadata": {},
   "outputs": [],
   "source": [
    "umur_bb = {'udin':[45,23], 'safrudin':[23,65]}\n",
    "umur_bb['udin']"
   ]
  },
  {
   "cell_type": "code",
   "execution_count": null,
   "metadata": {},
   "outputs": [],
   "source": [
    "K = ['j','j','b','d','d']\n",
    "len(K)"
   ]
  },
  {
   "cell_type": "code",
   "execution_count": null,
   "metadata": {},
   "outputs": [],
   "source": [
    "len([z for z in K if z=='j'])"
   ]
  },
  {
   "cell_type": "markdown",
   "metadata": {},
   "source": [
    "# hati-hati Boolean Trap di Python\n",
    "\n",
    "Unfortunately it is not as easy in real life as it is in Python to differentiate between **true and false**: \n",
    "The following objects are evaluated by Python as **False**:\n",
    "\n",
    "- numerical zero values (0, 0.0, 0.0+0.0j),\n",
    "- the Boolean value False,\n",
    "- empty strings,\n",
    "- empty lists and empty tuples,\n",
    "- empty dictionaries.\n",
    "- special value \"None\".\n",
    "\n",
    "**All other values are considered to be True**"
   ]
  },
  {
   "cell_type": "code",
   "execution_count": 96,
   "metadata": {},
   "outputs": [
    {
     "name": "stdout",
     "output_type": "stream",
     "text": [
      "benar\n"
     ]
    }
   ],
   "source": [
    "if [0]:\n",
    "    print('benar')"
   ]
  },
  {
   "cell_type": "code",
   "execution_count": null,
   "metadata": {},
   "outputs": [],
   "source": [
    "data = [34, 56]\n",
    "while data:\n",
    "    proses"
   ]
  },
  {
   "cell_type": "code",
   "execution_count": 104,
   "metadata": {},
   "outputs": [
    {
     "name": "stdout",
     "output_type": "stream",
     "text": [
      "benar\n"
     ]
    }
   ],
   "source": [
    "n = 7\n",
    "if n>3:\n",
    "    print('benar')\n",
    "else:\n",
    "    print('salah')"
   ]
  },
  {
   "cell_type": "code",
   "execution_count": null,
   "metadata": {},
   "outputs": [],
   "source": [
    "if 0:\n",
    "    print('salah') # not printing - no output karena \"0\" dianggap False"
   ]
  },
  {
   "cell_type": "code",
   "execution_count": null,
   "metadata": {},
   "outputs": [],
   "source": [
    "A = [33] # status media sosial\n",
    "if A:\n",
    "    print('ada isinya')# not printing - no output karena \"array\" kosong dianggap False"
   ]
  },
  {
   "cell_type": "code",
   "execution_count": 107,
   "metadata": {},
   "outputs": [
    {
     "name": "stdout",
     "output_type": "stream",
     "text": [
      "salah\n"
     ]
    }
   ],
   "source": [
    "if not None: # None adalah \"Null/missing values\" ala Python\n",
    "    print('salah') # not printing - no output karena \"None\" dianggap False"
   ]
  },
  {
   "cell_type": "code",
   "execution_count": 108,
   "metadata": {},
   "outputs": [],
   "source": [
    "if '':\n",
    "    print('salah') # not printing - no output karena \"\" dianggap False"
   ]
  },
  {
   "cell_type": "code",
   "execution_count": 112,
   "metadata": {},
   "outputs": [
    {
     "data": {
      "text/plain": [
       "(3, 4, 5, 3, 4, 7)"
      ]
     },
     "execution_count": 112,
     "metadata": {},
     "output_type": "execute_result"
    }
   ],
   "source": [
    "A = [3, 4, 5, 3, 4, 7]\n",
    "A = tuple(A)\n",
    "A"
   ]
  },
  {
   "cell_type": "code",
   "execution_count": 114,
   "metadata": {},
   "outputs": [
    {
     "data": {
      "text/plain": [
       "{3, 4, 5, 7}"
      ]
     },
     "execution_count": 114,
     "metadata": {},
     "output_type": "execute_result"
    }
   ],
   "source": [
    "A = set(A)\n",
    "A"
   ]
  },
  {
   "cell_type": "code",
   "execution_count": 115,
   "metadata": {},
   "outputs": [
    {
     "data": {
      "text/plain": [
       "[3, 4, 5, 7]"
      ]
     },
     "execution_count": 115,
     "metadata": {},
     "output_type": "execute_result"
    }
   ],
   "source": [
    "A=list(A)\n",
    "A"
   ]
  },
  {
   "cell_type": "markdown",
   "metadata": {},
   "source": [
    "# Usecase logic diatas\n",
    "\n",
    "* Pengolahan data media sosial\n",
    "* Pengolahan data dari database\n",
    "* Not so useful pada data terstruktur yang preprocessed/tidak noisy"
   ]
  },
  {
   "cell_type": "markdown",
   "metadata": {},
   "source": [
    "<img src=\"images/4_meme_0.png\" />"
   ]
  },
  {
   "cell_type": "markdown",
   "metadata": {},
   "source": [
    "<h1 id=\"Pendahuluan-Logika-Percabangan-(Conditional-Statement)---IF-\"><font color=\"blue\">Pendahuluan Logika Percabangan (Conditional Statement) - IF </font></h1>\n",
    "\n",
    "<ul>\n",
    "\t<li>Bentuk (unit) paling dasar dari kecerdasan buatan atau pembelajaran komputer, dahulu disebut sebagai <em>explicit rules machine learning</em> (but of course it&#39;s not AI ... :)).</li>\n",
    "\t<li>Bentuk umumnya:<br />\n",
    "\t<strong>IF</strong> (<em>kondisi</em>) <strong>MAKA</strong> (<em>tindakan</em>)</li>\n",
    "\t<li>Syarat utamanya adalah &quot;kondisi/syarat&quot; harus bernilai Boolean (True/False), sedangkan tindakan bisa apa saja.</li>\n",
    "</ul>\n",
    "<p><img alt=\"\" src=\"images/4_Cond_Statement_as_ML0.png\" style=\"width: 800px ; height: 300px\" /></p>\n"
   ]
  },
  {
   "cell_type": "markdown",
   "metadata": {},
   "source": [
    "<h1><font color=\"blue\">Telaah Komponen Percabangan - IF </font></h1>\n",
    "\n",
    "<p><font color=\"blue\"><img alt=\"\" src=\"images/4_IF_Components_.png\" style=\"width: 800px; height: 424px;\" /></font></p>"
   ]
  },
  {
   "cell_type": "markdown",
   "metadata": {},
   "source": [
    "<h1><font color=\"blue\">Sifat Percabangan:</font></h1>\n",
    "\n",
    "* \"Statement\" adalah variabel bernilai boolean (true/False) atau \n",
    "* \"Statement\" pernyataan bernilai boolean (misal: if x>3)\n",
    "* \"ELSE\" tidak memerlukan Statement\n",
    "* Baik ELSE IF maupun ELSE keduanya pilihan (opsional)/tidak wajib ada.\n",
    "* Jika salah satu Statement bernilai True dan tindakannya dilakukan, maka seluruh baris percabangan dibawahnya **tidak** dilakukan/eksekusi.\n",
    "* Jika percabangan tidak memiliki \"ELSE\" maka ada kemungkinan seluruh \"Actions\" tidak ada yang dilakukan.\n",
    "* Jika percabangan memiliki komponen \"ELSE\" salah satu \"Actions\" pasti dilakukan."
   ]
  },
  {
   "cell_type": "markdown",
   "metadata": {},
   "source": [
    "<h1><font color=\"blue\">Good Practice: kondisi IF \"**sebaiknya**\" bernilai Boolean</font></h1>\n",
    "<p><font color=\"blue\"><img alt=\"\" src=\"images/4_If_Statement_needs_2b_boolean.png\"/></font></p>\n",
    "\n",
    "* Ada pengecualian di beberapa bahasa pemrograman (Python/PHP), seperti yang sudah kita bahas di modul 2."
   ]
  },
  {
   "cell_type": "code",
   "execution_count": 119,
   "metadata": {},
   "outputs": [
    {
     "name": "stdout",
     "output_type": "stream",
     "text": [
      "Masukkan nilai x = 34\n",
      "x bukan negatif\n"
     ]
    }
   ],
   "source": [
    "# Bentuk paling sederhana\n",
    "\n",
    "x = input('Masukkan nilai x = ') # input by default dikenali sebagai \"string/characters\"\n",
    "if int(x)<0: # sehingga perlu dirubah ke \"integer\" dengan perintah \"int\"\n",
    "    print('x negatif')\n",
    "else:\n",
    "    print('x bukan negatif')"
   ]
  },
  {
   "cell_type": "code",
   "execution_count": null,
   "metadata": {},
   "outputs": [],
   "source": [
    "# NOT di Python menggunakan tanda \"!\" atau kata \"not\"\n",
    "x = float(input('Masukkan nilai x = '))\n",
    "if x != 2:\n",
    "    print( (x**2-4)/(x-2) )\n",
    "else:\n",
    "    print( x+2 )"
   ]
  },
  {
   "cell_type": "markdown",
   "metadata": {},
   "source": [
    "# <font color=\"blue\"> Review Boolean statements </font>\n",
    "\n",
    "<img src=\"images/4_meme_A.jpg\"/>"
   ]
  },
  {
   "cell_type": "code",
   "execution_count": 122,
   "metadata": {},
   "outputs": [
    {
     "name": "stdout",
     "output_type": "stream",
     "text": [
      "AND:  False , ATAU:  False\n",
      "OR:   True , ATAU:  True\n"
     ]
    }
   ],
   "source": [
    "# Boolean Statements in Python\n",
    "a = False \n",
    "b = True\n",
    "\n",
    "print(\"AND: \", a & b, \", ATAU: \",  a and b)\n",
    "print(\"OR:  \", a | b, \", ATAU: \",  a or b)"
   ]
  },
  {
   "cell_type": "code",
   "execution_count": 126,
   "metadata": {},
   "outputs": [
    {
     "name": "stdout",
     "output_type": "stream",
     "text": [
      "n = -2\n",
      "genap\n"
     ]
    }
   ],
   "source": [
    "n = int(input('n = '))\n",
    "\n",
    "if n%2==0:\n",
    "    print('genap')\n",
    "elif(n%2==1):\n",
    "    print('ganjil')\n",
    "else:\n",
    "    print('neither')\n"
   ]
  },
  {
   "cell_type": "markdown",
   "metadata": {},
   "source": [
    "# <font color=\"blue\"> Hierarchical Logic in Nested Loop </font>\n",
    "\n",
    "* Ada masalah apa dengan percabangan IF berikut?\n",
    "\n",
    "<img src=\"images/4_hierarchical_logic_wrong_example.png\"/>\n",
    "\n",
    "* Bagaimana memperbaikinya?"
   ]
  },
  {
   "cell_type": "markdown",
   "metadata": {},
   "source": [
    "## <font color=\"blue\"> Exceptions (Try-Except): One of the reason why Python is awesome!</font>\n",
    "\n",
    "* Secara umum sebuah program sebaiknya harus memiliki \"precaution\", just in case input yang tidak diinginkan masuk ke sistem dan mengakibatkan error.\n",
    "* Istilah formal untuk hal ini adalah \"Domain Constraint\".\n",
    "* Pada dasarnya hampir semua bahasa pemrograman (dan database) mampu melakukan domain constraint. Namun di Python dapat dilakukan dengan jauuuuhhh lebih sederhana (simple)"
   ]
  },
  {
   "cell_type": "code",
   "execution_count": 129,
   "metadata": {},
   "outputs": [
    {
     "name": "stdout",
     "output_type": "stream",
     "text": [
      "Please input any integer = hmgf\n"
     ]
    }
   ],
   "source": [
    "# Contoh TRY - Except\n",
    "try:\n",
    "    n = int(input(\"Please input any integer = \"))\n",
    "    print('Terima Kasih')\n",
    "except:\n",
    "    pass"
   ]
  },
  {
   "cell_type": "code",
   "execution_count": null,
   "metadata": {},
   "outputs": [],
   "source": [
    "n = int(input(\"Please input any integer = \"))"
   ]
  },
  {
   "cell_type": "code",
   "execution_count": null,
   "metadata": {},
   "outputs": [],
   "source": [
    "n = 5\n",
    "try:\n",
    "    print( 'nilai fungsi = ', (n**2-1) / ( (n-1)*(n-5)*(n-7) ) )\n",
    "except:\n",
    "    pass\n",
    "    #print(\"I can't divide by 0 ... please try other integer\")"
   ]
  },
  {
   "cell_type": "markdown",
   "metadata": {},
   "source": [
    "# <font color=\"blue\"> Pendahuluan Loop di Python </font>\n",
    "\n",
    "1. Kita akan menjumlahkan bilangan 1 sampai 100.\n",
    "2. Secara umum kita membutuhkan sebuah variable sementara/pembantu (misal *sum*) yang akan menampung hasil penjumlahan sementara.\n",
    "2. Berikutnya kita akan melakukan pengulangan (loop) untuk menjumlahkan setiap suku di deret ke variabel *sum*.\n",
    "3. Secara umum algoritmanya sebagai berikut:\n",
    "\n",
    "**input**: n=100 <br />\n",
    "**output**: Hasil penjumlahan bilangan 1 sampai 100  <br />\n",
    "**Inisialisasi**: sum = 0  <br />\n",
    "**FOR** i=1 to 100 <br />\n",
    "&nbsp;&nbsp;&nbsp;&nbsp;sum = sum + i <br />\n",
    "**END FOR** <br />\n",
    "**RETURN** sum"
   ]
  },
  {
   "cell_type": "markdown",
   "metadata": {},
   "source": [
    "<h1 id=\"-Telaah-Komponen-Loop-\"><font color=\"blue\">Telaah Komponen Loop </font></h1>\n",
    "\n",
    "<p><font color=\"blue\"><img alt=\"\" src=\"images/3_Looping_Components.png\" style=\"width: 800px; height: 424px;\" /></font></p>\n"
   ]
  },
  {
   "cell_type": "markdown",
   "metadata": {},
   "source": [
    "# <font color=\"blue\"> Review Loop </font>\n",
    "\n",
    "1. Dilakukan saat kita ingin melakukan sesuatu berulang-ulang (boleh dengan kondisi yang berbeda-beda - most cases it is)\n",
    "2. Secara umum (default) bertambahnya nilai *index* adalah 1 (satu), kecuali dinyatakan secara eksplisit berbeda.\n",
    "3. Secara umum (terutama dalam algoritma) *index* bersifat incremental.\n",
    "4. Loop Body tidak wajib memuat variabel *index*\n",
    "5. beberapa bahasa pemrograman (misal python) bisa memiliki variabel *index* yang implisit (contoh akan diberikan)\n",
    "6. Secara umum tidak diperkenankan merubah nilai variabel index di dalam loop body.\n",
    "   Dengan kata lain variabel index tidak boleh berada di kiri tanda sama dengan (\"=\") di dalam loop body.\n",
    "8. Loop stopper harus bernilai konstan, boleh berupa angka (skalar) atau variabel dengan nilai skalar.\n",
    "9. Secara umum nilai awal dan nilai akhir index biasanya bilangan cacah (0,1,2,...,N)"
   ]
  },
  {
   "cell_type": "markdown",
   "metadata": {},
   "source": [
    "# <font color=\"blue\"> Loop in Python and why it looks like an algorithm :) </font>\n",
    "\n",
    "* But first, let's talk about \"**range function**\" in Python"
   ]
  },
  {
   "cell_type": "code",
   "execution_count": 132,
   "metadata": {},
   "outputs": [
    {
     "data": {
      "text/plain": [
       "[0, 1, 2, 3, 4, 5, 6]"
      ]
     },
     "execution_count": 132,
     "metadata": {},
     "output_type": "execute_result"
    }
   ],
   "source": [
    "# Fungsi Range di Python\n",
    "list( range(7) ) "
   ]
  },
  {
   "cell_type": "code",
   "execution_count": 150,
   "metadata": {},
   "outputs": [
    {
     "name": "stdout",
     "output_type": "stream",
     "text": [
      "0\n",
      "1\n",
      "2\n",
      "3\n",
      "4\n",
      "5\n",
      "6\n"
     ]
    }
   ],
   "source": [
    "for i in range(7):\n",
    "    print(i)"
   ]
  },
  {
   "cell_type": "code",
   "execution_count": 156,
   "metadata": {},
   "outputs": [
    {
     "data": {
      "text/plain": [
       "[65, 80, 95, 119, 50]"
      ]
     },
     "execution_count": 156,
     "metadata": {},
     "output_type": "execute_result"
    }
   ],
   "source": [
    "A = [45, 60, 75, 99, 30]\n",
    "\n",
    "for i, a in enumerate(A):\n",
    "    A[i] = 20 +a\n",
    "A"
   ]
  },
  {
   "cell_type": "code",
   "execution_count": 157,
   "metadata": {},
   "outputs": [
    {
     "data": {
      "text/plain": [
       "[85, 100, 115, 139, 70]"
      ]
     },
     "execution_count": 157,
     "metadata": {},
     "output_type": "execute_result"
    }
   ],
   "source": [
    "[a+20 for a in A]"
   ]
  },
  {
   "cell_type": "code",
   "execution_count": 155,
   "metadata": {},
   "outputs": [
    {
     "name": "stdout",
     "output_type": "stream",
     "text": [
      "0\n",
      "1\n",
      "2\n",
      "2 0\n",
      "2 1\n",
      "2 2\n",
      "2 3\n",
      "2 4\n"
     ]
    }
   ],
   "source": [
    "for i in range(3):\n",
    "    print(i)\n",
    "for j in range(5):\n",
    "    print(i,j)"
   ]
  },
  {
   "cell_type": "code",
   "execution_count": 139,
   "metadata": {},
   "outputs": [
    {
     "name": "stdout",
     "output_type": "stream",
     "text": [
      "3\n",
      "sdf\n",
      "True\n",
      "(3, 4)\n",
      "99\n"
     ]
    }
   ],
   "source": [
    "A = tuple([3, 'sdf', True, (3,4) , 99])\n",
    "\n",
    "for elemen in A:\n",
    "    print(elemen)"
   ]
  },
  {
   "cell_type": "code",
   "execution_count": 146,
   "metadata": {},
   "outputs": [
    {
     "name": "stdout",
     "output_type": "stream",
     "text": [
      "1\n",
      "dua\n",
      "34\n"
     ]
    }
   ],
   "source": [
    "D = {1:'satu', 'dua':2, 34:True}\n",
    "\n",
    "for k in D.keys():\n",
    "    print(k)"
   ]
  },
  {
   "cell_type": "code",
   "execution_count": 149,
   "metadata": {},
   "outputs": [
    {
     "data": {
      "text/plain": [
       "{'dua': 2, 34: True, 4: 'satu'}"
      ]
     },
     "execution_count": 149,
     "metadata": {},
     "output_type": "execute_result"
    }
   ],
   "source": [
    "del D[3]\n",
    "D[4] = 'satu'\n",
    "D"
   ]
  },
  {
   "cell_type": "code",
   "execution_count": 144,
   "metadata": {},
   "outputs": [
    {
     "name": "stdout",
     "output_type": "stream",
     "text": [
      "satu\n",
      "2\n",
      "True\n"
     ]
    }
   ],
   "source": [
    "for k in D.values():\n",
    "    print(k)"
   ]
  },
  {
   "cell_type": "code",
   "execution_count": 145,
   "metadata": {},
   "outputs": [
    {
     "name": "stdout",
     "output_type": "stream",
     "text": [
      "1 satu\n",
      "dua 2\n",
      "34 True\n"
     ]
    }
   ],
   "source": [
    "for k,v in D.items():\n",
    "    print(k,v)"
   ]
  },
  {
   "cell_type": "code",
   "execution_count": null,
   "metadata": {},
   "outputs": [],
   "source": [
    "list( range(1,8,2) )"
   ]
  },
  {
   "cell_type": "code",
   "execution_count": null,
   "metadata": {},
   "outputs": [],
   "source": [
    "# Bisa juga decrement (TIDAK DISARANKAN - Not Good Practice di Data Science atau pemrograman secara umum)\n",
    "for i in range(30,1,-5):\n",
    "    print(i)"
   ]
  },
  {
   "cell_type": "code",
   "execution_count": null,
   "metadata": {},
   "outputs": [],
   "source": [
    "# Loop dasar di Python:\n",
    "SUM = 0\n",
    "for i in range(1,101):\n",
    "    SUM = SUM + i # SUM += i\n",
    "SUM"
   ]
  },
  {
   "cell_type": "code",
   "execution_count": null,
   "metadata": {},
   "outputs": [],
   "source": [
    "# \"di Python\" Loop boleh dari suatu list/array tanpa variabel index\n",
    "tabel_customer = [(23,43),(9,8),(4,3)]\n",
    "for customer in tabel_customer:\n",
    "    print(customer)"
   ]
  },
  {
   "cell_type": "markdown",
   "metadata": {},
   "source": [
    "<h1><font color=\"blue\">Kasus sederhana data science: Skewness dan Transformasi Data </font></h1>\n",
    "\n",
    "<img alt=\"\" src=\"images/3_data_transformation.png\" style=\"width: 769px; height: 404px;\" />\n"
   ]
  },
  {
   "cell_type": "markdown",
   "metadata": {},
   "source": [
    "<h1><font color=\"blue\">Contoh Inverse Transformation : Cara 1 </font></h1>"
   ]
  },
  {
   "cell_type": "code",
   "execution_count": 159,
   "metadata": {},
   "outputs": [
    {
     "name": "stdout",
     "output_type": "stream",
     "text": [
      "[99, 89, 80, 50, 25, 12, 11, 10, 9, 8, 7, 6, 5, 4, 3, 2, 1, -1]\n",
      "[0.010101010101010102, 0.011235955056179775, 0.0125, 0.02, 0.04, 0.08333333333333333, 0.09090909090909091, 0.1, 0.1111111111111111, 0.125, 0.14285714285714285, 0.16666666666666666, 0.2, 0.25, 0.3333333333333333, 0.5, 1.0, -1.0]\n"
     ]
    }
   ],
   "source": [
    "# Contoh 1 bagaimana mentransform suatu data\n",
    "A = [99,89,80,50,25,12,11,10,9,8,7,6,5,4,3,2,1, -1]\n",
    "B = [] # inisialisasi dengan array (list) kosong\n",
    "for datum in A:\n",
    "    B.append(1/datum) # APPEND adalah perintah untuk menambahkan elemen ke suatu array (list)\n",
    "print(A)\n",
    "print(B)"
   ]
  },
  {
   "cell_type": "code",
   "execution_count": 160,
   "metadata": {},
   "outputs": [
    {
     "data": {
      "text/plain": [
       "[0.010101010101010102,\n",
       " 0.011235955056179775,\n",
       " 0.0125,\n",
       " 0.02,\n",
       " 0.04,\n",
       " 0.08333333333333333,\n",
       " 0.09090909090909091,\n",
       " 0.1,\n",
       " 0.1111111111111111,\n",
       " 0.125,\n",
       " 0.14285714285714285,\n",
       " 0.16666666666666666,\n",
       " 0.2,\n",
       " 0.25,\n",
       " 0.3333333333333333,\n",
       " 0.5,\n",
       " 1.0,\n",
       " -1.0]"
      ]
     },
     "execution_count": 160,
     "metadata": {},
     "output_type": "execute_result"
    }
   ],
   "source": [
    "[1/a for a in A]"
   ]
  },
  {
   "cell_type": "markdown",
   "metadata": {},
   "source": [
    "<h1><font color=\"blue\">Contoh Inverse Transformation : Cara 2 </font></h1>\n",
    "\n",
    "* Cara diatas memiliki kelemahan yang cukup serius ketika datanya besar. Apakah itu? \n",
    "* *Copy Memory*"
   ]
  },
  {
   "cell_type": "code",
   "execution_count": null,
   "metadata": {},
   "outputs": [],
   "source": [
    "# Contoh 2 bagaimana mentransform suatu data\n",
    "# Kita akan menelaah lebih jauh di pertemuan setelah UTS\n",
    "A = [99,89,80,50,25,12,11,10,9,8,7,6,5,4,3,2,1]\n",
    "N = len(A)\n",
    "for i in range(N):\n",
    "    A[i] = 1/A[i] # ini disebut in-place processing. Jauh lebih hemat memory\n",
    "print(A)\n",
    "#print(N)"
   ]
  },
  {
   "cell_type": "code",
   "execution_count": null,
   "metadata": {},
   "outputs": [],
   "source": [
    "# Contoh 3 bagaimana mentransform suatu data\n",
    "# Cara yg spesifik untuk Python (recommended)\n",
    "A = [99,89,80,50,25,12,11,10,9,8,7,6,5,4,3,2,1]\n",
    "for i, a in enumerate(A): # perintah ENUMERATE di Python akan menghasilkan variable \"index\" dari \"a\" \n",
    "    A[i] = 1/a # tetap in-place processing\n",
    "print(A)"
   ]
  },
  {
   "cell_type": "markdown",
   "metadata": {},
   "source": [
    "# <font color=\"blue\"> List Comprehension: It's a Python thing</font>"
   ]
  },
  {
   "cell_type": "code",
   "execution_count": null,
   "metadata": {},
   "outputs": [],
   "source": [
    "['hi' for i in range(3)]"
   ]
  },
  {
   "cell_type": "code",
   "execution_count": 161,
   "metadata": {},
   "outputs": [
    {
     "data": {
      "text/plain": [
       "[6, 8, 2]"
      ]
     },
     "execution_count": 161,
     "metadata": {},
     "output_type": "execute_result"
    }
   ],
   "source": [
    "A = [3,4,1]\n",
    "[x*2 for x in A]"
   ]
  },
  {
   "cell_type": "code",
   "execution_count": null,
   "metadata": {},
   "outputs": [],
   "source": [
    "# Contoh 4 bagaimana mentransform suatu data\n",
    "# Cara yg spesifik untuk Python (Highly recommended)\n",
    "A = [99,89,80,50,25,12,11,10,9,8,7,6,5,4,3,2,1]\n",
    "\n",
    "A = [1/x for x in A]  # List comprehesion secara umum lebih cepat dan sederhana\n",
    "\n",
    "print(A)"
   ]
  },
  {
   "cell_type": "markdown",
   "metadata": {},
   "source": [
    "# <font color=\"blue\"> Serial and Nested Loop </font>\n",
    "\n",
    "1. Serial loop adalah loop yang dilakukan setelah loop sebelumnya selesai\n",
    "2. Nested Loop adalah Loop dalam Loop\n",
    "3. Pada nested loop (loop bersarang), loop terdalam diselesaikan terlebih dahulu sebelum index loop terluar dilakukan.\n",
    "4. Nested loop bisa memiliki level >2\n",
    "5. index (START/END Value) nested loop internal (dalam) boleh dipengaruhi oleh nilai dari index terluar.\n",
    "6. Secara umum nested loop akan meningkatkan jumlah komputasi secara exponensial"
   ]
  },
  {
   "cell_type": "code",
   "execution_count": null,
   "metadata": {},
   "outputs": [],
   "source": [
    "# Implementasi serial loop di Python\n",
    "# Jangan lupa index range di Python mulai dari \"0\", namun jumlah pengulangan tetap \"N\"\n",
    "for i in range(2):\n",
    "    print(i+1, end=', ')\n",
    "for j in range(3):\n",
    "    print(j+1, end=', ')"
   ]
  },
  {
   "cell_type": "code",
   "execution_count": null,
   "metadata": {},
   "outputs": [],
   "source": [
    "# Implementasi Nested loop di Python\n",
    "# Jangan lupa index range di Python mulai dari \"0\", namun jumlah pengulangan tetap \"N\"\n",
    "for i in range(2):\n",
    "    for j in range(3):\n",
    "        print(i,j)"
   ]
  },
  {
   "cell_type": "code",
   "execution_count": 162,
   "metadata": {},
   "outputs": [
    {
     "name": "stdout",
     "output_type": "stream",
     "text": [
      "0 0\n",
      "0 1\n",
      "1 0\n",
      "1 1\n",
      "2 0\n",
      "2 1\n",
      "3 0\n",
      "3 1\n",
      "4 0\n",
      "4 1\n"
     ]
    }
   ],
   "source": [
    "for i in range(5):\n",
    "    for j in range(2):\n",
    "        print(i,j)\n",
    "    if i>3:\n",
    "        break"
   ]
  },
  {
   "cell_type": "markdown",
   "metadata": {},
   "source": [
    "# <font color=\"blue\"> Contoh: menjumlahkan seluruh elemen pada sebuah matrix </font>\n",
    "\n",
    "$$\\begin{bmatrix} 1 & 2 & 3 \\\\ 4 & 5 & 6 \\end{bmatrix}$$\n",
    "\n",
    "**input** : Matrix A <br />\n",
    "**Output**: Penjumlahan seluruh elemen pada matrix <br />\n",
    "**inisialisasi**: sum =0 <br />\n",
    "\n",
    "**FOR** i = 1 to 2: <br />\n",
    "&nbsp;&nbsp;&nbsp;&nbsp;**FOR** j = 1 to 3: <br />\n",
    "&nbsp;&nbsp;&nbsp;&nbsp;&nbsp;&nbsp;&nbsp;&nbsp;sum = sum + A(i,j) <br />\n",
    "&nbsp;&nbsp;&nbsp;&nbsp;**END FOR** <br />\n",
    "**END FOR** <br />"
   ]
  },
  {
   "cell_type": "code",
   "execution_count": 163,
   "metadata": {},
   "outputs": [
    {
     "data": {
      "text/plain": [
       "21"
      ]
     },
     "execution_count": 163,
     "metadata": {},
     "output_type": "execute_result"
    }
   ],
   "source": [
    "# Cara Standard (umum)\n",
    "A = [[1,2,3], [4,5,6]]\n",
    "SUM = 0\n",
    "for i in range(2):\n",
    "    for j in range(3):\n",
    "        SUM = SUM + A[i][j]\n",
    "SUM"
   ]
  },
  {
   "cell_type": "code",
   "execution_count": 164,
   "metadata": {},
   "outputs": [
    {
     "data": {
      "text/plain": [
       "21"
      ]
     },
     "execution_count": 164,
     "metadata": {},
     "output_type": "execute_result"
    }
   ],
   "source": [
    "# Cara Alternatif: Pythonista - kelebihan cara ini tidak bergantung pada ukuran A\n",
    "# PENTING sekali di Data Science\n",
    "A = [[1,2,3], [4,5,6]]\n",
    "SUM = 0\n",
    "for b in A:# untuk setiap baris di matrix\n",
    "    for x in b:# untuk setiap elemen di baris tersebut\n",
    "        SUM = SUM + x\n",
    "SUM"
   ]
  },
  {
   "cell_type": "code",
   "execution_count": 166,
   "metadata": {},
   "outputs": [
    {
     "data": {
      "text/plain": [
       "21"
      ]
     },
     "execution_count": 166,
     "metadata": {},
     "output_type": "execute_result"
    }
   ],
   "source": [
    "# Alternatif lain : mix perintah \"sum\" python dan list comprehension\n",
    "# inilah alasan saya menulis variabel sementara SUM dengan huruf besar, \n",
    "# karena \"sum\" adalah nama fungsi built-in di Python\n",
    "A = [[1,2,3], [4,5,6]]\n",
    "\n",
    "SUM = sum([sum(x) for x in A]) # fungsi f: R^MxN ==> R\n",
    "SUM\n",
    "# kelak ketika kita membahas module \"Numpy\" bahkan ada cara yang lebih sederhana (dan efisien).\n",
    "# Cara ini menunjukkan level keahlian kita di Python untuk Data Science"
   ]
  },
  {
   "cell_type": "code",
   "execution_count": 170,
   "metadata": {},
   "outputs": [
    {
     "data": {
      "text/plain": [
       "21"
      ]
     },
     "execution_count": 170,
     "metadata": {},
     "output_type": "execute_result"
    }
   ],
   "source": [
    "A = [[1,2,3], [4,5,6]]\n",
    "sum([sum(x) for x in A])"
   ]
  },
  {
   "cell_type": "code",
   "execution_count": 171,
   "metadata": {},
   "outputs": [
    {
     "data": {
      "text/plain": [
       "[2, 56]"
      ]
     },
     "execution_count": 171,
     "metadata": {},
     "output_type": "execute_result"
    }
   ],
   "source": [
    "A = [2, 3, 77, 45, 56]\n",
    "[a for a in A if a%2==0]"
   ]
  },
  {
   "cell_type": "code",
   "execution_count": 173,
   "metadata": {},
   "outputs": [
    {
     "data": {
      "text/plain": [
       "21"
      ]
     },
     "execution_count": 173,
     "metadata": {},
     "output_type": "execute_result"
    }
   ],
   "source": [
    "import numpy\n",
    "\n",
    "A = [[1,2,3], [4,5,6]]\n",
    "A = numpy.array(A)\n",
    "numpy.sum(A)\n",
    "# Always faster????... Kapan Numpy tidak lebih cepat/efisien? ... "
   ]
  },
  {
   "cell_type": "code",
   "execution_count": null,
   "metadata": {},
   "outputs": [],
   "source": [
    "# Contoh lain lagi yang menunjukkan proficiency kita akan skill Python untuk Data Science yg dimiliki\n",
    "# For + If Python style : Pythonista!\n",
    "[x for x in range(1,25) if x%2==0]"
   ]
  },
  {
   "cell_type": "markdown",
   "metadata": {},
   "source": [
    "# <font color=\"blue\"> Vector unfolding : Flatten Data </font>\n",
    "\n",
    "* Pada beberapa permasalahan pengolahan data di Data Science atau Machine learning, terkadang kita memerlukan mekanisme unfolding vector.\n",
    "* Contoh: \n",
    " - A = [(1,2), (3,4), (5,3), (9,1), (4,5)]\n",
    " - Unfolded menjadi\n",
    " - A = [1, 2, 3, 4, 5, 3, 9, 1, 4, 5]"
   ]
  },
  {
   "cell_type": "code",
   "execution_count": 176,
   "metadata": {},
   "outputs": [
    {
     "data": {
      "text/plain": [
       "[1, 2, 3, 4, 5, 3, 9, 1, 4, 5]"
      ]
     },
     "execution_count": 176,
     "metadata": {},
     "output_type": "execute_result"
    }
   ],
   "source": [
    "# Aplikasi di Python: unfolding vectors\n",
    "A = [(1,2), (3,4), (5,3), (9,1), (4,5)]\n",
    "[x for y in A for x in y] # Double list comprehension, kalau bingung bacanya dari FOR kanan ke FOR kiri"
   ]
  },
  {
   "cell_type": "code",
   "execution_count": 178,
   "metadata": {},
   "outputs": [
    {
     "data": {
      "text/plain": [
       "['sedang', 'di', 'lab', 'bahas', 'python']"
      ]
     },
     "execution_count": 178,
     "metadata": {},
     "output_type": "execute_result"
    }
   ],
   "source": [
    "kalimat = 'sedang di lab bahas python'\n",
    "A = kalimat.split()\n",
    "A"
   ]
  },
  {
   "cell_type": "code",
   "execution_count": 179,
   "metadata": {},
   "outputs": [
    {
     "data": {
      "text/plain": [
       "[6, 2, 3, 5, 6]"
      ]
     },
     "execution_count": 179,
     "metadata": {},
     "output_type": "execute_result"
    }
   ],
   "source": [
    "[len(a) for a in kalimat.split()]"
   ]
  },
  {
   "cell_type": "code",
   "execution_count": 194,
   "metadata": {},
   "outputs": [
    {
     "name": "stdout",
     "output_type": "stream",
     "text": [
      "Masukkan array (sekumpulan biangan) dipisahkan dengan spasi :12 34 5 23 12\n",
      "print panjang A = 5\n"
     ]
    },
    {
     "data": {
      "text/plain": [
       "[5, 12, 12, 23, 34]"
      ]
     },
     "execution_count": 194,
     "metadata": {},
     "output_type": "execute_result"
    }
   ],
   "source": [
    "# Contoh Cara input data dalam bentuk \"List/Array\" di Python\n",
    "A = input('Masukkan array (sekumpulan biangan) dipisahkan dengan spasi :')\n",
    "A = [int(x) for x in A.split()]\n",
    "A.sort()\n",
    "N = len(A)\n",
    "print('print panjang A =', N)\n",
    "A"
   ]
  },
  {
   "cell_type": "code",
   "execution_count": 196,
   "metadata": {},
   "outputs": [
    {
     "data": {
      "text/plain": [
       "12"
      ]
     },
     "execution_count": 196,
     "metadata": {},
     "output_type": "execute_result"
    }
   ],
   "source": [
    "if N%2==0:# genap\n",
    "    median = (A[int(N/2)-1] + A[int(N/2)])/2\n",
    "else:# ganjil\n",
    "    median = A[int(N/2)-1]\n",
    "    \n",
    "median    "
   ]
  },
  {
   "cell_type": "markdown",
   "metadata": {},
   "source": [
    "<h1 id=\"-Latihan-3:\"><font color=\"blue\">Latihan:</font></h1>\n",
    "\n",
    "<ul>\n",
    "\t<li>Buatlah sebuah program dengan input sembarang array <strong>A</strong>&nbsp;dan output <strong>median</strong> dari A</li>\n",
    "</ul>\n"
   ]
  },
  {
   "cell_type": "markdown",
   "metadata": {},
   "source": [
    "# <font color=\"blue\"> Latihan</font>\n",
    "\n",
    "diberikan Matrix A sebagai berikut:\n",
    "$$\\begin{bmatrix} 1 & 0 & 3 \\\\ 4 & 5 & 1 \\\\ 1 & 2 & 1 \\end{bmatrix}$$\n",
    "Buatlah Python code yang akan menghitung jumlah seluruh elemen matrik bagian segitiga bawah.\n",
    "\n",
    "**Catatan**: \n",
    "- Bisakah dilakukan tanpa menggunakan logika \"IF\" dan fungsi."
   ]
  },
  {
   "cell_type": "code",
   "execution_count": 206,
   "metadata": {},
   "outputs": [
    {
     "name": "stdout",
     "output_type": "stream",
     "text": [
      "[0, 1]\n",
      "[1, 2, 3, 4]\n",
      "[1, 3]\n",
      "[5, 3, 1, -1]\n"
     ]
    }
   ],
   "source": [
    "print(list(range(2)))\n",
    "print(list(range(1, 5)))\n",
    "print(list(range(1, 5, 2)))\n",
    "print(list(range(5, -3, -2)))"
   ]
  },
  {
   "cell_type": "code",
   "execution_count": 211,
   "metadata": {},
   "outputs": [
    {
     "data": {
      "text/plain": [
       "11"
      ]
     },
     "execution_count": 211,
     "metadata": {},
     "output_type": "execute_result"
    }
   ],
   "source": [
    "A = [[1,0,3], [4,5,1], [1,2,1]]\n",
    "jumlah = 0\n",
    "for i in range(3):\n",
    "    for j in range(i,3):\n",
    "        jumlah = jumlah + A[i][j]\n",
    "jumlah"
   ]
  },
  {
   "cell_type": "code",
   "execution_count": null,
   "metadata": {},
   "outputs": [],
   "source": [
    "A = [[1,0,3], [4,5,1], [1,2,1]]\n"
   ]
  },
  {
   "cell_type": "markdown",
   "metadata": {},
   "source": [
    "<h1 id=\"-Pendahuluan-Indefinite-Loop---While-\"><font color=\"blue\">Pendahuluan Indefinite Loop - While </font></h1>\n",
    "\n",
    "<ol>\n",
    "\t<li>While loop digunakan saat kita hendak melakukan perulangan/iterasi, namun tidak mengetahui secara pasti jumlah perulangannya.</li>\n",
    "\t<li>Kondisi di perulangan = pencabangan IF, yaitu bernilai boolean</li>\n",
    "\t<li>Kondisi di While biasa disebut Stopper</li>\n",
    "\t<li>Stopper dapat diletakkan di awal atau akhir (Repeat-Until)</li>\n",
    "\t<li>Di dalam &quot;loop body&quot; wajib memuat suatu mekanisme yang mengakibatkan suatu saat Stopper bernilai True.</li>\n",
    "\t<li>Precautions sangat disarankan di While loop dengan memasukkan jumlah iterasi maksimum</li>\n",
    "</ol>\n",
    "\n",
    "<p><img alt=\"\" src=\"images/5_while_loop_Schema.png\" style=\"width: 280px; height: 225px;\" /></p>\n"
   ]
  },
  {
   "cell_type": "code",
   "execution_count": null,
   "metadata": {},
   "outputs": [],
   "source": [
    "# Contoh Looping While di Python\n",
    "n=7\n",
    "while n>0:\n",
    "    print(n, end = ', ')\n",
    "    n=n-1"
   ]
  },
  {
   "cell_type": "code",
   "execution_count": null,
   "metadata": {},
   "outputs": [],
   "source": [
    "for i in range(1,8):\n",
    "    print(8-i)"
   ]
  },
  {
   "cell_type": "markdown",
   "metadata": {},
   "source": [
    "Semua Looping **For** dapat digantikan dengan Looping **While**\n",
    "\n",
    "Namun hal tsb adalah BAD PRACTICE (why?) dan merupakan ciri programmer yang tidak kompeten"
   ]
  },
  {
   "cell_type": "markdown",
   "metadata": {},
   "source": [
    "<h1 id=\"While---Else-:-Why?-Usecase-Scenario\">While - Else : Why? Usecase Scenario</h1>\n",
    "<img alt=\"\" src=\"images/5_While-Else.png\" style=\"width: 630px; height: 300px;\" />\n",
    "\n",
    "* Metode-metode di Statistik/Data Science yang tidak konvex/Tidak pasti konvergen: misal Neural network/Deep Learning.\n",
    "* "
   ]
  },
  {
   "cell_type": "code",
   "execution_count": 213,
   "metadata": {},
   "outputs": [
    {
     "name": "stdout",
     "output_type": "stream",
     "text": [
      "Saya menyimpan sebuah bilangan bulat positif antara 0-10, coba tebak angka saya\n",
      "Coba tebak (lagi): 3\n",
      "angka itu terlalu besar\n",
      "Coba tebak (lagi): -1\n",
      "yah, kok nyerah?\n"
     ]
    }
   ],
   "source": [
    "# Contoh Umum/Sederhana: Permainan tebak angka\n",
    "# masukkan angka negatif atau 0 jika ingin menyerah\n",
    "from random import random as rand\n",
    "n = 10\n",
    "acak = int(n * rand()) + 1\n",
    "tebakan = 0\n",
    "print(\"Saya menyimpan sebuah bilangan bulat positif antara 0-10, coba tebak angka saya\")\n",
    "while tebakan != acak:\n",
    "    tebakan = int(input(\"Coba tebak (lagi): \"))\n",
    "    if tebakan > 0:\n",
    "        if tebakan > acak:\n",
    "            print(\"angka itu terlalu besar\")\n",
    "        elif tebakan < acak:\n",
    "            print(\"Tebakannya terlalu kecil\")\n",
    "    else:\n",
    "        print(\"yah, kok nyerah?\")\n",
    "        break\n",
    "else:\n",
    "    print(\"Selamat, anda menebak dengan benar\")"
   ]
  },
  {
   "cell_type": "markdown",
   "metadata": {},
   "source": [
    "# TQDM awesome modul untuk loop\n",
    "\n",
    "* Sangat disarankan di data science terutama untuk proses yg kompleks atau data yang besar"
   ]
  },
  {
   "cell_type": "code",
   "execution_count": 214,
   "metadata": {},
   "outputs": [
    {
     "name": "stderr",
     "output_type": "stream",
     "text": [
      "100%|██████████████████████████████████████████████████████████████████████████████████| 10/10 [00:10<00:00,  1.00s/it]\n"
     ]
    }
   ],
   "source": [
    "from tqdm import tqdm # juga berfungsi di terminal unix/command prompt\n",
    "from time import sleep\n",
    "\n",
    "for i in tqdm(range(10)):\n",
    "    sleep(1) # menunggu 1 detik"
   ]
  },
  {
   "cell_type": "markdown",
   "metadata": {
    "slideshow": {
     "slide_type": "slide"
    }
   },
   "source": [
    "# <center><font color=\"blue\"> End of Module 01\n",
    "\n",
    "<hr />\n",
    "<p><img alt=\"\" src=\"images/meme_4.png\" /></p>"
   ]
  }
 ],
 "metadata": {
  "celltoolbar": "Slideshow",
  "kernelspec": {
   "display_name": "Python 3",
   "language": "python",
   "name": "python3"
  },
  "language_info": {
   "codemirror_mode": {
    "name": "ipython",
    "version": 3
   },
   "file_extension": ".py",
   "mimetype": "text/x-python",
   "name": "python",
   "nbconvert_exporter": "python",
   "pygments_lexer": "ipython3",
   "version": "3.6.8"
  }
 },
 "nbformat": 4,
 "nbformat_minor": 2
}
