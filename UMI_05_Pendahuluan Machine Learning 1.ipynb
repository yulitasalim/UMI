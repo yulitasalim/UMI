{
 "cells": [
  {
   "cell_type": "markdown",
   "metadata": {},
   "source": [
    "# http://tau-data.id/umi/"
   ]
  },
  {
   "cell_type": "markdown",
   "metadata": {
    "slideshow": {
     "slide_type": "slide"
    }
   },
   "source": [
    "<center><img alt=\"\" src=\"images/0_Cover.jpg\"/></center> \n",
    "\n",
    "## <center><font color=\"blue\">Modul 05: Pendahuluan Machine Learning 01</font></center>\n",
    "<b><center>(C) Taufik Sutanto - 2019</center>\n",
    "<center>tau-data Indonesia ~ https://tau-data.id ~ taufik@tau-data.id</center>"
   ]
  },
  {
   "cell_type": "markdown",
   "metadata": {},
   "source": [
    "## <center><font color=\"blue\">Pendahuluan Machine Learning 1: Unsupervised Learning & Regresi</font></center>\n",
    "<img alt=\"\" src=\"images/PDS_logo.jpg\" />"
   ]
  },
  {
   "cell_type": "markdown",
   "metadata": {
    "slideshow": {
     "slide_type": "slide"
    }
   },
   "source": [
    "## <font color=\"green\">Hari ke-3 (Rabu, 29 Jan 2020)</font>\n",
    "\n",
    "**Pendahuluan Data Science II**\n",
    "* 09:00 – 11:00 Unsupervised Learning & Regresi\n",
    "* 11:00 – 12:00\tLatihan\n",
    "* 13:00 – 15:00\tSupervised Learning - Klasifikasi\n",
    "* 15:00 – 16.00\tLatihan Klasifikasi\n",
    "\n",
    "Studi Kasus: **Human Resources Analytics**"
   ]
  },
  {
   "cell_type": "markdown",
   "metadata": {
    "slideshow": {
     "slide_type": "subslide"
    }
   },
   "source": [
    "## Outline:\n",
    "\n",
    "* Pendahuluan Clustering\n",
    "* Centroid-Based Clustering: k-Means, k-Means++, Minibatch k-means\n",
    "* Evaluasi Centroid-based clusetering: MSE dan Silhouette Coefficient\n",
    "* Optimal Clusters?\n",
    "* Visualisasi dan Interpretasi Centroid Based Clustering\n",
    "* Density Based Clustering dan Multivariate outlier Detection (DBSCAN)\n",
    "* Pendahuluan Hierarchical Clustering\n",
    "\n",
    "* Hierarchical Links"
   ]
  },
  {
   "cell_type": "code",
   "execution_count": null,
   "metadata": {},
   "outputs": [],
   "source": [
    "!wget https://raw.githubusercontent.com/taufikedys/UMI/master/tau_unsup.py\n",
    "!pip install umap-learn\n",
    "!mkdir data\n",
    "!wget -P data/ https://raw.githubusercontent.com/taufikedys/umi/master/data/Mall_Customers.csv"
   ]
  },
  {
   "cell_type": "code",
   "execution_count": null,
   "metadata": {
    "slideshow": {
     "slide_type": "subslide"
    }
   },
   "outputs": [],
   "source": [
    "# Importing Modules untuk Notebook ini\n",
    "import warnings; warnings.simplefilter('ignore')\n",
    "import time, umap, numpy as np, matplotlib.pyplot as plt, pandas as pd, seaborn as sns\n",
    "import tau_unsup as tau, scipy.stats as stats\n",
    "import scipy, itertools\n",
    "from matplotlib.colors import ListedColormap\n",
    "from sklearn import cluster, datasets\n",
    "from tqdm import tqdm_notebook as tqdm\n",
    "from sklearn.metrics.pairwise import pairwise_distances_argmin\n",
    "from sklearn.preprocessing import StandardScaler\n",
    "from itertools import cycle, islice\n",
    "from sklearn.metrics import silhouette_score as siluet\n",
    "from sklearn.metrics.cluster import homogeneity_score as purity\n",
    "from sklearn.metrics import normalized_mutual_info_score as NMI\n",
    "from sklearn.metrics import confusion_matrix, classification_report\n",
    "from scipy import stats\n",
    "from sklearn import metrics\n",
    "from sklearn.preprocessing import StandardScaler, MinMaxScaler\n",
    "from sklearn.preprocessing import LabelEncoder\n",
    "from sklearn import preprocessing\n",
    "from sklearn.model_selection import train_test_split\n",
    "from sklearn.linear_model import LogisticRegression\n",
    "from sklearn.metrics import accuracy_score\n",
    "from sklearn.datasets import load_breast_cancer, load_iris\n",
    "from sklearn.metrics import precision_score, recall_score, f1_score\n",
    "from sklearn.model_selection import cross_val_score\n",
    "plt.style.use('bmh'); sns.set();sns.set(style=\"ticks\", color_codes=True)\n",
    "random_state = 170"
   ]
  },
  {
   "cell_type": "markdown",
   "metadata": {
    "slideshow": {
     "slide_type": "slide"
    }
   },
   "source": [
    "<p><img alt=\"\" src=\"images/clustering_Quotes.png\" style=\"width: 800px; height: 118px;\" /></p>\n"
   ]
  },
  {
   "cell_type": "markdown",
   "metadata": {
    "slideshow": {
     "slide_type": "subslide"
    }
   },
   "source": [
    "# Clustering?\n",
    "\n",
    "<p><img alt=\"\" src=\"images/5_what_is_clustering.png\" style=\"height:457px; width:864px\" /></p>"
   ]
  },
  {
   "cell_type": "markdown",
   "metadata": {
    "slideshow": {
     "slide_type": "subslide"
    }
   },
   "source": [
    "## Definition\n",
    "\n",
    "Clustering is as a process of finding group structures within data such that each instance within a group is similar to one another and dissimilar to instances in other groups [1]\n",
    "\n",
    "[1]. Jain, A.K., Data clustering: 50 years beyond K-means. Pattern Recognition Letters, 2010. 31(8): p. 651-666."
   ]
  },
  {
   "cell_type": "markdown",
   "metadata": {
    "slideshow": {
     "slide_type": "subslide"
    }
   },
   "source": [
    "## Applications\n",
    "\n",
    "Clustering analysis applications can be divided into two broad categories, clustering for utility (e.g., data compression and indexing) and clustering for understanding data (e.g., finding latent structures or insights in the data) [2]. Methods developed in this subject (Data Mining) fall into the second category.\n",
    "\n",
    "[2]. Pang-Ning, T., M. Steinbach, and V. Kumar, Introduction to data mining. Vol. 74. 2006, Boston, MA, USA: Addison-Wesley Longman Publishing Co., Inc."
   ]
  },
  {
   "cell_type": "markdown",
   "metadata": {},
   "source": [
    "## Realworld Clustering Applications\n",
    "\n",
    "* Recommendation engines\n",
    "* Market segmentation\n",
    "* Social network analysis\n",
    "* Search result grouping\n",
    "* Medical imaging\n",
    "* Image segmentation\n",
    "* Anomaly detection"
   ]
  },
  {
   "cell_type": "markdown",
   "metadata": {
    "slideshow": {
     "slide_type": "subslide"
    }
   },
   "source": [
    "<p><img alt=\"\" src=\"images/5_Clus-Clas.png\" style=\"height:500px; width:766px\" /></p>"
   ]
  },
  {
   "cell_type": "markdown",
   "metadata": {
    "slideshow": {
     "slide_type": "subslide"
    }
   },
   "source": [
    "<p><img alt=\"\" src=\"images/5_types_of_clustering.png\" style=\"height:500px; width:719px\" /></p>"
   ]
  },
  {
   "cell_type": "markdown",
   "metadata": {
    "slideshow": {
     "slide_type": "subslide"
    }
   },
   "source": [
    "# Tantangan Clustering\n",
    "\n",
    "* Computational Complexity\n",
    "* Evaluation\n",
    "* Interpretation\n",
    "* Heavily depends on domain knowledge"
   ]
  },
  {
   "cell_type": "markdown",
   "metadata": {},
   "source": [
    "<p><img alt=\"\" src=\"images/iris_flower.png\" /></p>"
   ]
  },
  {
   "cell_type": "code",
   "execution_count": null,
   "metadata": {},
   "outputs": [],
   "source": [
    "# Kita akan menggunakan 2 data: Iris\n",
    "data = load_iris()\n",
    "type(data)"
   ]
  },
  {
   "cell_type": "code",
   "execution_count": null,
   "metadata": {},
   "outputs": [],
   "source": [
    "print(data.DESCR)"
   ]
  },
  {
   "cell_type": "code",
   "execution_count": null,
   "metadata": {},
   "outputs": [],
   "source": [
    "print(data.feature_names)\n",
    "print(data.target_names)"
   ]
  },
  {
   "cell_type": "code",
   "execution_count": null,
   "metadata": {},
   "outputs": [],
   "source": [
    "X_labels = data.feature_names\n",
    "Y_labels = data.target_names\n",
    "X = data.data\n",
    "y = data.target\n",
    "print(X.shape, len(y))"
   ]
  },
  {
   "cell_type": "code",
   "execution_count": null,
   "metadata": {},
   "outputs": [],
   "source": [
    "print(y)"
   ]
  },
  {
   "cell_type": "code",
   "execution_count": null,
   "metadata": {},
   "outputs": [],
   "source": [
    "print(X)"
   ]
  },
  {
   "cell_type": "markdown",
   "metadata": {},
   "source": [
    "<h2>k-Means</h2>\n",
    "\n",
    "<p><img alt=\"\" src=\"images/5_Kmeans_animation.gif\" style=\"height:300px; width:300px\" /></p>\n"
   ]
  },
  {
   "cell_type": "markdown",
   "metadata": {},
   "source": [
    "<p><img alt=\"\" src=\"images/5_kmeans_Algorithm.png\" style=\"height:229px; width:430px\" /></p>"
   ]
  },
  {
   "cell_type": "markdown",
   "metadata": {},
   "source": [
    "## How it works\n",
    "\n",
    "* Numerically\n",
    "* Visually: https://www.learndatasci.com/tutorials/k-means-clustering-algorithms-python-intro/ "
   ]
  },
  {
   "cell_type": "markdown",
   "metadata": {},
   "source": [
    "<ul>\n",
    "\t<li>\n",
    "\t<h3>Apakah pengaruh menggunakan centroid dan algoritma ini terhadap hasil cluster?</h3>\n",
    "\t</li>\n",
    "\t<li>\n",
    "\t<h3>k-Means tidak Robust terhadap outlier, Why? ==&gt; lalu apa yang sebaiknya dilakukan?</h3>\n",
    "\t</li>\n",
    "</ul>"
   ]
  },
  {
   "cell_type": "code",
   "execution_count": null,
   "metadata": {},
   "outputs": [],
   "source": [
    "# k-means: http://scikit-learn.org/stable/modules/generated/sklearn.cluster.KMeans.html#sklearn.cluster.KMeans\n",
    "\n",
    "k = 3\n",
    "km = cluster.KMeans(n_clusters=k, init='random', max_iter=300, tol=0.0001, n_jobs=-1, random_state = random_state)\n",
    "km.fit(X)\n",
    "'Done'"
   ]
  },
  {
   "cell_type": "code",
   "execution_count": null,
   "metadata": {},
   "outputs": [],
   "source": [
    "# Hasil clusteringnya\n",
    "C_km = km.predict(X)\n",
    "C_km\n",
    "# Apa beda label ini dengan klasifikasi (\"labels\")?"
   ]
  },
  {
   "cell_type": "code",
   "execution_count": null,
   "metadata": {},
   "outputs": [],
   "source": [
    "plot = sns.countplot(C_km)"
   ]
  },
  {
   "cell_type": "code",
   "execution_count": null,
   "metadata": {},
   "outputs": [],
   "source": [
    "X2D = umap.UMAP(n_neighbors=5, min_dist=0.3).fit_transform(X)\n",
    "fig, ax = plt.subplots()\n",
    "ax.scatter(X2D[:,0], X2D[:,1], c=C_km)\n",
    "plt.show()"
   ]
  },
  {
   "cell_type": "markdown",
   "metadata": {},
   "source": [
    "<h3 id=\"k-Means++\">k-Means++</h3>\n",
    "\n",
    "<p>Original <em>k-means</em> memulai algoritmanya dengan mengacak centroid awal dan k-means tidak &quot;robust&quot; terhadap centroid awal ini (apa artinya?).</p>\n",
    "\n",
    "<p>&nbsp;</p>\n",
    "\n",
    "<p><strong>k-Means akan menghasilkan hasil yang berbeda-beda jika di-run beberapa kali!....</strong></p>\n",
    "\n",
    "<p>k-Means++ &quot;mengatasi&quot; hal ini:</p>\n",
    "\n",
    "<p>inisialisasi centroid tidak random, tapi dengan menghitung probabilitas terbaik bagi centroid awal.</p>\n",
    "\n",
    "<p>Keuntungan selain lebih robust, biasanya iterasi yang dibutuhkan jauh lebih sedikit ketimbang k-means++</p>\n",
    "\n",
    "<p>Reference :&nbsp;<a href=\"http://ilpubs.stanford.edu:8090/778/1/2006-13.pdf\" target=\"_blank\">http://ilpubs.stanford.edu:8090/778/1/2006-13.pdf</a>&nbsp;</p>\n"
   ]
  },
  {
   "cell_type": "code",
   "execution_count": null,
   "metadata": {},
   "outputs": [],
   "source": [
    "# k-means++ clustering http://scikit-learn.org/stable/modules/generated/sklearn.cluster.KMeans.html\n",
    "kmPP = cluster.KMeans(n_clusters=k, init='k-means++', max_iter=300, tol=0.0001, n_jobs=-1, random_state = random_state)\n",
    "kmPP.fit(X)\n",
    "C_kmpp = kmPP.predict(X)\n",
    "\n",
    "plot = sns.countplot(C_kmpp)\n",
    "C_kmpp[:10]"
   ]
  },
  {
   "cell_type": "code",
   "execution_count": null,
   "metadata": {},
   "outputs": [],
   "source": [
    "fig, ax = plt.subplots()\n",
    "plot = ax.scatter(X2D[:,0], X2D[:,1], c=C_kmpp)"
   ]
  },
  {
   "cell_type": "markdown",
   "metadata": {},
   "source": [
    "<h3>Mini-Batch k-Means:</h3>\n",
    "\n",
    "<p><img alt=\"\" src=\"images/5_minibatch.JPG\" style=\"height:350px; width:458px\" /></p>\n",
    "\n",
    "<p>&nbsp;</p>\n",
    "\n",
    "<p><strong>Referensi</strong>: *Sculley, D. (2010, April). Web-scale k-means clustering. In&nbsp;<em>Proceedings of the 19th international conference on World wide web</em>&nbsp;(pp. 1177-1178). ACM.</p>\n",
    "\n",
    "<p>* Google</p>\n"
   ]
  },
  {
   "cell_type": "code",
   "execution_count": null,
   "metadata": {},
   "outputs": [],
   "source": [
    "# MiniBatch k-Means \n",
    "# http://scikit-learn.org/stable/modules/generated/sklearn.cluster.MiniBatchKMeans.html\n",
    "# minibatch \"tidak bisa parallel\"!!!...\n",
    "# parameter penting km = batch_size ... pada aplikasi sesungguhnya disarankan \"minimal\" 3xk\n",
    "mbkm = cluster.MiniBatchKMeans(n_clusters=k, init='random', max_iter=300, tol=0.0001, random_state = random_state) \n",
    "mbkm.fit(X)\n",
    "\n",
    "C_mbkm = mbkm.predict(X)\n",
    "sns.countplot(C_mbkm)\n",
    "C_mbkm[:10]"
   ]
  },
  {
   "cell_type": "code",
   "execution_count": null,
   "metadata": {},
   "outputs": [],
   "source": [
    "fig, ax = plt.subplots()\n",
    "plot = ax.scatter(X2D[:,0], X2D[:,1], c=C_mbkm)"
   ]
  },
  {
   "cell_type": "code",
   "execution_count": null,
   "metadata": {},
   "outputs": [],
   "source": [
    "# MiniBatch k-Means++\n",
    "mbkmPP = cluster.MiniBatchKMeans(n_clusters=k, init='k-means++', max_iter=300, tol=0.0001, random_state = random_state) \n",
    "mbkmPP.fit(X)\n",
    "C_mbkmPP = mbkmPP.predict(X)\n",
    "plot = sns.countplot(C_mbkmPP)\n",
    "C_mbkmPP[:10]"
   ]
  },
  {
   "cell_type": "code",
   "execution_count": null,
   "metadata": {},
   "outputs": [],
   "source": [
    "fig, ax = plt.subplots()\n",
    "plot = ax.scatter(X2D[:,0], X2D[:,1], c=C_mbkmPP)\n"
   ]
  },
  {
   "cell_type": "markdown",
   "metadata": {},
   "source": [
    "## k_means VS MiniBatch k-Means?"
   ]
  },
  {
   "cell_type": "code",
   "execution_count": null,
   "metadata": {},
   "outputs": [],
   "source": [
    "tau.km_vs_mbkm()"
   ]
  },
  {
   "cell_type": "markdown",
   "metadata": {},
   "source": [
    "## Evaluasi dan interpretasi k-Means"
   ]
  },
  {
   "cell_type": "markdown",
   "metadata": {},
   "source": [
    "<h2 id=\"Silhouette-Coefficient\">Silhouette Coefficient</h2>\n",
    "\n",
    "<img alt=\"\" src=\"images/silhouette.png\" style=\"width: 800px; height: 391px;\" />\n",
    "\n",
    "* Apa makna intuitifnya?"
   ]
  },
  {
   "cell_type": "code",
   "execution_count": null,
   "metadata": {},
   "outputs": [],
   "source": [
    "#Evaluasi : Internal . Contoh Silouette Coefficient ==> warning hanya cocok untuk k-means (centroid-based clustering)\n",
    "Hasil_Clustering = [C_km, C_kmpp, C_mbkm, C_mbkmPP]\n",
    "for res in Hasil_Clustering:\n",
    "    print(siluet(X,res), end=', ')\n",
    "# Bagaimana cara kerja dan interpretasinya?"
   ]
  },
  {
   "cell_type": "markdown",
   "metadata": {},
   "source": [
    "<p><strong>Evaluasi Clustering: Internal VS External</strong></p>\n",
    "\n",
    "<p><img alt=\"\" src=\"images/5_Clustering_evaluation.jpg\" style=\"height:400px; width:533px\" /></p>\n"
   ]
  },
  {
   "cell_type": "code",
   "execution_count": null,
   "metadata": {},
   "outputs": [],
   "source": [
    "# Bagaimana dengan evaluasi External?\n",
    "# \"C\" adalah ground truth/golden standard\n",
    "for res in Hasil_Clustering:\n",
    "    print(purity(y,res), end=', ')"
   ]
  },
  {
   "cell_type": "markdown",
   "metadata": {},
   "source": [
    "## Optimal Number of Clusters? - Elbow Method"
   ]
  },
  {
   "cell_type": "code",
   "execution_count": null,
   "metadata": {},
   "outputs": [],
   "source": [
    "distorsions, k1, kN = [], 2, 10\n",
    "for k in range(k1, kN):\n",
    "    kmeans = cluster.KMeans(n_clusters=k).fit(X)\n",
    "    distorsions.append(kmeans.inertia_)\n",
    "\n",
    "fig = plt.figure(figsize=(15, 5))\n",
    "plt.plot(range(k1, kN), distorsions); plt.grid(True)\n",
    "plt.title('Elbow curve')"
   ]
  },
  {
   "cell_type": "markdown",
   "metadata": {},
   "source": [
    "## Optimal Number of Cluster based on Silhouette Score"
   ]
  },
  {
   "cell_type": "code",
   "execution_count": null,
   "metadata": {},
   "outputs": [],
   "source": [
    "tau.sil_based_optimal_km()"
   ]
  },
  {
   "cell_type": "markdown",
   "metadata": {},
   "source": [
    "# Interpretasi"
   ]
  },
  {
   "cell_type": "code",
   "execution_count": null,
   "metadata": {},
   "outputs": [],
   "source": [
    "# Evaluasi sebenarnya tidak terlalu penting di Unsupervised learning.\n",
    "# inilah yang membedakan \"clustering\" dan \"clustering Analysis\"\n",
    "# yang lebih penting adalah interpretasi, tapi Bagaimana?\n",
    "# contoh k-means\n",
    "centroids = kmPP.cluster_centers_\n",
    "centroids # perhatikan ada k centroids, karena ada k cluster\n",
    "print(centroids[0].shape)\n",
    "centroids"
   ]
  },
  {
   "cell_type": "code",
   "execution_count": null,
   "metadata": {},
   "outputs": [],
   "source": []
  },
  {
   "cell_type": "markdown",
   "metadata": {},
   "source": [
    "# Best/Optimal Clustering?"
   ]
  },
  {
   "cell_type": "markdown",
   "metadata": {},
   "source": [
    "### Catatan Penting dalam mengevaluasi Clustering secara internal:\n",
    "\n",
    "* Tidak ada clustering yang \"benar\"\n",
    "* Yang terpenting adalah interpretability/Informasi yang didapatkan (non-trivial information)\n",
    "* Internal metric tertentu hanya cocok untuk suatu algoritma tertentu juga, sehingga di Penelitian/Aplikasi di dunia professional jangan membandingkan 2 macam clustering dengan ukuran internal yang spesifik untuk metode clustering tertentu (misal Silhouette untuk k-Means).\n",
    "* Kleinberg, J. M. (2003). An impossibility theorem for clustering. In Advances in neural information processing systems (pp. 463-470).\n",
    "* Referensi 1: http://papers.nips.cc/paper/2340-an-impossibility-theorem-for-clustering.pdf\n",
    "* Referensi 2: https://core.ac.uk/download/pdf/34638775.pdf"
   ]
  },
  {
   "cell_type": "markdown",
   "metadata": {},
   "source": [
    "# DBSCAN\n",
    "\n",
    "<p><img alt=\"\" src=\"images/5_DBSCAN.gif\" style=\"height:360px; width:690px\" /></p>\n",
    "\n",
    "<p>Karena algoritma (cara kerjanya) ini maka DBSCAN sering digunakan untuk (multivariate) outlier detection.</p>\n"
   ]
  },
  {
   "cell_type": "code",
   "execution_count": null,
   "metadata": {},
   "outputs": [],
   "source": [
    "# DBSCAN http://scikit-learn.org/stable/modules/generated/sklearn.cluster.DBSCAN.html\n",
    "# tidak membutuhkan input parameter k!!!... sangat diperlukan untuk text Mining ... atau clustering data yang besar\n",
    "dbscan = cluster.DBSCAN(eps=0.3, min_samples=5, metric='euclidean')\n",
    "dbscan.fit(X)\n",
    "\n",
    "C_db = dbscan.labels_.astype(np.int)\n",
    "plot = sns.countplot(C_db)\n",
    "C_db[:10]\n",
    "# apa makna cluster label -1?"
   ]
  },
  {
   "cell_type": "code",
   "execution_count": null,
   "metadata": {},
   "outputs": [],
   "source": [
    "sum([1 for i in C_db if i==-1])"
   ]
  },
  {
   "cell_type": "code",
   "execution_count": null,
   "metadata": {
    "scrolled": true
   },
   "outputs": [],
   "source": [
    "fig, ax = plt.subplots()\n",
    "plot = ax.scatter(X2D[:,0], X2D[:,1], c=C_db)"
   ]
  },
  {
   "cell_type": "markdown",
   "metadata": {},
   "source": [
    "<p><img alt=\"\" src=\"images/5_clustering_benchmarks.png\" style=\"height:500px; width:962px\" /></p>\n"
   ]
  },
  {
   "cell_type": "markdown",
   "metadata": {},
   "source": [
    "<p><img alt=\"\" src=\"images/5_Cluster_yg_mana.png\" style=\"height:400px; width:694px\" /></p>\n"
   ]
  },
  {
   "cell_type": "markdown",
   "metadata": {},
   "source": [
    "<h2 id=\"Computational-Complexity-Challenge-of-Clustering\">Computational Complexity Challenge of Clustering</h2>\n",
    "\n",
    "<p><img alt=\"\" src=\"images/clustering_efficiency.png\" /></p>\n"
   ]
  },
  {
   "cell_type": "markdown",
   "metadata": {},
   "source": [
    "# Analysis Regresi\n",
    "\n",
    "<p><img alt=\"\" src=\"images/RegressionModels.jpg\" /></p>"
   ]
  },
  {
   "cell_type": "markdown",
   "metadata": {},
   "source": [
    "## Outline Regresi:\n",
    "\n",
    "* Pengantar ke Predictive Modelling\n",
    "* Korelasi\n",
    "* Regresi\n",
    "* Evaluasi dan Interpretasi Model Regresi\n",
    "* Regresi Logistik\n",
    "* Evaluasi dan Interpretasi Model Klasifikasi"
   ]
  },
  {
   "cell_type": "markdown",
   "metadata": {},
   "source": [
    "# Pendahuluan Model Regresi\n",
    "\n",
    "* Digunakan saat variabel tak bebas (**Dependent variable** - Y) bertipe **numerik** (float/real) dan variabel bebasnya bisa numerik dan-atau kategorik\n",
    "\n",
    "<p><img alt=\"\" src=\"images/Supervised_Methods.png\" /></p>\n"
   ]
  },
  {
   "cell_type": "markdown",
   "metadata": {},
   "source": [
    "<p><img alt=\"\" src=\"images/models_wrong_some_useful.png\" /></p>\n",
    "\n",
    "* Perfect/true-best model tidak ada, bahkan seringnya tidak diperlukan"
   ]
  },
  {
   "cell_type": "markdown",
   "metadata": {},
   "source": [
    "# Beberapa contoh aplikasi regresi\n",
    "\n",
    "1. **Predictive** Analytics: Memprediksi resiko, harga, penjualan, demand, dsb.\n",
    "\n",
    "2. Operation Efficiency: Optimasi proses bisnis dengan melihat **hubungan antar variabel** dan mengambil policy berdasarkan hubungan tersebut.\n",
    "\n",
    "3. Supporting Decisions: **Testing hypothesis**, misal terkait keuangan, operations dan customer purchases.\n",
    "\n",
    "4. New **Insights**: Regresi dapat membantu menganalisa hubungan antar variabel dan sekaligus mem-filternya.\n",
    "\n",
    "Sumber: https://www.newgenapps.com/blog/business-applications-uses-regression-analysis-advantages"
   ]
  },
  {
   "cell_type": "markdown",
   "metadata": {},
   "source": [
    "# Regresi dan Korelasi\n",
    "\n",
    "<p><img alt=\"\" src=\"images/correlation_2.png\" /></p>"
   ]
  },
  {
   "cell_type": "markdown",
   "metadata": {},
   "source": [
    "# Regresi dan Korelasi\n",
    "\n",
    "* Konsep dasar Persamaan/model Regressi adalah hubungan linear antara variabel bebas dan tak bebas.\n",
    "* Sehingga kita akan awali bahasannya dengan Korelasi\n",
    "\n",
    "<p><img alt=\"\" src=\"images/correlation.png\" /></p>\n"
   ]
  },
  {
   "cell_type": "markdown",
   "metadata": {},
   "source": [
    "# Koefisien Korelasi Pearson\n",
    "\n",
    "* Korelasi adalah suatu pengukuran untuk melihat **hubungan linier** antara dua variable numerik. Disimbolkan dengan **r**, untuk sampel, dan **$\\rho$** untuk populasi.\n",
    "\n",
    "* Langkah pertama dalam penentuan korelasi adalah dengan membuat **diagram pencar** (scatter plot) dari variabel terkait. Pada korelasi, kedua variable setara, dalam artian tidak ada yang menjadi variable bebas dan terikat. \n",
    "\n",
    "* Namun, untuk mempermudah pembahasan, pada diagram pencar, satu variable akan disimbolkan sebagai *x* (variable bebas) dan satu variable sebagai *y* (variable terikat/tak bebas). Jika titik – titik data terkonsentrasi di sekitar garis lurus, maka merupakan indikasi bahwa korelasi antara kedua variable tinggi. Makin terpencar data dari suatu garis lurus, menunjukkan makin rendah korelasi antara kedua variable tersebut."
   ]
  },
  {
   "cell_type": "markdown",
   "metadata": {},
   "source": [
    "# Nilai koefisien korelasi Pearson\n",
    "\n",
    "* Nilai dari koefisien korelasi Pearson adalah dari -1 hingga +1.\n",
    "\n",
    "<p><img alt=\"\" src=\"images/korelasi_pearson_01.png\" /></p>"
   ]
  },
  {
   "cell_type": "markdown",
   "metadata": {},
   "source": [
    "<p><img alt=\"\" src=\"images/linear-nonlinear-relationships.png\" style=\"width: 688px; height: 266px;\" /></p>"
   ]
  },
  {
   "cell_type": "markdown",
   "metadata": {},
   "source": [
    "# Hati-hati\n",
    "\n",
    "* Koefisien korelasi = 0 bukan berarti tidak ada hubungan antara kedua variable. Yang benar adalah: tidak ada hubungan LINIER, tapi bisa jadi ada hubungan dalam bentuk lain; misal: kuadratik, atau fungsi lain selain linier, seperti pada contoh di atas. "
   ]
  },
  {
   "cell_type": "markdown",
   "metadata": {},
   "source": [
    "# Memahami Korelasi dari perumusannya (Statistical Thinking)\n",
    "\n",
    "* Korelasi sebenarnya adalah Covariance dibagi dengan masing-masing standar deviasinya.\n",
    "* Apa maksud/maknanya?\n",
    "\n",
    "<p><img alt=\"\" src=\"images/korelasi_pearson_formulae.png\" /></p>"
   ]
  },
  {
   "cell_type": "markdown",
   "metadata": {},
   "source": [
    "# Contoh sederhana\n",
    "\n",
    "<p><img alt=\"\" src=\"img/data_korelasi_01.png\" /></p>"
   ]
  },
  {
   "cell_type": "code",
   "execution_count": null,
   "metadata": {},
   "outputs": [],
   "source": []
  },
  {
   "cell_type": "code",
   "execution_count": null,
   "metadata": {},
   "outputs": [],
   "source": [
    "# ToyData Example\n",
    "x = np.array([40, 45, 53, 60, 65, 71]) # Usia\n",
    "y = np.array([126, 124, 135, 142, 139, 151]) # Tekanan Darah\n",
    "np.corrcoef(x, y)\n",
    "# Hasilnya adalah matriks korelasi"
   ]
  },
  {
   "cell_type": "code",
   "execution_count": null,
   "metadata": {},
   "outputs": [],
   "source": [
    "# Plot untuk melihat datanya\n",
    "plt.scatter(x, y)\n",
    "plt.show()"
   ]
  },
  {
   "cell_type": "code",
   "execution_count": null,
   "metadata": {},
   "outputs": [],
   "source": [
    "# cara lain dengan DataFrame\n",
    "df = pd.DataFrame({'usia':x, 'Tekanan_Darah':y})\n",
    "print(df.corr())\n",
    "sns.heatmap(df.corr(),cmap='viridis', vmax=1.0, vmin=-1.0, linewidths=0.1,annot=True, annot_kws={\"size\": 8}, square=True)\n",
    "p = sns.pairplot(df)"
   ]
  },
  {
   "cell_type": "markdown",
   "metadata": {},
   "source": [
    "# Interpretasi\n",
    "\n",
    "* Nilai ~0.95 menunjukkan bahwa ada korelasi linier positif yang kuat antara usia dan tekanan darah. Ada kecenderungan bahwa usia tinggi berkaitan dengan tekanan darah yang kebih tinggi dibandingkan usia rendah.\n",
    "* **WARNING**\n",
    "* **Korelasi tidak sama (meng-implikasikan) dengan sebab akibat**. Perhatikan interpretasi di atas. Tidak dinyatakan bahwa jika usia tinggi maka tekanan darah rendah, hanya suatu tren atau kecenderungan. Mungkin saja usia dengan bertambahnya usia maka tekanan darah meningkat, tapi mungkin juga tekanan darah tinggi bukan karena usia, tapi faktor lain yang tidak teramati pada data.\n",
    "\n",
    "* Contoh lain penelitian di Machine learning (kecantikan dan confidence/Panjang Jari dan IQ)"
   ]
  },
  {
   "cell_type": "markdown",
   "metadata": {},
   "source": [
    "# Batasan nilai $R^2$ seperti ini? ... Really? Why? Why not?\n",
    "\n",
    "<p><img alt=\"\" src=\"images/Corr_interpretation.png\" /></p>\n",
    "[image Source: https://spencermath.weebly.com/home/interpreting-the-correlation-coefficient]\n",
    "\n",
    "* Cases (social, medicine, etc)\n",
    "* Objective, prediction vs insights."
   ]
  },
  {
   "cell_type": "markdown",
   "metadata": {},
   "source": [
    "# Regresi Linier Sederhana\n",
    "\n",
    "\n",
    "<img alt=\"\" src=\"images/Reg_sederhana_01.png\"/>"
   ]
  },
  {
   "cell_type": "markdown",
   "metadata": {},
   "source": [
    "<p><img alt=\"\" src=\"images/reg_eq.png\" style=\"width: 599px; height: 249px;\" /></p>"
   ]
  },
  {
   "cell_type": "markdown",
   "metadata": {},
   "source": [
    "<p><img alt=\"\" src=\"images/reg_types.png\" /></p>\n",
    "\n",
    "[image source: https://www.slideshare.net/mahakvijay3/basics-of-regression-analysis]"
   ]
  },
  {
   "cell_type": "markdown",
   "metadata": {},
   "source": [
    "<p><img alt=\"\" src=\"images/Regression_FlowChart.jpg\" /></p>\n",
    "\n",
    "[image Source: https://scikit-learn.org/stable/tutorial/machine_learning_map/index.html]"
   ]
  },
  {
   "cell_type": "markdown",
   "metadata": {},
   "source": [
    "# Korelasi ke Regresi\n",
    "\n",
    "<p><img alt=\"\" src=\"images/korelasi_2_regresi.png\" /></p>"
   ]
  },
  {
   "cell_type": "markdown",
   "metadata": {},
   "source": [
    "# Diskusi\n",
    "\n",
    "* Mengapa Error diasumsikan berdistribusi normal?\n",
    "* Error VS Residual?\n",
    "* Di dunia nyata kita seringnya tidak mengetahui error. Loh kok? Maksudnya?\n",
    "* Apa beda regresi dan interpolasi di Metode Numerik?"
   ]
  },
  {
   "cell_type": "markdown",
   "metadata": {},
   "source": [
    "# Bahas sebentar pentingnya memahami \"Loss Function\"\n",
    "\n",
    "* Persamaan/Model Linier adalah dasar terpenting di Statistika, Data Science, Machine Learning, dan Deep Learning (*).\n",
    "* Banyak model di (*) sebenarnya adalah fungsi linier, bahkan di masalah klasifikasi.\n",
    "* Yang membedakan adalah \"pemodelan/optimasi masalah/Loss Functionnya\"\n",
    "\n",
    "-- Keterangan lebih lanjut ... "
   ]
  },
  {
   "cell_type": "markdown",
   "metadata": {},
   "source": [
    "# Heteroskedasticity\n",
    "\n",
    "<p><img alt=\"\" src=\"img/heterokedastisitas.png\" /></p>\n"
   ]
  },
  {
   "cell_type": "markdown",
   "metadata": {},
   "source": [
    "# Regresi memprediksi rata-rata $y_i$ untuk $x_i$, maksudnya?"
   ]
  },
  {
   "cell_type": "markdown",
   "metadata": {},
   "source": [
    "<h1 id=\"Asumsi-Klasik\">Asumsi Klasik</h1>\n",
    "\n",
    "* https://tau-data.id/asumsi-statistika-benci-butuh/\n",
    "<p><img alt=\"\" src=\"images/asumsi_reg.png\" style=\"width: 800px; height: 298px;\" /></p>"
   ]
  },
  {
   "cell_type": "markdown",
   "metadata": {},
   "source": [
    "<p><img alt=\"\" src=\"images/asumsi_reg_2.png\" /></p>\n"
   ]
  },
  {
   "cell_type": "markdown",
   "metadata": {},
   "source": [
    "# Some warnings in Regression\n",
    "\n",
    "<p><img alt=\"\" src=\"images/Warnings_on_Regresi.png\" /></p>"
   ]
  },
  {
   "cell_type": "markdown",
   "metadata": {},
   "source": [
    "# Multikolinearitas: Mengapa dan seberapa \"robust\"?\n",
    "\n",
    "## Kapan kita tidak perlu hawatir tentang hal ini?"
   ]
  },
  {
   "cell_type": "markdown",
   "metadata": {},
   "source": [
    "# Pembahasan tentang Scaling"
   ]
  },
  {
   "cell_type": "markdown",
   "metadata": {},
   "source": [
    "# Pembahasan tentang Interpolasi dan bukan Ekstrapolasi \n",
    "\n",
    "## Kalau mau ekstrapolasi bagaimana?"
   ]
  },
  {
   "cell_type": "markdown",
   "metadata": {},
   "source": [
    "# Bagaimana jika error tidak berdistribusi \"normal\"?"
   ]
  },
  {
   "cell_type": "markdown",
   "metadata": {},
   "source": [
    "# Evaluasi Error (Mean Squared Error)\n",
    "\n",
    "<p><img alt=\"\" src=\"images/mse_regresi.png\" /></p>\n",
    "\n",
    "* Hati-hati,... perhatikan rumusnya dengan baik .... ia tidak robust terhadap outlier\n",
    "* $\\hat{y} = \\beta_0 + \\beta_1 x_1 + ... + \\beta_n x_n$\n",
    "* MSE = total jarak/selisih antara prediksi dan nilai dari data (sesungguhnya)\n",
    "* RMSE = $\\sqrt{MSE}$   ... why? \n",
    "* Evaluasi penting ketika kita ingin melakukan prediksi"
   ]
  },
  {
   "cell_type": "markdown",
   "metadata": {},
   "source": [
    "# Evaluasi $R^2$: Model VS Tidak Pakai Model?\n",
    "\n",
    "<p><img alt=\"\" src=\"images/R_Square.png\" /></p>"
   ]
  },
  {
   "cell_type": "markdown",
   "metadata": {},
   "source": [
    "# Adjusted R-Squared? Why?\n",
    "\n",
    "<p><img alt=\"\" src=\"images/Adjusted_R_Squared.png\" /></p>"
   ]
  },
  {
   "cell_type": "markdown",
   "metadata": {},
   "source": [
    "# Pengaruh Variabel Tak Bebas ke Model\n",
    "\n",
    "\n",
    "<p><img alt=\"\" src=\"images/sig_var_di_Regresi.png\" /></p>\n",
    "\n",
    "* $SSR = SST - SSE = \\sum{(y_i-\\bar{y})^2} - \\sum{(y_i-\\hat{y_i})^2}$  "
   ]
  },
  {
   "cell_type": "markdown",
   "metadata": {},
   "source": [
    "# p-value (bergantung distribusi; contoh kasus distribusi normal)?\n",
    "\n",
    "<p><img alt=\"\" src=\"images/p-value.png\" /></p>\n",
    "\n",
    "* Probabilitas membuat kesalahan\n",
    "* Dari rumus di cell sebelumnya, ada \"masalah\" dengan formulasi p-value."
   ]
  },
  {
   "cell_type": "markdown",
   "metadata": {},
   "source": [
    "# Menangani Data Kategorik di Regresi\n",
    "\n",
    "1. Numeric Encoding\n",
    "2. Dummy variable encoding\n",
    "3. One-Hot Encoding"
   ]
  },
  {
   "cell_type": "code",
   "execution_count": null,
   "metadata": {},
   "outputs": [],
   "source": [
    "# Contoh Data\n",
    "\n",
    "dt = [['female', 'New York', 'low', 4], ['female', 'London', 'medium', 3], ['male', 'New Delhi', 'high', 2]]\n",
    "col = ['Gender', 'City', 'Temperature', 'Rating']"
   ]
  },
  {
   "cell_type": "code",
   "execution_count": null,
   "metadata": {},
   "outputs": [],
   "source": [
    "data = pd.DataFrame(dt,columns=col)\n",
    "print(data)"
   ]
  },
  {
   "cell_type": "markdown",
   "metadata": {},
   "source": [
    "# Numeric encoding\n",
    "\n",
    "* Lebih cocok untuk ordinal (terutama jika kategorinya cukup banyak)"
   ]
  },
  {
   "cell_type": "code",
   "execution_count": null,
   "metadata": {},
   "outputs": [],
   "source": [
    "data['City_encoded'] = LabelEncoder().fit_transform(data['City'])\n",
    "data.head()\n",
    "# Hati-hati tidak ada urutan encodingnya, cocok untuk variabel nominal"
   ]
  },
  {
   "cell_type": "markdown",
   "metadata": {},
   "source": [
    "# Customized Ordinal Numeric Encoding"
   ]
  },
  {
   "cell_type": "code",
   "execution_count": null,
   "metadata": {},
   "outputs": [],
   "source": [
    "mapping = {'low':0, 'medium':1, 'high':2}\n",
    "data['Temperature_encoded'] = data['Temperature'].map(mapping)\n",
    "data.head()"
   ]
  },
  {
   "cell_type": "markdown",
   "metadata": {},
   "source": [
    "# One-hot encoding\n",
    "\n",
    "* Preferable in Machine learning community\n",
    "* Variabel nominal"
   ]
  },
  {
   "cell_type": "code",
   "execution_count": null,
   "metadata": {},
   "outputs": [],
   "source": [
    "Oh = pd.get_dummies(data['City'], prefix='City')\n",
    "Oh\n",
    "# Perhatikan, sekarang setiap kategori di variabel kategorik menjadi sebuah variabel baru\n",
    "# tapi bagaimana memasukan hasil encoding ini kembali ke datanya?"
   ]
  },
  {
   "cell_type": "code",
   "execution_count": null,
   "metadata": {},
   "outputs": [],
   "source": [
    "dt = pd.concat([data, Oh], axis=1)\n",
    "dt.head()"
   ]
  },
  {
   "cell_type": "markdown",
   "metadata": {},
   "source": [
    "# Dummy Variable (Statisticians)\n",
    "\n",
    "* less parameter\n",
    "* konsepnya seperti \"binary system\"\n",
    "* Statistician tidak suka jika jumlah parameter berlebih\n",
    "* default encoding beberapa modul"
   ]
  },
  {
   "cell_type": "code",
   "execution_count": null,
   "metadata": {},
   "outputs": [],
   "source": [
    "dum = pd.get_dummies(data['City'], prefix='City', drop_first=True)\n",
    "dum.head()"
   ]
  },
  {
   "cell_type": "code",
   "execution_count": null,
   "metadata": {},
   "outputs": [],
   "source": [
    "pd.concat([data, dum], axis=1)"
   ]
  },
  {
   "cell_type": "markdown",
   "metadata": {},
   "source": [
    "# Regresi Non-Linier?\n",
    "\n",
    "## Why?\n",
    "## Kapan tidak disarankan menambah kompleksitas model?\n",
    "## Regression for insights VS regression for prediction.\n",
    "\n",
    "## Masih linear terhadap parameter\n",
    "\n",
    "<p><img alt=\"\" src=\"images/linearisasi_regresi.png\" /></p>\n",
    "[image source: https://sites.google.com/site/apphysics1online/appendices/2-data-analysis/graph-linearization ]"
   ]
  },
  {
   "cell_type": "markdown",
   "metadata": {},
   "source": [
    "# Pentingnya \"scaling\" di Regresi (atau clustering) untuk mencari insight dari data\n",
    "\n",
    "<p><img alt=\"\" src=\"images/scaling.png\" /></p>"
   ]
  },
  {
   "cell_type": "markdown",
   "metadata": {},
   "source": [
    "<p><img alt=\"\" src=\"images/standardize.png\" /></p>\n",
    "<p><img alt=\"\" src=\"images/minmax.png\" /></p>\n",
    "\n",
    "[image source: https://medium.com/greyatom/why-how-and-when-to-scale-your-features-4b30ab09db5e ]"
   ]
  },
  {
   "cell_type": "markdown",
   "metadata": {},
   "source": [
    "# Floating Point tidak sama dengan Bilangan Real\n",
    "\n",
    "## Komputer tidak bisa menyimpan dan mengolah bilangan real\n",
    "# Tidak Percaya?\n",
    "## Mari hitung deret berikut dengan komputer (Python)\n",
    "# $\\sum_{n=1}^{10^6}0.1$\n",
    "## Seharusnya hasilnya adalah?"
   ]
  },
  {
   "cell_type": "code",
   "execution_count": null,
   "metadata": {},
   "outputs": [],
   "source": [
    "# Here is the result according to Python\n",
    "dSum = 0 \n",
    "for i in range(10**6): # ini artinya for i dari 0 sampai (10^6)-1\n",
    "    dSum = dSum + 0.1 # or \"dSum += 0.1\"\n",
    "print(dSum)\n",
    "# is the result correct? Why?"
   ]
  },
  {
   "cell_type": "markdown",
   "metadata": {},
   "source": [
    "# Sistem Floating Point\n",
    "\n",
    "<p><img alt=\"\" src=\"images/6_float_3.png\" /></p>"
   ]
  },
  {
   "cell_type": "markdown",
   "metadata": {},
   "source": [
    "# Studi Kasus\n",
    "\n",
    "* Automotive MPG (miles-per-Galon) Data Set : https://archive.ics.uci.edu/ml/datasets/Auto+MPG\n",
    "* Paper awal: Quinlan,R. (1993). Combining Instance-Based and Model-Based Learning. In Proceedings on the Tenth International Conference of Machine Learning, 236-243, University of Massachusetts, Amherst. Morgan Kaufmann. \n",
    "\n",
    "Attribute Information:\n",
    "\n",
    "1. **mpg**: continuous ==> Dependent/target variable\n",
    "2. cylinders: multi-valued discrete \n",
    "3. displacement: continuous \n",
    "4. horsepower: continuous \n",
    "5. weight: continuous \n",
    "6. acceleration: continuous \n",
    "7. model year: multi-valued discrete \n",
    "8. origin: multi-valued discrete \n",
    "9. car name: string (unique for each instance)"
   ]
  },
  {
   "cell_type": "code",
   "execution_count": null,
   "metadata": {},
   "outputs": [],
   "source": [
    "# Contoh\n",
    "# Load DataFile CSV\n",
    "try:\n",
    "    df = pd.read_csv('data/iklan.csv') # run locally\n",
    "except:\n",
    "    !wget https://raw.githubusercontent.com/taufikedys/tau-data/master/data/iklan.csv # \"Google Colab\"\n",
    "    df = pd.read_csv('iklan.csv') \n",
    "df.head()"
   ]
  },
  {
   "cell_type": "code",
   "execution_count": null,
   "metadata": {},
   "outputs": [],
   "source": [
    "p = sns.pairplot(df)"
   ]
  },
  {
   "cell_type": "code",
   "execution_count": null,
   "metadata": {},
   "outputs": [],
   "source": [
    "standardize = preprocessing.StandardScaler()\n",
    "minMax = preprocessing.MinMaxScaler()"
   ]
  },
  {
   "cell_type": "code",
   "execution_count": null,
   "metadata": {},
   "outputs": [],
   "source": [
    "st = standardize.fit_transform(df[['Iklan', 'Laba']]) # Harus numerik dan Tidak Boleh ada Null/missing values\n",
    "st # hasilnya Numpy Array"
   ]
  },
  {
   "cell_type": "code",
   "execution_count": null,
   "metadata": {},
   "outputs": [],
   "source": [
    "# Jika ingin dimasukkan lagi ke Dataframe awal\n",
    "st_df = pd.DataFrame(st, columns=['Iklan', 'Laba']) # Merubah Numpy Array menjadi DataFrame\n",
    "df2 = pd.concat([df, st_df], axis=1) # caranya sama dengan saat kita mendiskusikan encoding variabel kategorik\n",
    "df2.head()"
   ]
  },
  {
   "cell_type": "code",
   "execution_count": null,
   "metadata": {},
   "outputs": [],
   "source": [
    "# Similary untuk minMax\n",
    "mm = minMax.fit_transform(df[['Iklan', 'Laba']])\n",
    "mm_df = pd.DataFrame(mm, columns=['iklan_mm', 'laba_mm']) # Merubah Numpy Array menjadi DataFrame\n",
    "df3 = pd.concat([df, mm_df], axis=1) # caranya sama dengan saat kita mendiskusikan encoding variabel kategorik\n",
    "df3.head()"
   ]
  },
  {
   "cell_type": "markdown",
   "metadata": {},
   "source": [
    "# Contoh Regresi di Python (Data Pengeluaran Biaya Iklan)"
   ]
  },
  {
   "cell_type": "code",
   "execution_count": null,
   "metadata": {},
   "outputs": [],
   "source": [
    "# Load DataFile CSV\n",
    "try:\n",
    "    df = pd.read_csv('data/iklan.csv') # run locally\n",
    "except:\n",
    "    !wget https://raw.githubusercontent.com/taufikedys/tau-data/master/data/iklan.csv # \"Google Colab\"\n",
    "    df = pd.read_csv('iklan.csv') \n",
    "df.head()"
   ]
  },
  {
   "cell_type": "code",
   "execution_count": null,
   "metadata": {},
   "outputs": [],
   "source": [
    "p = sns.pairplot(df, hue=\"Tipe\")"
   ]
  },
  {
   "cell_type": "code",
   "execution_count": null,
   "metadata": {},
   "outputs": [],
   "source": [
    "df.drop(\"No\", axis=1, inplace=True)\n",
    "df.dtypes"
   ]
  },
  {
   "cell_type": "code",
   "execution_count": null,
   "metadata": {},
   "outputs": [],
   "source": [
    "df.info()"
   ]
  },
  {
   "cell_type": "code",
   "execution_count": null,
   "metadata": {},
   "outputs": [],
   "source": [
    "df.describe()"
   ]
  },
  {
   "cell_type": "code",
   "execution_count": null,
   "metadata": {},
   "outputs": [],
   "source": [
    "# Fitting model Regresi Sederhana\n",
    "lm = smf.ols(\"Laba ~ Iklan\", data=df[['Laba','Iklan']]).fit()\n",
    "lm.summary()"
   ]
  },
  {
   "cell_type": "code",
   "execution_count": null,
   "metadata": {},
   "outputs": [],
   "source": [
    "# Mean Squared Error\n",
    "lm.mse_total"
   ]
  },
  {
   "cell_type": "code",
   "execution_count": null,
   "metadata": {},
   "outputs": [],
   "source": [
    "# Perintah-perintah ini hanya untuk memplot hasilnya\n",
    "xmin, xmax = df.Iklan.min(), df.Iklan.max()\n",
    "X = np.linspace(xmin, xmax, 100)\n",
    "# params[0] is the intercept (beta0)\n",
    "# params[1] is the slope (beta1)\n",
    "Y = lm.params[0] + lm.params[1] * X\n",
    "# Perhatikan ada 2 perintah plot\n",
    "plt.plot(df.Iklan, df.Laba, \"o\")\n",
    "plt.plot(X, Y, color=\"darkgreen\")\n",
    "#Selanjutnya hanya perintah labelling\n",
    "plt.xlabel(\"Investasi Iklan\")\n",
    "plt.ylabel(\"Laba\")\n",
    "plt.show()"
   ]
  },
  {
   "cell_type": "code",
   "execution_count": null,
   "metadata": {},
   "outputs": [],
   "source": [
    "# Menggunakan Module \"SeaBorn\" jauh lebih mudah ketimbang MatplotLib\n",
    "p = sns.regplot(df.Iklan, df.Laba)"
   ]
  },
  {
   "cell_type": "code",
   "execution_count": null,
   "metadata": {},
   "outputs": [],
   "source": [
    "# Kita bisa prediksi dengan cara seperti ini:\n",
    "lm.predict({'Iklan': [21, 23, 25]})"
   ]
  },
  {
   "cell_type": "code",
   "execution_count": null,
   "metadata": {},
   "outputs": [],
   "source": [
    "# Kenormalan residuals\n",
    "res = lm.resid # residuals\n",
    "fig = sm.qqplot(res, stats.t, fit=True, line='45')\n",
    "plt.show()"
   ]
  },
  {
   "cell_type": "code",
   "execution_count": null,
   "metadata": {},
   "outputs": [],
   "source": [
    "# Regresi Berganda dengan menambahkan variabel kategorik \"Tipe\"\n",
    "res = ols(formula='Laba ~ Iklan + C(Tipe)', data=df).fit()\n",
    "res.summary()\n",
    "# Perhatikan bentuk modelnya, terutama pada data kategorik"
   ]
  },
  {
   "cell_type": "code",
   "execution_count": null,
   "metadata": {},
   "outputs": [],
   "source": [
    "# Regresi Berganda non-linear (mencoba transformasi logaritmik)\n",
    "res = ols(formula='Laba ~ np.log(Iklan) + C(Tipe)', data=df).fit()\n",
    "res.summary()"
   ]
  },
  {
   "cell_type": "markdown",
   "metadata": {},
   "source": [
    "# Train-Test untuk menghindari Overfit\n",
    "\n",
    "* Konsepnya generalisasi/\"inferensi\" Sample ==> Populasi, logical thinkingnya di aplikasi dunia nyata kita tidak memiliki nilai \"y\" (variabel target) yang sesungguhnya.\n",
    "* Catatan: pemisahan train-test menjaga proporsi kategori pada masalah klasifikasi (tidak murni random atau split)\n",
    "\n",
    "<p><img alt=\"\" src=\"img/train_test.png\" /></p>"
   ]
  },
  {
   "cell_type": "code",
   "execution_count": null,
   "metadata": {},
   "outputs": [],
   "source": [
    "X_train, X_test, y_train, y_test = train_test_split(df[['Iklan', 'Tipe']], df['Laba'], test_size=0.4)"
   ]
  },
  {
   "cell_type": "code",
   "execution_count": null,
   "metadata": {},
   "outputs": [],
   "source": [
    "X_train.head()"
   ]
  },
  {
   "cell_type": "markdown",
   "metadata": {},
   "source": [
    "# Belum Dibahas:\n",
    "\n",
    "* Model Regresi lain: Regression-tree, Support Vector Regression, Neural Network for Regression, dll.\n",
    "* Regresi untuk data khusus, misal Ridge Regression jika jumlah variabel banyak\n",
    "* General Linear Model dengan interaksi yang lebih umum/kompleks, dsb"
   ]
  },
  {
   "cell_type": "markdown",
   "metadata": {},
   "source": [
    "# Selingan\n",
    "\n",
    "* Pada penelitian sebaiknya menggunakan data public (open source) atau data private (misal data dari Rumah Sakit/Kampus)?"
   ]
  },
  {
   "cell_type": "markdown",
   "metadata": {
    "slideshow": {
     "slide_type": "slide"
    }
   },
   "source": [
    "# <center><font color=\"blue\"> End of Module 05\n",
    "\n",
    "<hr />\n",
    "<p><img alt=\"\" src=\"images/meme_04_regression.png\" /></p>"
   ]
  }
 ],
 "metadata": {
  "celltoolbar": "Slideshow",
  "kernelspec": {
   "display_name": "Python 3",
   "language": "python",
   "name": "python3"
  },
  "language_info": {
   "codemirror_mode": {
    "name": "ipython",
    "version": 3
   },
   "file_extension": ".py",
   "mimetype": "text/x-python",
   "name": "python",
   "nbconvert_exporter": "python",
   "pygments_lexer": "ipython3",
   "version": "3.6.8"
  }
 },
 "nbformat": 4,
 "nbformat_minor": 2
}
