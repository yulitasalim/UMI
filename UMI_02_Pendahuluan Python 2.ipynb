{
 "cells": [
  {
   "cell_type": "markdown",
   "metadata": {},
   "source": [
    "# http://tau-data.id/umi/"
   ]
  },
  {
   "cell_type": "markdown",
   "metadata": {
    "slideshow": {
     "slide_type": "slide"
    }
   },
   "source": [
    "<center><img alt=\"\" src=\"images/0_Cover.jpg\"/></center> \n",
    "\n",
    "## <center><font color=\"blue\">Module 02: Pendahuluan Python 2</font></center>\n",
    "<b><center>(C) Taufik Sutanto - 2019</center>\n",
    "<center>tau-data Indonesia ~ https://tau-data.id ~ taufik@tau-data.id</center>"
   ]
  },
  {
   "cell_type": "markdown",
   "metadata": {},
   "source": [
    "## <center><font color=\"blue\">Pendahuluan Python 2: Fungsi, Komputasi, & Visualisasi</font></center>\n",
    "<img alt=\"\" src=\"images/PDS_logo.jpg\" />"
   ]
  },
  {
   "cell_type": "markdown",
   "metadata": {
    "slideshow": {
     "slide_type": "slide"
    }
   },
   "source": [
    "# <font color=\"blue\">Workshop Schedule</font>\n",
    "\n",
    "## <font color=\"green\">Hari ke-1 (Senin, 27 Jan 2020)</font>\n",
    "\n",
    "**Pendahuluan Pemrograman Python**\n",
    "* 09:00 – 10:00 Pendahuluan dan instalasi\n",
    "* 10:00 – 11:00\tDasar Python\n",
    "* 11:00 – 12:00\tPython Logic\n",
    "* 13:00 – 14.00\tException & Function\n",
    "* 14:00 – 15:00\tPenggunaan & Instalasi Modul Python\n",
    "* 15:00 – 16:00\tPython as Numerical computing & Basic Visualizations\n",
    "\n",
    "Studi kasus: **importing and formating data**\n"
   ]
  },
  {
   "cell_type": "markdown",
   "metadata": {},
   "source": [
    "# Outline Module\n",
    "\n",
    "<ol>\n",
    "\t<li><p><strong>Modul</strong><strong>e Installations</strong><strong>:</strong><br />\n",
    "\t* Full and partial import<br />\n",
    "\t* Import all functions as first level implicitly<br />\n",
    "\t* Personal Library, conda/pip/easy_install<br />\n",
    "\t* Adding repository modul, Automatic update all modules, Pure Python vs compiled Modules, Module&rsquo;s Wheels<br />\n",
    "    * Checking modules dependency<br />\n",
    "\t* Installing from Source, Installing modules from script</li>\n",
    "    <li><b>&nbsp;Going Deeper in Python: </b><br />\n",
    "\t* Deeper with print function<br />\n",
    "\t* Reference to variable(s)<br />\n",
    "\t* Deeper with Python string<br />\n",
    "\t* Zipping list<br />\n",
    "\t* More with list in Python<br />\n",
    "\t<li><b>Python Function: </b><br />\n",
    "\t* Function in Python<br />\n",
    "\t* Global &amp; local variables<br />\n",
    "\t* vars, dirs**<br />\n",
    "\t* Recursive function in Python<br />\n",
    "\t* Lamda function</li>\n",
    "\t<li><b>Python as Numerical computing &amp; (simple) Visualizations: </b><br />\n",
    "\t* Numpy matrix:<br />\n",
    "\t* List VS Arrays/Matrix: best use scenarios<br />\n",
    "\t* Linear algebra functions<br />\n",
    "\t* Numpy operations<br />\n",
    "\t* MatplotLib &amp; Seaborn: Basic visualizations in Python</li>\n",
    "</ol>\n"
   ]
  },
  {
   "cell_type": "markdown",
   "metadata": {},
   "source": [
    "# Loading Module Python\n",
    "<p><img alt=\"\" src=\"images/py_modules.jpg\" /></p>"
   ]
  },
  {
   "cell_type": "code",
   "execution_count": null,
   "metadata": {},
   "outputs": [],
   "source": [
    "# Full import\n",
    "import numpy\n",
    "# Full import with alias\n",
    "import numpy as np\n",
    "# Partial Import\n",
    "from numpy import array"
   ]
  },
  {
   "cell_type": "code",
   "execution_count": 1,
   "metadata": {},
   "outputs": [],
   "source": [
    "# Multiple import is automatically bypassed\n",
    "import numpy # lagi ...\n",
    "# bypassed karena sudah ada di \"NameSpace\""
   ]
  },
  {
   "cell_type": "code",
   "execution_count": 2,
   "metadata": {},
   "outputs": [],
   "source": [
    "# Kita akan sama-sama upload contoh file berisi beberapa fungsi sederhana ke Google Colab"
   ]
  },
  {
   "cell_type": "code",
   "execution_count": null,
   "metadata": {},
   "outputs": [],
   "source": [
    "# personal function import\n",
    "import taudata as tau"
   ]
  },
  {
   "cell_type": "code",
   "execution_count": null,
   "metadata": {},
   "outputs": [],
   "source": [
    "# tanpa alias\n",
    "from taudata import *\n"
   ]
  },
  {
   "cell_type": "markdown",
   "metadata": {},
   "source": [
    "<h2 id=\"Instalasi-Modul\">Instalasi Modul</h2>\n",
    "\n",
    "<ol>\n",
    "\t<li>Command Line: Conda/pip/easy_install<br />\n",
    "\tcontoh:<strong> pip install namaModul</strong><br />\n",
    "\tjika modul sudah ada, maka automatis tidak menginstall ulang.</li>\n",
    "\t<li>Jika ingin mengupdate modul:<br />\n",
    "\t<strong>pip install namaModul --upgrade<br />\n",
    "\tpip install namaModul&nbsp; --upgrade --no-deps&nbsp; </strong><em>(tanpa dependensi)</em></li>\n",
    "\t<li>Jika tidak memiliki akses administrator:<br />\n",
    "\t<strong>pip install -U namaModul</strong></li>\n",
    "\t<li>Dependensi biasanya automatis diinstall.</li>\n",
    "\t<li>Hati-hati nama modul tidak selalu dengan nama yang di import di code.<br />\n",
    "\tMisal :&nbsp;python-louvain ==&gt; Community</li>\n",
    "\t<li><strong>Check module dependency</strong> ==&gt;&nbsp;pip check</li>\n",
    "\t<li>Perintah <strong>conda </strong>yg bermanfaat:<br />\n",
    "\tconda clean -t, -p, -i, -l</li>\n",
    "\t<li><strong>Tambah repository</strong>:<br />\n",
    "\tconda config --add channels conda-forge&nbsp;</li>\n",
    "\t<li><strong>Install </strong>versi terkini <strong>dari git</strong>:<br />\n",
    "\tpip install git://github.com/networkx/networkx.git#egg=networkx</li>\n",
    "\t<li><strong>Install dari file</strong>:<br />\n",
    "\tpip install -r requirements.txt</li>\n",
    "\t<li><strong>Dump </strong>current <strong>Modul </strong>list<br />\n",
    "\tpip freeze &gt; List_Modul.txt</li>\n",
    "\t<li>Langkah 11 bisa digunakan untuk <strong>update seluruh Modul (hati-hati!)</strong><br />\n",
    "\tpip install -r List_Modul.txt --upgrade</li>\n",
    "\t<li><strong>Install dari source</strong>:<br />\n",
    "\tpython setup.py install</li>\n",
    "\t<li>Install dari <strong>Wheels</strong>:<br />\n",
    "\tpip install path/nama_Wheel_Modul.whl</li>\n",
    "</ol>\n"
   ]
  },
  {
   "cell_type": "markdown",
   "metadata": {},
   "source": [
    "# Beberapa modul membutuhkan compiler\n",
    "\n",
    "\n",
    "## \"Wheels\": compiled modules https://www.lfd.uci.edu/~gohlke/pythonlibs/"
   ]
  },
  {
   "cell_type": "markdown",
   "metadata": {},
   "source": [
    "# Bentuk Umum Print Function\n",
    "\n",
    "* print(value1, value2, value3, ..., sep=' ', end='\\n', file=sys.stdout, flush=False)\n",
    "* value = any Python data type\n",
    "* Reference: https://docs.python.org/3/library/functions.html#print"
   ]
  },
  {
   "cell_type": "code",
   "execution_count": 8,
   "metadata": {},
   "outputs": [
    {
     "name": "stdout",
     "output_type": "stream",
     "text": [
      "Banyaknya kategori = 7 dengan akurasi = 89.23 Data = 'klasifikasi Kanker'\n"
     ]
    }
   ],
   "source": [
    "# OLD Python method\n",
    "\n",
    "nK = 7\n",
    "aK = 89.234532\n",
    "dt = 'klasifikasi Kanker'\n",
    "print(\"Banyaknya kategori = %d dengan akurasi = %.2f Data = '%s'\" %(nK,aK,dt))\n",
    "\n",
    "# \\n ==> ganti baris .... \\t = Tabulasi\n",
    "# hati-hati sebelum \"%(\" hanya spasi (bukan koma atau titik)\n",
    "# %d = digit = integer\n",
    "# %f = float ... .XYZf ===> banyak digit di belakang koma = xyz\n",
    "# %s = string "
   ]
  },
  {
   "cell_type": "code",
   "execution_count": 9,
   "metadata": {},
   "outputs": [
    {
     "name": "stdout",
     "output_type": "stream",
     "text": [
      "Banyaknya kategori = 7\n",
      " dengan akurasi = 89.234532\n",
      "Data = 'klasifikasi Kanker'\n"
     ]
    }
   ],
   "source": [
    "# New Python method\n",
    "\n",
    "nK = 7\n",
    "aK = 89.234532\n",
    "dt = 'klasifikasi Kanker'\n",
    "print(\"Banyaknya kategori = {}\\n dengan akurasi = {}\\nData = '{}'\".format(nK,aK,dt))\n",
    "# perintah \".format()\" pemisahnya titik"
   ]
  },
  {
   "cell_type": "code",
   "execution_count": 10,
   "metadata": {},
   "outputs": [
    {
     "name": "stdout",
     "output_type": "stream",
     "text": [
      "Banyaknya kategori = 7\n",
      " dengan akurasi = 89.23\n",
      "Data = 'klasifikasi Kanker'\n"
     ]
    }
   ],
   "source": [
    "# Cara memformat Floating point dengan syntax baru ini\n",
    "\n",
    "print(\"Banyaknya kategori = {}\\n dengan akurasi = {:.2f}\\nData = '{}'\".format(nK,aK,dt))\n",
    "# Hati-hati agak beda dengan syntax lama untuk float ... sekarang ada tanda \":\""
   ]
  },
  {
   "cell_type": "code",
   "execution_count": 12,
   "metadata": {},
   "outputs": [
    {
     "name": "stdout",
     "output_type": "stream",
     "text": [
      "c=xyz lalu a=3, kemudian b=4.5\n"
     ]
    }
   ],
   "source": [
    "# Bisa Juga tidak terurut\n",
    "\n",
    "a, b, c = 3, 4.5, 'xyz' # new way of initialization\n",
    "print('c={2} lalu a={0}, kemudian b={1}'.format(a,b,c))"
   ]
  },
  {
   "cell_type": "code",
   "execution_count": 15,
   "metadata": {},
   "outputs": [
    {
     "name": "stdout",
     "output_type": "stream",
     "text": [
      "1, 2, 3\n",
      "4, 5, 6\n"
     ]
    }
   ],
   "source": [
    "# Di Python print function kita juga bisa menspesifikasi bagaimana antar variabel dipisahkan\n",
    "A = [(1,2,3), (4,5,6)]\n",
    "\n",
    "for a,b,c in A:\n",
    "    print(a,b,c,sep=', ')"
   ]
  },
  {
   "cell_type": "code",
   "execution_count": null,
   "metadata": {},
   "outputs": [],
   "source": [
    "# by default setiap memanggil fungsi print Python akan pindah baris\n",
    "print(a)\n",
    "print(b)\n",
    "print(c)"
   ]
  },
  {
   "cell_type": "code",
   "execution_count": 16,
   "metadata": {},
   "outputs": [
    {
     "name": "stdout",
     "output_type": "stream",
     "text": [
      "4, 5, 6."
     ]
    }
   ],
   "source": [
    "# Namun bisa dirubah\n",
    "print(a, end=', ')\n",
    "print(b, end=', ')\n",
    "print(c, end='.')"
   ]
  },
  {
   "cell_type": "markdown",
   "metadata": {},
   "source": [
    "# Python - Buffer -Flush\n",
    "\n",
    "* Saat menjalankan proses Data Science yang cukup kompleks di Python, output print masuk ke dalam buffer dan TIDAK langsung ditampilkan.\n",
    "* Untuk memaksa print langsung ditampilkan maka parameter \"flush\" harus digunakan (default = False)\n",
    "* Contoh:"
   ]
  },
  {
   "cell_type": "code",
   "execution_count": 17,
   "metadata": {},
   "outputs": [
    {
     "name": "stdout",
     "output_type": "stream",
     "text": [
      "*****"
     ]
    }
   ],
   "source": [
    "from time import sleep\n",
    "\n",
    "for n in range(0,5):\n",
    "    print(\"*\",end='', flush = True)\n",
    "    sleep(1.0)"
   ]
  },
  {
   "cell_type": "markdown",
   "metadata": {},
   "source": [
    "# Print to File in Python"
   ]
  },
  {
   "cell_type": "code",
   "execution_count": null,
   "metadata": {},
   "outputs": [],
   "source": [
    "f = open(\"Output_Python.txt\",\"w\") # W = write new file, a='append existing file, new file if file does not exist'\n",
    "print(\"ini output pertama\", file=f)\n",
    "f.close() # kalau tidak di close, maka bagaikan file Doc yg sedang dibuka microsoft word\n",
    "# lihat di folder \"notebook\" akan ada file baru dengan nama file yg ditetapkan diatas\n",
    "# Perhatikan perintah ini tidak mengeluarkan output langsung di notebook/terminal (silenced)"
   ]
  },
  {
   "cell_type": "code",
   "execution_count": null,
   "metadata": {},
   "outputs": [],
   "source": [
    "f = open(\"Output_Python.txt\",\"w\") # W = write new file, a='append existing file, new file if file does not exist'\n",
    "print(\"ini output pertama lagi karena opennya pakai 'w'\", file=f)\n",
    "f.close() "
   ]
  },
  {
   "cell_type": "code",
   "execution_count": null,
   "metadata": {},
   "outputs": [],
   "source": [
    "f = open(\"Output_Python.txt\",\"a\") # W = write new file, a='append existing file, new file if file does not exist'\n",
    "print(\"ini baru output kedua karena opennya pakai 'a'\", file=f)\n",
    "f.close() \n",
    "# Jangan lupa utk mengingat \"print\" by default akan ganti baris, sehingga di akhir setiap print tidak perlu penambahan \"\\n\""
   ]
  },
  {
   "cell_type": "markdown",
   "metadata": {},
   "source": [
    "# Tips Penting\n",
    "\n",
    "* CSV sebenarnya hanya file teks yg dipisahkan dengan koma\n",
    "* TAPI hindari menulis ke file CSV dengan cara print diatas\n",
    "* Why?"
   ]
  },
  {
   "cell_type": "code",
   "execution_count": null,
   "metadata": {},
   "outputs": [],
   "source": [
    "A = [2,3,4,5,6]\n",
    "print(str(A)[1:-1])\n",
    "# sepertinya \"ok\" untuk menggunakan \"trik\" ini utk menulis ke CSV dari suatu list\n",
    "# Misal:"
   ]
  },
  {
   "cell_type": "code",
   "execution_count": null,
   "metadata": {},
   "outputs": [],
   "source": [
    "Data = [ (2,56), (1,32), (5,40), (1,37), (4,40) ]\n",
    "\n",
    "f = open(\"Output_Python.csv\",\"w\") \n",
    "print('Jumlah Anak, Umur', file=f)\n",
    "for d in Data:\n",
    "    print(str(d)[1:-1], file=f)\n",
    "f.close() \n",
    "\n",
    "# Silahkan lihat hasilnya dan buka di NotePad/Excell\n",
    "# Ndak ada masalah kan?....\n",
    "# cara ini hanya cocok utk Data Terstruktur (angka atau string tapi hanya satu kata)\n",
    "# Di Data Science yang sering memuat data tidak terstruktur cara ini tidak dianjurkan\n",
    "# Contoh:"
   ]
  },
  {
   "cell_type": "code",
   "execution_count": null,
   "metadata": {},
   "outputs": [],
   "source": [
    "Data = [ ('@udin32','keren banget konsernya cuy!'), ('@kiraAlways','dia bilang \"sa bodo\", gitu katanya!'), ('@rina23','capek deeehhh...')]\n",
    "\n",
    "f = open(\"Output_Python.csv\",\"w\") \n",
    "print('username, Tweet', file=f)\n",
    "for d in Data:\n",
    "    print(str(d)[1:-1], file=f)\n",
    "f.close() \n",
    "\n",
    "# lihat hasilnya.\n",
    "# Kalau dibuka di Notepad sepertinya tidak ada masalah\n",
    "# Baru terlihat ketika di buka di excell ... benarkah???...\n",
    "# Why? ... \n",
    "\n",
    "# Hati-hati ... karena kesalahan ini kita bisa kehilangan data berharga.\n",
    "# Karena data kelak jika di import (dimanapun) akan error/tidak konsisten"
   ]
  },
  {
   "cell_type": "markdown",
   "metadata": {},
   "source": [
    "# Solusi"
   ]
  },
  {
   "cell_type": "code",
   "execution_count": null,
   "metadata": {},
   "outputs": [],
   "source": [
    "# Gunakan saja Modul CSV\n",
    "# Karena \"rule\" CSV lumayan rumit \n",
    "import csv\n",
    "\n",
    "f = open(\"Output_Python.csv\",\"w\", newline='') # encoding='utf-8'\n",
    "f.write('Username, Tweet\\n')\n",
    "writer = csv.writer(f)\n",
    "for d in Data:\n",
    "    writer.writerow(d)\n",
    "f.close()\n",
    "\n",
    "# Lihat hasilnya di excell dan notepad"
   ]
  },
  {
   "cell_type": "markdown",
   "metadata": {},
   "source": [
    "## Membaca data dari File Text"
   ]
  },
  {
   "cell_type": "code",
   "execution_count": null,
   "metadata": {},
   "outputs": [],
   "source": [
    "file = \"Output_Python.csv\"\n",
    "f = open(file, 'r', encoding=\"utf-8\", errors='replace')\n",
    "isiFile = f.readlines()\n",
    "f.close()\n",
    "\n",
    "print(isiFile) # Apa itu '\\n'? bagaimana menghilangkannya?"
   ]
  },
  {
   "cell_type": "markdown",
   "metadata": {},
   "source": [
    "# Python is not perfect, but if we know its weakness we can use it perfectly\n",
    "\n",
    "## Pointer to Reference"
   ]
  },
  {
   "cell_type": "code",
   "execution_count": null,
   "metadata": {},
   "outputs": [],
   "source": [
    "# Hati-hati dengan copy of reference (Pointer to Variabel) yg implisit di Python\n",
    "A =[2,3,4]\n",
    "B = A\n",
    "A.append(7) # Kita tidak melakukan apa-apa ke B\n",
    "print('A = ', A)\n",
    "print('B = ', B)\n",
    "\n",
    "# Mengapa outputnya seperti itu???...\n",
    "# Python sebisa mungkin menghindari \"copy of memory\" yg cocok utk DS/ML\n",
    "# menyebalkannya behavious semacam ini terkadang berbeda untuk versi python yg berbeda.\n",
    "# Data Scientist perlu informasi perubahan yg terjadi ketika memakai Python versi yg lebih terbaru\n",
    "# Solusi?"
   ]
  },
  {
   "cell_type": "code",
   "execution_count": null,
   "metadata": {},
   "outputs": [],
   "source": [
    "A =[2,3,4]\n",
    "B = A.copy() # ini yang mirip dgn bahasa pemrograman lain B=A\n",
    "A.append(7)\n",
    "print('A = ', A)\n",
    "print('B = ', B)"
   ]
  },
  {
   "cell_type": "markdown",
   "metadata": {},
   "source": [
    "<h1 id=\"~75%-data-di-Big-Data-adalah-Data-Tidak-Terstruktur\">~75% data di Big Data adalah Data Tidak Terstruktur</h1>\n",
    "\n",
    "<h1 id=\"Data-paling-umum-dan-berharga-adalah-Data-Teks\">Data paling umum dan berharga adalah Data Teks</h1>\n",
    "\n",
    "<h2 id=\"Sehingga-Text-Manipulation-di-Python-merupakan-salah-satu-skill-dasar-yang-sangat-penting.\">Sehingga Text Manipulation di Python merupakan salah satu skill dasar yang sangat penting.</h2>\n",
    "\n",
    "<p><img alt=\"\" src=\"images/Data_Growth.png\" style=\"width: 800px; height: 450px;\" /></p>\n"
   ]
  },
  {
   "cell_type": "code",
   "execution_count": null,
   "metadata": {},
   "outputs": [],
   "source": [
    "X = 'udin666 '\n",
    "X.isalnum() # hanya a-z, A-Z, dan 0-9"
   ]
  },
  {
   "cell_type": "code",
   "execution_count": null,
   "metadata": {},
   "outputs": [],
   "source": [
    "X = 'udin666 '\n",
    "X.strip().isalnum()"
   ]
  },
  {
   "cell_type": "code",
   "execution_count": null,
   "metadata": {},
   "outputs": [],
   "source": [
    "X = '23.45'\n",
    "type(X)"
   ]
  },
  {
   "cell_type": "code",
   "execution_count": null,
   "metadata": {},
   "outputs": [],
   "source": [
    "X.isdecimal()"
   ]
  },
  {
   "cell_type": "code",
   "execution_count": null,
   "metadata": {},
   "outputs": [],
   "source": [
    "X= '234'\n",
    "X.isdecimal()"
   ]
  },
  {
   "cell_type": "code",
   "execution_count": null,
   "metadata": {},
   "outputs": [],
   "source": [
    "X = 'udin666 '\n",
    "X.isalpha()"
   ]
  },
  {
   "cell_type": "code",
   "execution_count": null,
   "metadata": {},
   "outputs": [],
   "source": [
    "X = 'udin'\n",
    "X.isalpha()"
   ]
  },
  {
   "cell_type": "code",
   "execution_count": null,
   "metadata": {},
   "outputs": [],
   "source": [
    "# String adalah Tuple, sehingga\n",
    "S1 = 'apa '\n",
    "S2 = 'kabar'\n",
    "S1+S2"
   ]
  },
  {
   "cell_type": "code",
   "execution_count": null,
   "metadata": {},
   "outputs": [],
   "source": [
    "# String adalah Tuple sehingga bisa di akses seperti List\n",
    "S = 'NLP dan TextMining di Python'\n",
    "print('7 character pertama: ', S[:7])\n",
    "print('7 character terakhir: ', S[-7:])"
   ]
  },
  {
   "cell_type": "code",
   "execution_count": null,
   "metadata": {},
   "outputs": [],
   "source": [
    "# Tapi hati-hati karena ia tuple maka:\n",
    "S[5] = 'o'"
   ]
  },
  {
   "cell_type": "code",
   "execution_count": null,
   "metadata": {},
   "outputs": [],
   "source": [
    "# Karena string adalah tupple maka hal berikut ini bisa dilakukan\n",
    "for char in S:\n",
    "    print(char, end='_')"
   ]
  },
  {
   "cell_type": "code",
   "execution_count": null,
   "metadata": {},
   "outputs": [],
   "source": [
    "# Dasar Text Manipulation in Python\n",
    "\n",
    "S = ' \"Maygroup yg baru\", itu slogannya? \\t '\n",
    "print(S)\n",
    "print(S.upper())\n",
    "print(S.lower())\n",
    "print(S.strip())\n",
    "print(S.replace(\"yg\",\"yang\"))\n",
    "print(S.replace(\"yg\",\"yang\", 1))"
   ]
  },
  {
   "cell_type": "code",
   "execution_count": null,
   "metadata": {},
   "outputs": [],
   "source": [
    "print( S.split() )\n",
    "print( S.split(',') )"
   ]
  },
  {
   "cell_type": "markdown",
   "metadata": {},
   "source": [
    "## Bagaimana jika hanya ingin mendapatkan kata-katanya saja tanpa simbol lainnya?\n",
    "\n",
    "### di Text Mining/NLP proses ini dinamakan Tokenisasi"
   ]
  },
  {
   "cell_type": "code",
   "execution_count": null,
   "metadata": {},
   "outputs": [],
   "source": [
    "from textblob import TextBlob as tb\n",
    "print( tb(S).words )\n",
    "\n",
    "# Pembahasan lebih detail di Text Mining / NLP"
   ]
  },
  {
   "cell_type": "markdown",
   "metadata": {},
   "source": [
    "## Zipping Lists dalam data science\n",
    "### Akan sering ditemukan proses di DS dimana 2 buah vector/array harus di olah bersamaan pada setiap elemennya tapi dalam index yang bersesuaian."
   ]
  },
  {
   "cell_type": "code",
   "execution_count": null,
   "metadata": {},
   "outputs": [],
   "source": [
    "# Zipping List\n",
    "A = ['Minggu','Senin','Jumat']\n",
    "B = ['Libur', 'Kerja', 'Kerja tapi ingin Libur']\n",
    "\n",
    "for a,b in zip(A,B):\n",
    "    print('{} {}'.format(a,b))\n",
    "    \n",
    "# Apa yang terjadi jika listnya beda ukuran???... ==> hati-hati\n",
    "# sering juga digunakan di Parallel Processing di Python ==> dibahas di PDS3"
   ]
  },
  {
   "cell_type": "markdown",
   "metadata": {},
   "source": [
    "### Tidak hanya list comprehension"
   ]
  },
  {
   "cell_type": "code",
   "execution_count": null,
   "metadata": {},
   "outputs": [],
   "source": [
    "D = {hari:kegiatan for hari, kegiatan in zip(A,B)}\n",
    "D"
   ]
  },
  {
   "cell_type": "code",
   "execution_count": null,
   "metadata": {},
   "outputs": [],
   "source": [
    "type(D)"
   ]
  },
  {
   "cell_type": "code",
   "execution_count": null,
   "metadata": {},
   "outputs": [],
   "source": [
    "D['Minggu']"
   ]
  },
  {
   "cell_type": "markdown",
   "metadata": {},
   "source": [
    "## DS sering memuat data dengan informasi waktu\n",
    "### Media Sosial, log, artikel website, sensor, etc"
   ]
  },
  {
   "cell_type": "code",
   "execution_count": null,
   "metadata": {},
   "outputs": [],
   "source": [
    "# Variabel Date-Time\n",
    "from datetime import datetime\n",
    "# %a %b %d %l %m %M %z %Y https://www.foragoodstrftime.com/\n",
    "d1 = datetime.strptime('Jun 1 2005  1:33PM', '%b %d %Y %I:%M%p')\n",
    "d2 = datetime.strptime('Jun 1 2004  1:33PM', '%b %d %Y %I:%M%p')\n",
    "d1>d2"
   ]
  },
  {
   "cell_type": "code",
   "execution_count": null,
   "metadata": {},
   "outputs": [],
   "source": [
    "print(d1.day, d2.month)"
   ]
  },
  {
   "cell_type": "markdown",
   "metadata": {},
   "source": [
    "<h2 id=\"Latihan\">Latihan</h2>\n",
    "\n",
    "<p>* Bagaimana caranya memfilter teks yang terdiri dari huruf dan angka menjadi hanya hurufnya saja?</p>\n",
    "\n",
    "<p>&nbsp;</p>\n",
    "\n",
    "<p>* Misal :<br />\n",
    "T = &#39;Kata&nbsp;<em>udin634 si pembunuh337 adalah Iwan suyanto</em>&#39;</p>\n",
    "\n",
    "<p>* Jawaban harapan (huruf kecil semua)</p>\n",
    "\n",
    "<p>T =&nbsp;&#39;kata&nbsp;<em>udin&nbsp;si pembunuh&nbsp;adalah iwan suyanto</em>&#39;</p>\n"
   ]
  },
  {
   "cell_type": "code",
   "execution_count": 27,
   "metadata": {},
   "outputs": [
    {
     "data": {
      "text/plain": [
       "'kata udin si pembunuh adalah iwan suyanto'"
      ]
     },
     "execution_count": 27,
     "metadata": {},
     "output_type": "execute_result"
    }
   ],
   "source": [
    "# Coba jawaban Latihan di cell ini: \n",
    "T = 'Kata udin634 si pembunuh337 adalah Iwan suyanto'\n",
    "''.join([k.lower() for k in T if k.isalpha() or k ==' '])\n",
    "# Petunjuk: gunakan property \"isalpha\" pada variabel string di Python."
   ]
  },
  {
   "cell_type": "code",
   "execution_count": 32,
   "metadata": {},
   "outputs": [
    {
     "data": {
      "text/plain": [
       "[0.5, 0.6666666666666666, 0.8333333333333334, 1.0]"
      ]
     },
     "execution_count": 32,
     "metadata": {},
     "output_type": "execute_result"
    }
   ],
   "source": [
    "data = [3,4,5,6]\n",
    "jumlah = max(data)\n",
    "D = []\n",
    "for i in range(len(data)):\n",
    "    D.append(data[i]/jumlah)\n",
    "D"
   ]
  },
  {
   "cell_type": "code",
   "execution_count": 33,
   "metadata": {},
   "outputs": [
    {
     "data": {
      "text/plain": [
       "[0.5, 0.6666666666666666, 0.8333333333333334, 1.0]"
      ]
     },
     "execution_count": 33,
     "metadata": {},
     "output_type": "execute_result"
    }
   ],
   "source": [
    "[d/jumlah for d in data]"
   ]
  },
  {
   "cell_type": "markdown",
   "metadata": {},
   "source": [
    "<h1 id=\"Fungsi-di-Matematika-VS-Pemrograman\">Fungsi di Matematika VS Pemrograman</h1>\n",
    "\n",
    "<p><img alt=\"\" src=\"images/7_Fungsi_di_Pemrograman_vs_Math.png\" /></p>\n"
   ]
  },
  {
   "cell_type": "markdown",
   "metadata": {},
   "source": [
    "<h1 id=\"Fungsi-di-Python\">Fungsi di Python (Structured/Procedural) - Pure Functions</h1>\n",
    "\n",
    "<p><img alt=\"\" src=\"images/7_fungsi_py.png\" /></p>\n"
   ]
  },
  {
   "cell_type": "code",
   "execution_count": 35,
   "metadata": {},
   "outputs": [
    {
     "data": {
      "text/plain": [
       "(74, 1)"
      ]
     },
     "execution_count": 35,
     "metadata": {},
     "output_type": "execute_result"
    }
   ],
   "source": [
    "# Fungsi di Python cukup sederhana dan \n",
    "# parameter fungsi adalah variabel to reference\n",
    "# Sebaiknya diberikan multiple lines of metaFunction (keterangan tentang fungsi)\n",
    "\n",
    "def jumlah(A,B):\n",
    "    \"\"\"\n",
    "    ini adalah contoh fungsi sederhana penjumlahan 2 bilangan\n",
    "    input: a,b sembarang 2 bilangan (int/float)\n",
    "    output: a+b\n",
    "    \"\"\"\n",
    "    A = A + 7\n",
    "    return (A+B)+A**2 # atau simply (A+B)+A**2\n",
    "\n",
    "A = 1\n",
    "B = 2\n",
    "\n",
    "jumlah(A,B), A"
   ]
  },
  {
   "cell_type": "code",
   "execution_count": 25,
   "metadata": {},
   "outputs": [
    {
     "name": "stdout",
     "output_type": "stream",
     "text": [
      "Help on function jumlah in module __main__:\n",
      "\n",
      "jumlah(A, B)\n",
      "    ini adalah contoh fungsi sederhana penjumlahan 2 bilangan\n",
      "    input: a,b sembarang 2 bilangan (int/float)\n",
      "    output: a+b\n",
      "\n"
     ]
    }
   ],
   "source": [
    "# Kita bisa melakukan ini kalau kita membuat fungsi dengan \"estetika\" Python yang benar\n",
    "help(jumlah)"
   ]
  },
  {
   "cell_type": "code",
   "execution_count": 38,
   "metadata": {},
   "outputs": [
    {
     "data": {
      "text/plain": [
       "54"
      ]
     },
     "execution_count": 38,
     "metadata": {},
     "output_type": "execute_result"
    }
   ],
   "source": [
    "# default Value sangat berguna di DS/ML\n",
    "def jumlah(A, B=5):\n",
    "    C = B+A**2\n",
    "    return C\n",
    "\n",
    "jumlah(7)"
   ]
  },
  {
   "cell_type": "code",
   "execution_count": 45,
   "metadata": {},
   "outputs": [
    {
     "data": {
      "text/plain": [
       "1"
      ]
     },
     "execution_count": 45,
     "metadata": {},
     "output_type": "execute_result"
    }
   ],
   "source": [
    "def jumlah(A,B, C=5, E=8):\n",
    "    C = A**2 + B*3\n",
    "    return C\n",
    "\n",
    "jumlah(1,0)"
   ]
  },
  {
   "cell_type": "code",
   "execution_count": null,
   "metadata": {},
   "outputs": [],
   "source": [
    "# Hati-hati Python bisa membuat copy variabel\n",
    "\n",
    "A = 10\n",
    "def pungsi(A,B):\n",
    "    A = 6 # hindari melakukan ini karena jadi copy of memory di RAM\n",
    "    # A adalah variabel lokal, namun karena namanya = sebuah variabel global\n",
    "    # Maka terjadi copy memory\n",
    "    # Jangan mendefine var lokal = nama input parameter = var global\n",
    "    return A\n",
    "\n",
    "print(pungsi(A, 2))\n",
    "print(A) # tapiiii.... di dalam RAM tetap ada 2 A"
   ]
  },
  {
   "cell_type": "code",
   "execution_count": null,
   "metadata": {},
   "outputs": [],
   "source": [
    "# Solusi\n",
    "\n",
    "# Hati-hati Python bisa membuat copy variabel\n",
    "\n",
    "A = 10\n",
    "def pungsi(A,B):\n",
    "    B = A # di Python B hanya pointer ke A .... sehingga tidak ada copy memory\n",
    "    # ingat contoh pointer to reference di list sebelumnya\n",
    "    return B\n",
    "\n",
    "print(pungsi(A, 2))\n",
    "print(A) "
   ]
  },
  {
   "cell_type": "code",
   "execution_count": 48,
   "metadata": {},
   "outputs": [
    {
     "data": {
      "text/plain": [
       "4"
      ]
     },
     "execution_count": 48,
     "metadata": {},
     "output_type": "execute_result"
    }
   ],
   "source": [
    "# Contoh fungsi untuk menghitung jumlah kata di suatu status MedSos\n",
    "T = 'ada apa pagi ini?'\n",
    "\n",
    "def wordCount(S):\n",
    "    return len(S.split())\n",
    "\n",
    "wordCount(T) \n",
    "# perhatikan saya sengaja membuat T tapi di fungsi S\n",
    "# di Python S bukanlah copy memory dr T"
   ]
  },
  {
   "cell_type": "code",
   "execution_count": 50,
   "metadata": {},
   "outputs": [
    {
     "name": "stdout",
     "output_type": "stream",
     "text": [
      "7 105\n",
      "35\n"
     ]
    }
   ],
   "source": [
    "A = 3\n",
    "C = 7\n",
    "\n",
    "def pungsi(A):\n",
    "    global C\n",
    "    C = C*5\n",
    "    return A*C\n",
    "\n",
    "# Berguna untuk data tidak terstruktur, misal menghitung frekuensi kata di suatu corpus\n",
    "print(C, pungsi(A))\n",
    "print(C)"
   ]
  },
  {
   "cell_type": "code",
   "execution_count": 53,
   "metadata": {},
   "outputs": [
    {
     "name": "stdout",
     "output_type": "stream",
     "text": [
      "None\n"
     ]
    }
   ],
   "source": [
    "# return adalah \"break\" di fungsi\n",
    "\n",
    "def f(N):\n",
    "    for i in range(N):\n",
    "        if i>7:\n",
    "            return i\n",
    "A = f(5)\n",
    "print(A)"
   ]
  },
  {
   "cell_type": "code",
   "execution_count": null,
   "metadata": {},
   "outputs": [],
   "source": [
    "a = f(20)\n",
    "a"
   ]
  },
  {
   "cell_type": "markdown",
   "metadata": {},
   "source": [
    "### Apa yg terjadi di fungsi diatas ketika N = 5???"
   ]
  },
  {
   "cell_type": "code",
   "execution_count": null,
   "metadata": {},
   "outputs": [],
   "source": [
    "a = f(5)\n",
    "print(a)\n",
    "# Hati-hati kesalahan semacam ini di Python"
   ]
  },
  {
   "cell_type": "code",
   "execution_count": 54,
   "metadata": {},
   "outputs": [
    {
     "name": "stdout",
     "output_type": "stream",
     "text": [
      "5 6\n"
     ]
    }
   ],
   "source": [
    "# function bisa return >1 value\n",
    "\n",
    "def F(a,b):\n",
    "    return a+b, a*b\n",
    "\n",
    "C, D = F(3,2)\n",
    "print(C,D)"
   ]
  },
  {
   "cell_type": "code",
   "execution_count": 55,
   "metadata": {},
   "outputs": [
    {
     "data": {
      "text/plain": [
       "5"
      ]
     },
     "execution_count": 55,
     "metadata": {},
     "output_type": "execute_result"
    }
   ],
   "source": [
    "# Kalau hanya perlu satu nilai saja maka bisa lakukan hal ini (kebiasaan para programmer utk \"membuang variable\")\n",
    "C, _ = F(3,2)\n",
    "C"
   ]
  },
  {
   "cell_type": "code",
   "execution_count": 56,
   "metadata": {},
   "outputs": [
    {
     "data": {
      "text/plain": [
       "5"
      ]
     },
     "execution_count": 56,
     "metadata": {},
     "output_type": "execute_result"
    }
   ],
   "source": [
    "# cara lain\n",
    "C = F(3,2)[0]\n",
    "C"
   ]
  },
  {
   "cell_type": "markdown",
   "metadata": {},
   "source": [
    "# Map Function"
   ]
  },
  {
   "cell_type": "code",
   "execution_count": 57,
   "metadata": {},
   "outputs": [
    {
     "name": "stdout",
     "output_type": "stream",
     "text": [
      "Masukkan array/List L = 12 34 56\n"
     ]
    },
    {
     "data": {
      "text/plain": [
       "['12', '34', '56']"
      ]
     },
     "execution_count": 57,
     "metadata": {},
     "output_type": "execute_result"
    }
   ],
   "source": [
    "# Sebelumnya kita punya cantoh seperti ini:\n",
    "L = input('Masukkan array/List L = ')\n",
    "L = L.split()\n",
    "L"
   ]
  },
  {
   "cell_type": "code",
   "execution_count": 60,
   "metadata": {},
   "outputs": [
    {
     "data": {
      "text/plain": [
       "[12, 34, 56]"
      ]
     },
     "execution_count": 60,
     "metadata": {},
     "output_type": "execute_result"
    }
   ],
   "source": [
    "# Lalu kita melakukan ini\n",
    "[int(l) for l in L]"
   ]
  },
  {
   "cell_type": "code",
   "execution_count": 62,
   "metadata": {},
   "outputs": [],
   "source": [
    "def p(x):\n",
    "    return x+3\n",
    "    "
   ]
  },
  {
   "cell_type": "code",
   "execution_count": 63,
   "metadata": {},
   "outputs": [
    {
     "data": {
      "text/plain": [
       "[5, 9, 7]"
      ]
     },
     "execution_count": 63,
     "metadata": {},
     "output_type": "execute_result"
    }
   ],
   "source": [
    "A  = [2,6,4]\n",
    "[p(a) for a in A]"
   ]
  },
  {
   "cell_type": "code",
   "execution_count": 64,
   "metadata": {},
   "outputs": [
    {
     "data": {
      "text/plain": [
       "[5, 9, 7]"
      ]
     },
     "execution_count": 64,
     "metadata": {},
     "output_type": "execute_result"
    }
   ],
   "source": [
    "list( map(p,A) )"
   ]
  },
  {
   "cell_type": "code",
   "execution_count": 59,
   "metadata": {},
   "outputs": [
    {
     "data": {
      "text/plain": [
       "[12, 34, 56]"
      ]
     },
     "execution_count": 59,
     "metadata": {},
     "output_type": "execute_result"
    }
   ],
   "source": [
    "# Tapi ada alternatif lain dengan Map function\n",
    "list( map(int, L) )\n",
    "# ini lebih cepat dan efisien"
   ]
  },
  {
   "cell_type": "code",
   "execution_count": 66,
   "metadata": {},
   "outputs": [
    {
     "data": {
      "text/plain": [
       "[4, 9, 1, 36]"
      ]
     },
     "execution_count": 66,
     "metadata": {},
     "output_type": "execute_result"
    }
   ],
   "source": [
    "# Contoh lain\n",
    "def kuadratkan(x):\n",
    "    return x*x\n",
    "\n",
    "A = [2,3,1,6]\n",
    "list(map(kuadratkan, A))"
   ]
  },
  {
   "cell_type": "markdown",
   "metadata": {},
   "source": [
    "## ``*args`` and ``**kwargs``: Flexible Arguments\n",
    "\n",
    "* Terkadang kita butuh untuk membuat fungsi, tapi tidak tau pasti berapa banyak parameter yang dibutuhkan.\n",
    "* ``*args`` and ``**kwargs`` digunakan pada kondisi seperti ini untuk menangkap semua parameter yang diberikan\n",
    "* parameter fungsi terkadang disebut juga arguments\n",
    "* Berikut contohnya:"
   ]
  },
  {
   "cell_type": "code",
   "execution_count": 68,
   "metadata": {},
   "outputs": [],
   "source": [
    "def tangkap_parameter(*args, **kwargs):\n",
    "    print(\"tipe args = {}, isinya = {}\".format(type(args),args))\n",
    "    print(\"tipe kwargs = {}, isinya = {}\".format(type(kwargs),kwargs))"
   ]
  },
  {
   "cell_type": "code",
   "execution_count": 69,
   "metadata": {
    "scrolled": true
   },
   "outputs": [
    {
     "name": "stdout",
     "output_type": "stream",
     "text": [
      "tipe args = <class 'tuple'>, isinya = (1, 2, 3)\n",
      "tipe kwargs = <class 'dict'>, isinya = {'a': 4, 'b': 5}\n"
     ]
    }
   ],
   "source": [
    "tangkap_parameter(1, 2, 3, a=4, b=5)"
   ]
  },
  {
   "cell_type": "code",
   "execution_count": 70,
   "metadata": {},
   "outputs": [
    {
     "name": "stdout",
     "output_type": "stream",
     "text": [
      "tipe args = <class 'tuple'>, isinya = ('a',)\n",
      "tipe kwargs = <class 'dict'>, isinya = {'keyword': 2}\n"
     ]
    }
   ],
   "source": [
    "tangkap_parameter('a',  keyword=2)"
   ]
  },
  {
   "cell_type": "code",
   "execution_count": 71,
   "metadata": {},
   "outputs": [
    {
     "name": "stdout",
     "output_type": "stream",
     "text": [
      "tipe args = <class 'tuple'>, isinya = (1, 2, 3)\n",
      "tipe kwargs = <class 'dict'>, isinya = {'pi': 3.14}\n"
     ]
    }
   ],
   "source": [
    "# tentu saja kita bisa juga melakukan ini\n",
    "# tapi hati-hati kita butuh tanda * dan **\n",
    "\n",
    "T = (1, 2, 3)\n",
    "D = {'pi': 3.14}\n",
    "\n",
    "tangkap_parameter(*T, **D)"
   ]
  },
  {
   "cell_type": "markdown",
   "metadata": {},
   "source": [
    "# Lambdas\n",
    "\n",
    "* Lambda adalah \"fungsi sementara\"/disposable\n",
    "* Sering digunakan untuk argument/parameter di fungsi lain. \n",
    "* Dengan kata lain ada fungsi yang inputnya fungsi (lambda)\n",
    "* Contoh:"
   ]
  },
  {
   "cell_type": "code",
   "execution_count": 73,
   "metadata": {},
   "outputs": [
    {
     "data": {
      "text/plain": [
       "15"
      ]
     },
     "execution_count": 73,
     "metadata": {},
     "output_type": "execute_result"
    }
   ],
   "source": [
    "# Contoh sederhana\n",
    "F = lambda a : a + 10\n",
    "F(5)"
   ]
  },
  {
   "cell_type": "code",
   "execution_count": 74,
   "metadata": {},
   "outputs": [
    {
     "data": {
      "text/plain": [
       "15"
      ]
     },
     "execution_count": 74,
     "metadata": {},
     "output_type": "execute_result"
    }
   ],
   "source": [
    "def F(a):\n",
    "    return a+10\n",
    "F(5)"
   ]
  },
  {
   "cell_type": "code",
   "execution_count": 75,
   "metadata": {},
   "outputs": [
    {
     "data": {
      "text/plain": [
       "13"
      ]
     },
     "execution_count": 75,
     "metadata": {},
     "output_type": "execute_result"
    }
   ],
   "source": [
    "# Contoh lain\n",
    "x = lambda a, b, c : a + b + c\n",
    "\n",
    "x(5, 6, 2)"
   ]
  },
  {
   "cell_type": "markdown",
   "metadata": {},
   "source": [
    "## Tapi mengapa tidak pakai fungsi yang biasa saja?\n"
   ]
  },
  {
   "cell_type": "code",
   "execution_count": 76,
   "metadata": {},
   "outputs": [
    {
     "name": "stdout",
     "output_type": "stream",
     "text": [
      "22\n"
     ]
    }
   ],
   "source": [
    "# Biasanya usecasenya seperti ini\n",
    "def F(n):\n",
    "  return lambda a : a * n\n",
    "\n",
    "P = F(2)\n",
    "\n",
    "print(P(11))"
   ]
  },
  {
   "cell_type": "code",
   "execution_count": 77,
   "metadata": {},
   "outputs": [
    {
     "data": {
      "text/plain": [
       "<function __main__.F.<locals>.<lambda>(a)>"
      ]
     },
     "execution_count": 77,
     "metadata": {},
     "output_type": "execute_result"
    }
   ],
   "source": [
    "# Mungkin ini bisa membantu\n",
    "F(2)"
   ]
  },
  {
   "cell_type": "code",
   "execution_count": 78,
   "metadata": {},
   "outputs": [
    {
     "data": {
      "text/plain": [
       "22"
      ]
     },
     "execution_count": 78,
     "metadata": {},
     "output_type": "execute_result"
    }
   ],
   "source": [
    "F(2)(11) # ini seharusnya memperjelas"
   ]
  },
  {
   "cell_type": "code",
   "execution_count": null,
   "metadata": {},
   "outputs": [],
   "source": []
  },
  {
   "cell_type": "code",
   "execution_count": 84,
   "metadata": {},
   "outputs": [
    {
     "data": {
      "text/plain": [
       "[(0, 'three'), (2, 'two'), (5, 'afive'), (7, 'one'), (99, 'four')]"
      ]
     },
     "execution_count": 84,
     "metadata": {},
     "output_type": "execute_result"
    }
   ],
   "source": [
    "# Fungsi sederhana ini mengurutkan list of tuples berdasarkan elemen pertama\n",
    "# di DS hal seperti ini sangat sering muncul\n",
    "\n",
    "pairs = [(7, 'one'), (2, 'two'), (0, 'three'), (99, 'four'), (5,'afive')] # List of Tuples\n",
    "pairs.sort(key=lambda x: x[0])  # nama fungsi lambdanya \"key\"\n",
    "pairs"
   ]
  },
  {
   "cell_type": "markdown",
   "metadata": {},
   "source": [
    "# Python untuk Komputasi Numerik"
   ]
  },
  {
   "cell_type": "code",
   "execution_count": 96,
   "metadata": {},
   "outputs": [
    {
     "name": "stdout",
     "output_type": "stream",
     "text": [
      "[2.1 2.8 1.9 2.5 2.7 2.3 1.8 1.2 0.9 0.1]\n"
     ]
    },
    {
     "data": {
      "text/plain": [
       "(10,)"
      ]
     },
     "execution_count": 96,
     "metadata": {},
     "output_type": "execute_result"
    }
   ],
   "source": [
    "import numpy as np\n",
    "\n",
    "s = [2.1, 2.8, 1.9, 2.5, 2.7, 2.3, 1.8, 1.2, 0.9, 0.1]\n",
    "C = np.array(s)\n",
    "print(C)\n",
    "C.shape"
   ]
  },
  {
   "cell_type": "code",
   "execution_count": 92,
   "metadata": {},
   "outputs": [
    {
     "name": "stdout",
     "output_type": "stream",
     "text": [
      "[5.2 6.6 4.8 6.  6.4 5.6 4.6 3.4 2.8 1.2]\n"
     ]
    }
   ],
   "source": [
    "# elemen wise operations\n",
    "print(C * 2+1)"
   ]
  },
  {
   "cell_type": "code",
   "execution_count": 95,
   "metadata": {},
   "outputs": [
    {
     "data": {
      "text/plain": [
       "list"
      ]
     },
     "execution_count": 95,
     "metadata": {},
     "output_type": "execute_result"
    }
   ],
   "source": [
    "C = C.tolist()\n",
    "type(C)"
   ]
  },
  {
   "cell_type": "code",
   "execution_count": 91,
   "metadata": {},
   "outputs": [
    {
     "ename": "TypeError",
     "evalue": "can only concatenate list (not \"int\") to list",
     "output_type": "error",
     "traceback": [
      "\u001b[1;31m---------------------------------------------------------------------------\u001b[0m",
      "\u001b[1;31mTypeError\u001b[0m                                 Traceback (most recent call last)",
      "\u001b[1;32m<ipython-input-91-e4c794ceb43e>\u001b[0m in \u001b[0;36m<module>\u001b[1;34m\u001b[0m\n\u001b[1;32m----> 1\u001b[1;33m \u001b[0mprint\u001b[0m\u001b[1;33m(\u001b[0m\u001b[0ms\u001b[0m \u001b[1;33m*\u001b[0m \u001b[1;36m2\u001b[0m\u001b[1;33m+\u001b[0m\u001b[1;36m1\u001b[0m\u001b[1;33m)\u001b[0m\u001b[1;33m\u001b[0m\u001b[1;33m\u001b[0m\u001b[0m\n\u001b[0m\u001b[0;32m      2\u001b[0m \u001b[1;31m# Error : tidak bisa dilakukan di List\u001b[0m\u001b[1;33m\u001b[0m\u001b[1;33m\u001b[0m\u001b[1;33m\u001b[0m\u001b[0m\n",
      "\u001b[1;31mTypeError\u001b[0m: can only concatenate list (not \"int\") to list"
     ]
    }
   ],
   "source": [
    "print(s * 2+1)\n",
    "# Error : tidak bisa dilakukan di List"
   ]
  },
  {
   "cell_type": "code",
   "execution_count": 99,
   "metadata": {},
   "outputs": [
    {
     "name": "stdout",
     "output_type": "stream",
     "text": [
      "[ 2 15]\n"
     ]
    }
   ],
   "source": [
    "A = np.array([2,3])\n",
    "B = np.array([1,5])\n",
    "print(A*B)"
   ]
  },
  {
   "cell_type": "code",
   "execution_count": 100,
   "metadata": {},
   "outputs": [
    {
     "name": "stdout",
     "output_type": "stream",
     "text": [
      "17\n"
     ]
    }
   ],
   "source": [
    "print(np.dot(A,B)) # Jarak Euclidean di Data Science, misal k-Means"
   ]
  },
  {
   "cell_type": "code",
   "execution_count": 101,
   "metadata": {},
   "outputs": [
    {
     "name": "stdout",
     "output_type": "stream",
     "text": [
      "(2, 2)\n",
      "\n",
      "[[1 2]\n",
      " [3 4]]\n"
     ]
    }
   ],
   "source": [
    "# Matrix\n",
    "A = [ [1,2], [3,4] ]\n",
    "B = np.array(A)\n",
    "print(B.shape)\n",
    "print()\n",
    "print(B)"
   ]
  },
  {
   "cell_type": "code",
   "execution_count": 102,
   "metadata": {},
   "outputs": [
    {
     "data": {
      "text/plain": [
       "array([[ 7, 10],\n",
       "       [15, 22]])"
      ]
     },
     "execution_count": 102,
     "metadata": {},
     "output_type": "execute_result"
    }
   ],
   "source": [
    "np.matmul(B,B) # Matlab version of B*B"
   ]
  },
  {
   "cell_type": "code",
   "execution_count": 103,
   "metadata": {},
   "outputs": [
    {
     "data": {
      "text/plain": [
       "array([[2, 4],\n",
       "       [6, 8]])"
      ]
     },
     "execution_count": 103,
     "metadata": {},
     "output_type": "execute_result"
    }
   ],
   "source": [
    "# Defaultnya elemen wise operation\n",
    "B*2"
   ]
  },
  {
   "cell_type": "code",
   "execution_count": 104,
   "metadata": {},
   "outputs": [
    {
     "data": {
      "text/plain": [
       "array([[1, 3],\n",
       "       [2, 4]])"
      ]
     },
     "execution_count": 104,
     "metadata": {},
     "output_type": "execute_result"
    }
   ],
   "source": [
    "B.transpose() # ini versi matlab dari B'"
   ]
  },
  {
   "cell_type": "code",
   "execution_count": 105,
   "metadata": {},
   "outputs": [
    {
     "data": {
      "text/plain": [
       "array([[-2. ,  1. ],\n",
       "       [ 1.5, -0.5]])"
      ]
     },
     "execution_count": 105,
     "metadata": {},
     "output_type": "execute_result"
    }
   ],
   "source": [
    "inv = np.linalg.inv # alias\n",
    "#np.linalg.inv(B) # ini versi Matlab dari inv(B)\n",
    "inv(B)"
   ]
  },
  {
   "cell_type": "code",
   "execution_count": 106,
   "metadata": {},
   "outputs": [
    {
     "data": {
      "text/plain": [
       "-2.0000000000000004"
      ]
     },
     "execution_count": 106,
     "metadata": {},
     "output_type": "execute_result"
    }
   ],
   "source": [
    "det = np.linalg.det\n",
    "det(B) # Determinan Matriks B"
   ]
  },
  {
   "cell_type": "code",
   "execution_count": null,
   "metadata": {},
   "outputs": [],
   "source": [
    "C"
   ]
  },
  {
   "cell_type": "code",
   "execution_count": 107,
   "metadata": {},
   "outputs": [
    {
     "data": {
      "image/png": "[encoded data removed]",
      "text/plain": [
       "<Figure size 432x288 with 1 Axes>"
      ]
     },
     "metadata": {
      "needs_background": "light"
     },
     "output_type": "display_data"
    }
   ],
   "source": [
    "import matplotlib.pyplot as plt\n",
    "plt.plot(C)\n",
    "plt.show()"
   ]
  },
  {
   "cell_type": "markdown",
   "metadata": {},
   "source": [
    "<h2 id=\"List-VS-Array-:-Best-use-scenario\">List VS Array : Best use scenario</h2>\n"
   ]
  },
  {
   "cell_type": "code",
   "execution_count": 108,
   "metadata": {},
   "outputs": [
    {
     "name": "stdout",
     "output_type": "stream",
     "text": [
      "108 96 64 88\n"
     ]
    }
   ],
   "source": [
    "# Perbandingan memory usage (bit)\n",
    "from sys import getsizeof as size\n",
    "\n",
    "a = np.array([24, 12, 57])\n",
    "b = np.array([])\n",
    "c = []\n",
    "d = [24, 12, 57]\n",
    "print(size(a),size(b),size(c),size(d))"
   ]
  },
  {
   "cell_type": "code",
   "execution_count": 111,
   "metadata": {},
   "outputs": [
    {
     "data": {
      "text/plain": [
       "array([ 0,  2,  4,  6,  8, 10, 12, 14, 16, 18])"
      ]
     },
     "execution_count": 111,
     "metadata": {},
     "output_type": "execute_result"
    }
   ],
   "source": [
    "# Mari test perbandingan kecepatan numpy vs list\n",
    "# Di Data Science EFISIENSI sangat penting\n",
    "N = 10000\n",
    "A = [i+1 for i in range(N)] # [1,2,3,...,N]\n",
    "B = [i*2 for i in range(N)]\n",
    "C = np.array(A)\n",
    "D = np.array(B)\n",
    "D[:10]"
   ]
  },
  {
   "cell_type": "code",
   "execution_count": 113,
   "metadata": {},
   "outputs": [
    {
     "name": "stdout",
     "output_type": "stream",
     "text": [
      "727 µs ± 209 µs per loop (mean ± std. dev. of 7 runs, 1000 loops each)\n"
     ]
    }
   ],
   "source": [
    "%%timeit\n",
    "E = [a+b for a,b in zip(A,B)]"
   ]
  },
  {
   "cell_type": "code",
   "execution_count": 112,
   "metadata": {},
   "outputs": [
    {
     "name": "stdout",
     "output_type": "stream",
     "text": [
      "8.37 µs ± 2.24 µs per loop (mean ± std. dev. of 7 runs, 100000 loops each)\n"
     ]
    }
   ],
   "source": [
    "%%timeit\n",
    "F = np.add(C,D)"
   ]
  },
  {
   "cell_type": "code",
   "execution_count": null,
   "metadata": {},
   "outputs": [],
   "source": [
    "# Histogram\n",
    "data = np.random.normal(size=10000)\n",
    "plt.hist(data)\n",
    "plt.title(\"Gaussian Histogram\")\n",
    "plt.xlabel(\"Value\")\n",
    "plt.ylabel(\"Frequency\")\n",
    "plt.show()"
   ]
  },
  {
   "cell_type": "code",
   "execution_count": null,
   "metadata": {},
   "outputs": [],
   "source": [
    "X = np.linspace(-2 * np.pi, 2 * np.pi, 50, endpoint=True)\n",
    "F1 = 3 * np.sin(X)\n",
    "F2 = np.sin(2*X)\n",
    "F3 = 0.3 * np.sin(X)\n",
    "startx, endx = -2 * np.pi - 0.1, 2*np.pi + 0.1\n",
    "starty, endy = -3.1, 3.1\n",
    "plt.axis([startx, endx, starty, endy])\n",
    "plt.plot(X,F1)\n",
    "plt.plot(X,F2)\n",
    "plt.plot(X,F3)\n",
    "plt.plot(X, F1, 'ro')\n",
    "plt.plot(X, F2, 'bx')\n",
    "plt.show()\n",
    "# Comment F1, F2, F3 untuk contoh scatter plot"
   ]
  },
  {
   "cell_type": "markdown",
   "metadata": {},
   "source": [
    "# Pendahuluan Functional Programming\n",
    "<ul>\n",
    "\t<li><a href=\"images/7_Intro to Functional Programming - DelftX on edX.mkv\" target=\"_blank\"><strong>VIDEO</strong></a></li>\n",
    "</ul>\n",
    "\n",
    "<video controls src=\"images/7_Intro to Functional Programming - DelftX on edX.mkv\" />"
   ]
  },
  {
   "cell_type": "markdown",
   "metadata": {},
   "source": [
    "# Functional Programming (FP)\n",
    "\n",
    "* Lebih mirip ke definisi Fungsi di Matematika\n",
    "* Fungsi di Python adalah _first class values_ artinya input dan outputnya bisa berupa fungsi\n",
    "* Sehingga FP dapat dijelaskan dengan singkat sebagai: \"Using Functions as Values\" - Menggunakan fungsi sebagai data\n",
    "* Cocok untuk concurrency (eksekusi bersamaan/parallel) seperti big data atau distributed computing secara umum."
   ]
  },
  {
   "cell_type": "markdown",
   "metadata": {},
   "source": [
    "<h1 id=\"Paradigma-Pemrograman\">Paradigma Pemrograman</h1>\n",
    "\n",
    "<p><img alt=\"\" src=\"images/7_Taxonomy_Programming_Paradigms.png\" style=\"width: 800px; height: 602px;\" /></p>\n"
   ]
  },
  {
   "cell_type": "markdown",
   "metadata": {},
   "source": [
    "<h1 id=\"Paradigma-Pemrograman-dan-Bahasa-Pemrograman\">Paradigma Pemrograman dan Bahasa Pemrograman</h1>\n",
    "\n",
    "<p><img alt=\"\" src=\"images/7_Programming_Paradigms_Ex.png\" style=\"width: 800px; height: 375px;\" /></p>\n"
   ]
  },
  {
   "cell_type": "markdown",
   "metadata": {},
   "source": [
    "# Paradigms in Programming\n",
    "\n",
    "* paradigms : ways of how we frame our problems\n",
    "* Bukan berarti cara utk mempersingkat code, tapi lebih ke \" _way of thinking_\""
   ]
  },
  {
   "cell_type": "code",
   "execution_count": 11,
   "metadata": {},
   "outputs": [
    {
     "name": "stdout",
     "output_type": "stream",
     "text": [
      "689 ns ± 196 ns per loop (mean ± std. dev. of 7 runs, 1000000 loops each)\n"
     ]
    }
   ],
   "source": [
    "%%timeit\n",
    "# FP :  Functions as arguments\n",
    "def calc(f, x, y):\n",
    "    return f(x,y)\n",
    "def add(x,y):\n",
    "    return x+y\n",
    "def sub(x,y):\n",
    "    return x-y\n",
    "\n",
    "x, y = calc(add, 10, 20), calc(sub, 10, 5)\n"
   ]
  },
  {
   "cell_type": "code",
   "execution_count": 12,
   "metadata": {},
   "outputs": [
    {
     "name": "stdout",
     "output_type": "stream",
     "text": [
      "485 ns ± 142 ns per loop (mean ± std. dev. of 7 runs, 1000000 loops each)\n"
     ]
    }
   ],
   "source": [
    "%%timeit\n",
    "\n",
    "x, y = calc(lambda x, y: x+y, 10, 20), calc(lambda x, y: x-y, 10, 5)"
   ]
  },
  {
   "cell_type": "code",
   "execution_count": 3,
   "metadata": {},
   "outputs": [
    {
     "name": "stdout",
     "output_type": "stream",
     "text": [
      "140\n",
      "5\n"
     ]
    }
   ],
   "source": [
    "# Lambda Functions in FP\n",
    "# Digunakan jika fungsinya sederhana dan fungsi tsb tidak digunakan lagi dimana-mana\n",
    "\n",
    "def calc(f, x, y):\n",
    "    return f(x,y)\n",
    "\n",
    "print( calc(lambda x, y: x**2+2*x+y, 10, 20) )\n",
    "print( calc(lambda x, y: x-y, 10, 5) )"
   ]
  },
  {
   "cell_type": "code",
   "execution_count": 4,
   "metadata": {},
   "outputs": [
    {
     "data": {
      "text/plain": [
       "[3, 5, 8]"
      ]
     },
     "execution_count": 4,
     "metadata": {},
     "output_type": "execute_result"
    }
   ],
   "source": [
    "# Converting Procedural ==> Functional\n",
    "def incr(x):\n",
    "    return x+1\n",
    "\n",
    "def inc_each(L):\n",
    "    hasil = []\n",
    "    for elemen in L:\n",
    "        hasil.append( incr(elemen) )\n",
    "    return hasil\n",
    "\n",
    "inc_each([2, 4, 7])"
   ]
  },
  {
   "cell_type": "markdown",
   "metadata": {},
   "source": [
    "<img alt=\"\" src=\"images/map-filter-reduce.png\" />"
   ]
  },
  {
   "cell_type": "markdown",
   "metadata": {},
   "source": [
    "# Map"
   ]
  },
  {
   "cell_type": "code",
   "execution_count": 5,
   "metadata": {},
   "outputs": [
    {
     "data": {
      "text/plain": [
       "[3, 5, 8]"
      ]
     },
     "execution_count": 5,
     "metadata": {},
     "output_type": "execute_result"
    }
   ],
   "source": [
    "# Solution di Python using FP - \"map\" function\n",
    "list( map(incr, [2, 4, 7]) )"
   ]
  },
  {
   "cell_type": "code",
   "execution_count": 6,
   "metadata": {},
   "outputs": [
    {
     "name": "stdout",
     "output_type": "stream",
     "text": [
      "3\n",
      "5\n",
      "8\n"
     ]
    }
   ],
   "source": [
    "for l in map(incr, [2, 4, 7]):\n",
    "    print(l)"
   ]
  },
  {
   "cell_type": "code",
   "execution_count": 7,
   "metadata": {},
   "outputs": [
    {
     "data": {
      "text/plain": [
       "[3, 5, 8]"
      ]
     },
     "execution_count": 7,
     "metadata": {},
     "output_type": "execute_result"
    }
   ],
   "source": [
    "# ATAU\n",
    "list( map(lambda x: x+1, [2, 4, 7]) )"
   ]
  },
  {
   "cell_type": "code",
   "execution_count": null,
   "metadata": {},
   "outputs": [],
   "source": [
    "# Contoh Lain\n",
    "# menghitung panjang setiap sub vector (kata)\n",
    "def hitung_panjang(Ls):\n",
    "    hasil = []\n",
    "    for e in Ls:\n",
    "        hasil.append( len(e) )\n",
    "    return hasil\n",
    "\n",
    "T = 'ini sembarang kalimat yang tidak memiliki makna khusus'\n",
    "hitung_panjang(T.split())"
   ]
  },
  {
   "cell_type": "code",
   "execution_count": 8,
   "metadata": {},
   "outputs": [
    {
     "data": {
      "text/plain": [
       "[3, 6, 9, 7]"
      ]
     },
     "execution_count": 8,
     "metadata": {},
     "output_type": "execute_result"
    }
   ],
   "source": [
    "# Di FP (MAP)\n",
    "A = 'ini adalah sembarang kalimat'\n",
    "list( map(len, A.split()) )"
   ]
  },
  {
   "cell_type": "code",
   "execution_count": null,
   "metadata": {},
   "outputs": [],
   "source": [
    "# Penting untuk mengetahui Fungsi umum MAP\n",
    "# General MAP function (ga hanya len): Contoh\n",
    "\n",
    "def func(x):\n",
    "    return x**2+1\n",
    "\n",
    "list( map(func, [1,2,3]) )"
   ]
  },
  {
   "cell_type": "code",
   "execution_count": 18,
   "metadata": {},
   "outputs": [
    {
     "data": {
      "text/plain": [
       "[2, 5, 10]"
      ]
     },
     "execution_count": 18,
     "metadata": {},
     "output_type": "execute_result"
    }
   ],
   "source": [
    "list( map(lambda x: x**2+1, [1,2,3]) )"
   ]
  },
  {
   "cell_type": "code",
   "execution_count": null,
   "metadata": {},
   "outputs": [],
   "source": [
    "list( map(lambda x: x%2!=0, [2,5,3,8,7]) )"
   ]
  },
  {
   "cell_type": "markdown",
   "metadata": {},
   "source": [
    "# Filter"
   ]
  },
  {
   "cell_type": "code",
   "execution_count": 13,
   "metadata": {},
   "outputs": [
    {
     "data": {
      "text/plain": [
       "[5, 3, 7]"
      ]
     },
     "execution_count": 13,
     "metadata": {},
     "output_type": "execute_result"
    }
   ],
   "source": [
    "# Filter: bedanya jumlah elemen input (argumen) berkurang panjangnya\n",
    "\n",
    "list( filter(lambda x: x%2!=0, [2,5,3,8,7]) )"
   ]
  },
  {
   "cell_type": "code",
   "execution_count": 14,
   "metadata": {},
   "outputs": [
    {
     "data": {
      "text/plain": [
       "4"
      ]
     },
     "execution_count": 14,
     "metadata": {},
     "output_type": "execute_result"
    }
   ],
   "source": [
    "jk = ['pria', 'pria', 'wanita', 'pria', 'pria']\n",
    "len( list( filter(lambda x:x=='pria', jk)))"
   ]
  },
  {
   "cell_type": "code",
   "execution_count": 15,
   "metadata": {},
   "outputs": [],
   "source": [
    "umur = [23, 9, 4, 15, 45, 57, 51, 23, 3, 16, 19]"
   ]
  },
  {
   "cell_type": "code",
   "execution_count": 16,
   "metadata": {},
   "outputs": [
    {
     "data": {
      "text/plain": [
       "[15, 16, 19]"
      ]
     },
     "execution_count": 16,
     "metadata": {},
     "output_type": "execute_result"
    }
   ],
   "source": [
    "F = filter(lambda x: x>12 and x<20, umur)\n",
    "list(F)"
   ]
  },
  {
   "cell_type": "markdown",
   "metadata": {},
   "source": [
    "# Reduce"
   ]
  },
  {
   "cell_type": "code",
   "execution_count": 19,
   "metadata": {},
   "outputs": [
    {
     "data": {
      "text/plain": [
       "15"
      ]
     },
     "execution_count": 19,
     "metadata": {},
     "output_type": "execute_result"
    }
   ],
   "source": [
    "def SUM(L):\n",
    "    s = 0\n",
    "    for e in L:\n",
    "        s = s + e\n",
    "    return s\n",
    "SUM([1,2,3,4,5])"
   ]
  },
  {
   "cell_type": "code",
   "execution_count": 22,
   "metadata": {},
   "outputs": [
    {
     "data": {
      "text/plain": [
       "15"
      ]
     },
     "execution_count": 22,
     "metadata": {},
     "output_type": "execute_result"
    }
   ],
   "source": [
    "# Reduce: F:R^M ==> R^N where  N<M\n",
    "from functools import reduce\n",
    "\n",
    "reduce(lambda a,c: a+c, [1,2,3,4,5], 0) #tak perlu \"list\" karena skalar"
   ]
  },
  {
   "cell_type": "markdown",
   "metadata": {},
   "source": [
    "<p><img alt=\"\" src=\"images/7_reduce.png\" style=\"width: 556px; height: 282px;\" /></p>\n"
   ]
  },
  {
   "cell_type": "code",
   "execution_count": 23,
   "metadata": {},
   "outputs": [
    {
     "data": {
      "text/plain": [
       "120"
      ]
     },
     "execution_count": 23,
     "metadata": {},
     "output_type": "execute_result"
    }
   ],
   "source": [
    "reduce(lambda a,c: a*c, [1,2,3,4,5], 1) # Reduce utk menghitung faktorial"
   ]
  },
  {
   "cell_type": "markdown",
   "metadata": {},
   "source": [
    "<h1>Map-Reduce di Functional Programing adalah dasar pemrograman (operasi) di Big Data</h1>\n",
    "\n",
    "<p><img alt=\"\" src=\"images/MapReduce.png\" /></p>\n"
   ]
  },
  {
   "cell_type": "markdown",
   "metadata": {
    "slideshow": {
     "slide_type": "slide"
    }
   },
   "source": [
    "# <center><font color=\"blue\"> End of Module 02\n",
    "\n",
    "<hr />\n",
    "<img alt=\"\" src=\"images/7_Functional_Prog_Meme.png\" />"
   ]
  }
 ],
 "metadata": {
  "celltoolbar": "Slideshow",
  "kernelspec": {
   "display_name": "Python 3",
   "language": "python",
   "name": "python3"
  },
  "language_info": {
   "codemirror_mode": {
    "name": "ipython",
    "version": 3
   },
   "file_extension": ".py",
   "mimetype": "text/x-python",
   "name": "python",
   "nbconvert_exporter": "python",
   "pygments_lexer": "ipython3",
   "version": "3.6.8"
  }
 },
 "nbformat": 4,
 "nbformat_minor": 2
}
